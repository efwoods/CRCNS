{
 "cells": [
  {
   "cell_type": "code",
   "execution_count": 30,
   "id": "e6e5d575",
   "metadata": {},
   "outputs": [],
   "source": [
    "import torch.nn as nn\n",
    "import numpy as np\n",
    "from torch.utils.data import Dataset, DataLoader\n",
    "import torch\n",
    "import pandas as pd\n",
    "from glob import glob\n",
    "import os"
   ]
  },
  {
   "cell_type": "code",
   "execution_count": 31,
   "id": "643660ae",
   "metadata": {},
   "outputs": [],
   "source": [
    "# Constants\n",
    "ECOG_SAMPLES = 1024398\n",
    "MOTION_SAMPLES = 51293\n",
    "ECOG_CHANNELS = 64\n",
    "WINDOW_SIZE = 20 # 1000 Hz / 50 Hz\n",
    "MOTION_DIMS = 6\n"
   ]
  },
  {
   "cell_type": "code",
   "execution_count": 32,
   "id": "33c703d4",
   "metadata": {},
   "outputs": [],
   "source": [
    "glob_file_l = glob(\"./src/motor_cortex/data/data/**/**/\" + \"*.csv\")"
   ]
  },
  {
   "cell_type": "code",
   "execution_count": 33,
   "id": "b21f67a5",
   "metadata": {},
   "outputs": [
    {
     "data": {
      "text/plain": [
       "['./src/motor_cortex/data/data/Bilateral/2018-07-12_(S1)/motion_data.csv',\n",
       " './src/motor_cortex/data/data/Bilateral/2018-07-12_(S1)/ecog_data.csv',\n",
       " './src/motor_cortex/data/data/Bilateral/2018-07-19_(S2)/motion_data.csv',\n",
       " './src/motor_cortex/data/data/Bilateral/2018-07-19_(S2)/ecog_data.csv']"
      ]
     },
     "execution_count": 33,
     "metadata": {},
     "output_type": "execute_result"
    }
   ],
   "source": [
    "glob_file_l"
   ]
  },
  {
   "cell_type": "code",
   "execution_count": 34,
   "id": "c94d50a1",
   "metadata": {},
   "outputs": [],
   "source": [
    "motion_data = pd.read_csv(glob_file_l[0])"
   ]
  },
  {
   "cell_type": "code",
   "execution_count": 35,
   "id": "5612b71d",
   "metadata": {},
   "outputs": [],
   "source": [
    "ECoG_data = pd.read_csv(glob_file_l[1])"
   ]
  },
  {
   "cell_type": "code",
   "execution_count": 36,
   "id": "c7592407",
   "metadata": {},
   "outputs": [],
   "source": [
    "motion_data_columns = motion_data.columns[1:-1]"
   ]
  },
  {
   "cell_type": "code",
   "execution_count": 37,
   "id": "0c1a7404",
   "metadata": {},
   "outputs": [],
   "source": [
    "motion_data_values = motion_data[motion_data_columns].values"
   ]
  },
  {
   "cell_type": "code",
   "execution_count": 38,
   "id": "9cf17bf9",
   "metadata": {},
   "outputs": [
    {
     "data": {
      "text/plain": [
       "(51293, 6)"
      ]
     },
     "execution_count": 38,
     "metadata": {},
     "output_type": "execute_result"
    }
   ],
   "source": [
    "motion_data_values.shape"
   ]
  },
  {
   "cell_type": "code",
   "execution_count": 39,
   "id": "eb823405",
   "metadata": {},
   "outputs": [
    {
     "data": {
      "text/html": [
       "<div>\n",
       "<style scoped>\n",
       "    .dataframe tbody tr th:only-of-type {\n",
       "        vertical-align: middle;\n",
       "    }\n",
       "\n",
       "    .dataframe tbody tr th {\n",
       "        vertical-align: top;\n",
       "    }\n",
       "\n",
       "    .dataframe thead th {\n",
       "        text-align: right;\n",
       "    }\n",
       "</style>\n",
       "<table border=\"1\" class=\"dataframe\">\n",
       "  <thead>\n",
       "    <tr style=\"text-align: right;\">\n",
       "      <th></th>\n",
       "      <th>Time</th>\n",
       "      <th>Channel 1</th>\n",
       "      <th>Channel 2</th>\n",
       "      <th>Channel 3</th>\n",
       "      <th>Channel 4</th>\n",
       "      <th>Channel 5</th>\n",
       "      <th>Channel 6</th>\n",
       "      <th>Channel 7</th>\n",
       "      <th>Channel 8</th>\n",
       "      <th>Channel 9</th>\n",
       "      <th>...</th>\n",
       "      <th>Channel 56</th>\n",
       "      <th>Channel 57</th>\n",
       "      <th>Channel 58</th>\n",
       "      <th>Channel 59</th>\n",
       "      <th>Channel 60</th>\n",
       "      <th>Channel 61</th>\n",
       "      <th>Channel 62</th>\n",
       "      <th>Channel 63</th>\n",
       "      <th>Channel 64</th>\n",
       "      <th>Fs</th>\n",
       "    </tr>\n",
       "  </thead>\n",
       "  <tbody>\n",
       "    <tr>\n",
       "      <th>0</th>\n",
       "      <td>0.000</td>\n",
       "      <td>548.44</td>\n",
       "      <td>445.42</td>\n",
       "      <td>398.44</td>\n",
       "      <td>542.92</td>\n",
       "      <td>617.81</td>\n",
       "      <td>203.23</td>\n",
       "      <td>305.10</td>\n",
       "      <td>402.81</td>\n",
       "      <td>435.21</td>\n",
       "      <td>...</td>\n",
       "      <td>299.48</td>\n",
       "      <td>490.21</td>\n",
       "      <td>227.19</td>\n",
       "      <td>508.02</td>\n",
       "      <td>351.56</td>\n",
       "      <td>386.04</td>\n",
       "      <td>406.98</td>\n",
       "      <td>382.40</td>\n",
       "      <td>754.90</td>\n",
       "      <td>1000</td>\n",
       "    </tr>\n",
       "    <tr>\n",
       "      <th>1</th>\n",
       "      <td>0.001</td>\n",
       "      <td>469.38</td>\n",
       "      <td>417.60</td>\n",
       "      <td>299.79</td>\n",
       "      <td>514.38</td>\n",
       "      <td>521.77</td>\n",
       "      <td>65.21</td>\n",
       "      <td>268.33</td>\n",
       "      <td>342.29</td>\n",
       "      <td>270.10</td>\n",
       "      <td>...</td>\n",
       "      <td>267.92</td>\n",
       "      <td>418.85</td>\n",
       "      <td>121.98</td>\n",
       "      <td>396.88</td>\n",
       "      <td>279.48</td>\n",
       "      <td>385.10</td>\n",
       "      <td>245.42</td>\n",
       "      <td>405.31</td>\n",
       "      <td>654.38</td>\n",
       "      <td>1000</td>\n",
       "    </tr>\n",
       "    <tr>\n",
       "      <th>2</th>\n",
       "      <td>0.002</td>\n",
       "      <td>321.88</td>\n",
       "      <td>202.92</td>\n",
       "      <td>220.83</td>\n",
       "      <td>351.67</td>\n",
       "      <td>380.21</td>\n",
       "      <td>-47.29</td>\n",
       "      <td>200.31</td>\n",
       "      <td>210.00</td>\n",
       "      <td>196.46</td>\n",
       "      <td>...</td>\n",
       "      <td>121.04</td>\n",
       "      <td>438.75</td>\n",
       "      <td>90.94</td>\n",
       "      <td>329.17</td>\n",
       "      <td>215.42</td>\n",
       "      <td>372.29</td>\n",
       "      <td>97.40</td>\n",
       "      <td>346.46</td>\n",
       "      <td>533.23</td>\n",
       "      <td>1000</td>\n",
       "    </tr>\n",
       "    <tr>\n",
       "      <th>3</th>\n",
       "      <td>0.003</td>\n",
       "      <td>268.85</td>\n",
       "      <td>104.38</td>\n",
       "      <td>163.65</td>\n",
       "      <td>266.67</td>\n",
       "      <td>326.15</td>\n",
       "      <td>-66.15</td>\n",
       "      <td>162.40</td>\n",
       "      <td>137.50</td>\n",
       "      <td>157.40</td>\n",
       "      <td>...</td>\n",
       "      <td>125.94</td>\n",
       "      <td>435.42</td>\n",
       "      <td>128.96</td>\n",
       "      <td>296.67</td>\n",
       "      <td>193.75</td>\n",
       "      <td>367.19</td>\n",
       "      <td>110.21</td>\n",
       "      <td>287.71</td>\n",
       "      <td>489.38</td>\n",
       "      <td>1000</td>\n",
       "    </tr>\n",
       "    <tr>\n",
       "      <th>4</th>\n",
       "      <td>0.004</td>\n",
       "      <td>-23.23</td>\n",
       "      <td>-162.08</td>\n",
       "      <td>-154.17</td>\n",
       "      <td>47.29</td>\n",
       "      <td>32.60</td>\n",
       "      <td>-344.79</td>\n",
       "      <td>-54.38</td>\n",
       "      <td>-86.25</td>\n",
       "      <td>-155.83</td>\n",
       "      <td>...</td>\n",
       "      <td>-31.15</td>\n",
       "      <td>260.63</td>\n",
       "      <td>44.06</td>\n",
       "      <td>105.63</td>\n",
       "      <td>52.50</td>\n",
       "      <td>208.54</td>\n",
       "      <td>-99.90</td>\n",
       "      <td>166.98</td>\n",
       "      <td>253.33</td>\n",
       "      <td>1000</td>\n",
       "    </tr>\n",
       "    <tr>\n",
       "      <th>...</th>\n",
       "      <td>...</td>\n",
       "      <td>...</td>\n",
       "      <td>...</td>\n",
       "      <td>...</td>\n",
       "      <td>...</td>\n",
       "      <td>...</td>\n",
       "      <td>...</td>\n",
       "      <td>...</td>\n",
       "      <td>...</td>\n",
       "      <td>...</td>\n",
       "      <td>...</td>\n",
       "      <td>...</td>\n",
       "      <td>...</td>\n",
       "      <td>...</td>\n",
       "      <td>...</td>\n",
       "      <td>...</td>\n",
       "      <td>...</td>\n",
       "      <td>...</td>\n",
       "      <td>...</td>\n",
       "      <td>...</td>\n",
       "      <td>...</td>\n",
       "    </tr>\n",
       "    <tr>\n",
       "      <th>1024393</th>\n",
       "      <td>1024.393</td>\n",
       "      <td>-411.77</td>\n",
       "      <td>-192.08</td>\n",
       "      <td>-22.71</td>\n",
       "      <td>-397.81</td>\n",
       "      <td>-262.81</td>\n",
       "      <td>-111.46</td>\n",
       "      <td>-334.38</td>\n",
       "      <td>-240.21</td>\n",
       "      <td>-277.40</td>\n",
       "      <td>...</td>\n",
       "      <td>18.85</td>\n",
       "      <td>5.21</td>\n",
       "      <td>58.54</td>\n",
       "      <td>-65.83</td>\n",
       "      <td>218.23</td>\n",
       "      <td>-74.38</td>\n",
       "      <td>-136.56</td>\n",
       "      <td>40.83</td>\n",
       "      <td>82.81</td>\n",
       "      <td>1000</td>\n",
       "    </tr>\n",
       "    <tr>\n",
       "      <th>1024394</th>\n",
       "      <td>1024.394</td>\n",
       "      <td>-400.73</td>\n",
       "      <td>-141.46</td>\n",
       "      <td>-9.06</td>\n",
       "      <td>-437.40</td>\n",
       "      <td>-281.46</td>\n",
       "      <td>-72.50</td>\n",
       "      <td>-300.94</td>\n",
       "      <td>-231.04</td>\n",
       "      <td>-276.67</td>\n",
       "      <td>...</td>\n",
       "      <td>-21.67</td>\n",
       "      <td>-49.69</td>\n",
       "      <td>-48.54</td>\n",
       "      <td>-89.17</td>\n",
       "      <td>88.02</td>\n",
       "      <td>-71.88</td>\n",
       "      <td>-221.15</td>\n",
       "      <td>-4.90</td>\n",
       "      <td>-10.31</td>\n",
       "      <td>1000</td>\n",
       "    </tr>\n",
       "    <tr>\n",
       "      <th>1024395</th>\n",
       "      <td>1024.395</td>\n",
       "      <td>-298.85</td>\n",
       "      <td>-66.67</td>\n",
       "      <td>116.15</td>\n",
       "      <td>-315.10</td>\n",
       "      <td>-204.58</td>\n",
       "      <td>25.73</td>\n",
       "      <td>-120.00</td>\n",
       "      <td>-108.75</td>\n",
       "      <td>-208.44</td>\n",
       "      <td>...</td>\n",
       "      <td>-37.50</td>\n",
       "      <td>11.04</td>\n",
       "      <td>-112.92</td>\n",
       "      <td>-15.10</td>\n",
       "      <td>66.35</td>\n",
       "      <td>-73.33</td>\n",
       "      <td>-176.35</td>\n",
       "      <td>-57.81</td>\n",
       "      <td>-28.02</td>\n",
       "      <td>1000</td>\n",
       "    </tr>\n",
       "    <tr>\n",
       "      <th>1024396</th>\n",
       "      <td>1024.396</td>\n",
       "      <td>-389.06</td>\n",
       "      <td>-96.04</td>\n",
       "      <td>127.29</td>\n",
       "      <td>-345.00</td>\n",
       "      <td>-279.90</td>\n",
       "      <td>-26.98</td>\n",
       "      <td>-152.40</td>\n",
       "      <td>-163.96</td>\n",
       "      <td>-245.52</td>\n",
       "      <td>...</td>\n",
       "      <td>-54.06</td>\n",
       "      <td>-20.31</td>\n",
       "      <td>-200.10</td>\n",
       "      <td>28.23</td>\n",
       "      <td>-30.42</td>\n",
       "      <td>-74.48</td>\n",
       "      <td>-180.00</td>\n",
       "      <td>-88.54</td>\n",
       "      <td>-81.25</td>\n",
       "      <td>1000</td>\n",
       "    </tr>\n",
       "    <tr>\n",
       "      <th>1024397</th>\n",
       "      <td>1024.397</td>\n",
       "      <td>-288.85</td>\n",
       "      <td>32.40</td>\n",
       "      <td>161.15</td>\n",
       "      <td>-299.27</td>\n",
       "      <td>-179.58</td>\n",
       "      <td>66.56</td>\n",
       "      <td>-99.79</td>\n",
       "      <td>-32.50</td>\n",
       "      <td>-182.60</td>\n",
       "      <td>...</td>\n",
       "      <td>-113.13</td>\n",
       "      <td>-30.42</td>\n",
       "      <td>-237.81</td>\n",
       "      <td>-12.50</td>\n",
       "      <td>-72.29</td>\n",
       "      <td>-146.46</td>\n",
       "      <td>-138.65</td>\n",
       "      <td>-104.17</td>\n",
       "      <td>-129.58</td>\n",
       "      <td>1000</td>\n",
       "    </tr>\n",
       "  </tbody>\n",
       "</table>\n",
       "<p>1024398 rows × 66 columns</p>\n",
       "</div>"
      ],
      "text/plain": [
       "             Time  Channel 1  Channel 2  Channel 3  Channel 4  Channel 5  \\\n",
       "0           0.000     548.44     445.42     398.44     542.92     617.81   \n",
       "1           0.001     469.38     417.60     299.79     514.38     521.77   \n",
       "2           0.002     321.88     202.92     220.83     351.67     380.21   \n",
       "3           0.003     268.85     104.38     163.65     266.67     326.15   \n",
       "4           0.004     -23.23    -162.08    -154.17      47.29      32.60   \n",
       "...           ...        ...        ...        ...        ...        ...   \n",
       "1024393  1024.393    -411.77    -192.08     -22.71    -397.81    -262.81   \n",
       "1024394  1024.394    -400.73    -141.46      -9.06    -437.40    -281.46   \n",
       "1024395  1024.395    -298.85     -66.67     116.15    -315.10    -204.58   \n",
       "1024396  1024.396    -389.06     -96.04     127.29    -345.00    -279.90   \n",
       "1024397  1024.397    -288.85      32.40     161.15    -299.27    -179.58   \n",
       "\n",
       "         Channel 6  Channel 7  Channel 8  Channel 9  ...  Channel 56  \\\n",
       "0           203.23     305.10     402.81     435.21  ...      299.48   \n",
       "1            65.21     268.33     342.29     270.10  ...      267.92   \n",
       "2           -47.29     200.31     210.00     196.46  ...      121.04   \n",
       "3           -66.15     162.40     137.50     157.40  ...      125.94   \n",
       "4          -344.79     -54.38     -86.25    -155.83  ...      -31.15   \n",
       "...            ...        ...        ...        ...  ...         ...   \n",
       "1024393    -111.46    -334.38    -240.21    -277.40  ...       18.85   \n",
       "1024394     -72.50    -300.94    -231.04    -276.67  ...      -21.67   \n",
       "1024395      25.73    -120.00    -108.75    -208.44  ...      -37.50   \n",
       "1024396     -26.98    -152.40    -163.96    -245.52  ...      -54.06   \n",
       "1024397      66.56     -99.79     -32.50    -182.60  ...     -113.13   \n",
       "\n",
       "         Channel 57  Channel 58  Channel 59  Channel 60  Channel 61  \\\n",
       "0            490.21      227.19      508.02      351.56      386.04   \n",
       "1            418.85      121.98      396.88      279.48      385.10   \n",
       "2            438.75       90.94      329.17      215.42      372.29   \n",
       "3            435.42      128.96      296.67      193.75      367.19   \n",
       "4            260.63       44.06      105.63       52.50      208.54   \n",
       "...             ...         ...         ...         ...         ...   \n",
       "1024393        5.21       58.54      -65.83      218.23      -74.38   \n",
       "1024394      -49.69      -48.54      -89.17       88.02      -71.88   \n",
       "1024395       11.04     -112.92      -15.10       66.35      -73.33   \n",
       "1024396      -20.31     -200.10       28.23      -30.42      -74.48   \n",
       "1024397      -30.42     -237.81      -12.50      -72.29     -146.46   \n",
       "\n",
       "         Channel 62  Channel 63  Channel 64    Fs  \n",
       "0            406.98      382.40      754.90  1000  \n",
       "1            245.42      405.31      654.38  1000  \n",
       "2             97.40      346.46      533.23  1000  \n",
       "3            110.21      287.71      489.38  1000  \n",
       "4            -99.90      166.98      253.33  1000  \n",
       "...             ...         ...         ...   ...  \n",
       "1024393     -136.56       40.83       82.81  1000  \n",
       "1024394     -221.15       -4.90      -10.31  1000  \n",
       "1024395     -176.35      -57.81      -28.02  1000  \n",
       "1024396     -180.00      -88.54      -81.25  1000  \n",
       "1024397     -138.65     -104.17     -129.58  1000  \n",
       "\n",
       "[1024398 rows x 66 columns]"
      ]
     },
     "execution_count": 39,
     "metadata": {},
     "output_type": "execute_result"
    }
   ],
   "source": [
    "ECoG_data"
   ]
  },
  {
   "cell_type": "code",
   "execution_count": 40,
   "id": "b27057ec",
   "metadata": {},
   "outputs": [],
   "source": [
    "ECoG_data_channels = ECoG_data.columns[1:-1]"
   ]
  },
  {
   "cell_type": "code",
   "execution_count": 41,
   "id": "5d851d1c",
   "metadata": {},
   "outputs": [],
   "source": [
    "ECoG_data_channel_only = ECoG_data[ECoG_data_channels]\n",
    "ECoG_data_channel_only_values = ECoG_data_channel_only.values"
   ]
  },
  {
   "cell_type": "code",
   "execution_count": 45,
   "id": "a13e0b63",
   "metadata": {},
   "outputs": [
    {
     "data": {
      "text/plain": [
       "51293"
      ]
     },
     "execution_count": 45,
     "metadata": {},
     "output_type": "execute_result"
    }
   ],
   "source": [
    "motion_data_values.shape[0]"
   ]
  },
  {
   "cell_type": "code",
   "execution_count": 43,
   "id": "07d31a22",
   "metadata": {},
   "outputs": [
    {
     "data": {
      "text/plain": [
       "(1024398, 64)"
      ]
     },
     "execution_count": 43,
     "metadata": {},
     "output_type": "execute_result"
    }
   ],
   "source": [
    "ECoG_data_channel_only_values.shape"
   ]
  },
  {
   "cell_type": "code",
   "execution_count": 46,
   "id": "129be8d2",
   "metadata": {},
   "outputs": [],
   "source": [
    "MOTION_SAMPLES = motion_data_values.shape[0]"
   ]
  },
  {
   "cell_type": "code",
   "execution_count": 47,
   "id": "27670100",
   "metadata": {},
   "outputs": [
    {
     "data": {
      "text/plain": [
       "(1024398, 64)"
      ]
     },
     "execution_count": 47,
     "metadata": {},
     "output_type": "execute_result"
    }
   ],
   "source": [
    "ECoG_data_channel_only_values.shape"
   ]
  },
  {
   "cell_type": "code",
   "execution_count": 48,
   "id": "033e2e6d",
   "metadata": {},
   "outputs": [
    {
     "data": {
      "text/plain": [
       "51293"
      ]
     },
     "execution_count": 48,
     "metadata": {},
     "output_type": "execute_result"
    }
   ],
   "source": [
    "MOTION_SAMPLES"
   ]
  },
  {
   "cell_type": "code",
   "execution_count": null,
   "id": "0db31a90",
   "metadata": {},
   "outputs": [
    {
     "ename": "ValueError",
     "evalue": "all input arrays must have the same shape",
     "output_type": "error",
     "traceback": [
      "\u001b[0;31m---------------------------------------------------------------------------\u001b[0m",
      "\u001b[0;31mValueError\u001b[0m                                Traceback (most recent call last)",
      "Cell \u001b[0;32mIn[50], line 2\u001b[0m\n\u001b[1;32m      1\u001b[0m \u001b[38;5;66;03m# Create 20 sample windows of ECOG data for each sample of motion\u001b[39;00m\n\u001b[0;32m----> 2\u001b[0m X \u001b[38;5;241m=\u001b[39m \u001b[43mnp\u001b[49m\u001b[38;5;241;43m.\u001b[39;49m\u001b[43mstack\u001b[49m\u001b[43m(\u001b[49m\u001b[43m[\u001b[49m\u001b[43mECoG_data_channel_only_values\u001b[49m\u001b[43m[\u001b[49m\u001b[43mi\u001b[49m\u001b[38;5;241;43m*\u001b[39;49m\u001b[43mWINDOW_SIZE\u001b[49m\u001b[43m:\u001b[49m\u001b[43m(\u001b[49m\u001b[43mi\u001b[49m\u001b[38;5;241;43m+\u001b[39;49m\u001b[38;5;241;43m1\u001b[39;49m\u001b[43m)\u001b[49m\u001b[38;5;241;43m*\u001b[39;49m\u001b[43mWINDOW_SIZE\u001b[49m\u001b[43m]\u001b[49m\u001b[43m \u001b[49m\u001b[38;5;28;43;01mfor\u001b[39;49;00m\u001b[43m \u001b[49m\u001b[43mi\u001b[49m\u001b[43m \u001b[49m\u001b[38;5;129;43;01min\u001b[39;49;00m\u001b[43m \u001b[49m\u001b[38;5;28;43mrange\u001b[39;49m\u001b[43m(\u001b[49m\u001b[43mMOTION_SAMPLES\u001b[49m\u001b[43m)\u001b[49m\u001b[43m]\u001b[49m\u001b[43m)\u001b[49m\n",
      "File \u001b[0;32m~/anaconda3/envs/torch/lib/python3.10/site-packages/numpy/_core/shape_base.py:460\u001b[0m, in \u001b[0;36mstack\u001b[0;34m(arrays, axis, out, dtype, casting)\u001b[0m\n\u001b[1;32m    458\u001b[0m shapes \u001b[38;5;241m=\u001b[39m {arr\u001b[38;5;241m.\u001b[39mshape \u001b[38;5;28;01mfor\u001b[39;00m arr \u001b[38;5;129;01min\u001b[39;00m arrays}\n\u001b[1;32m    459\u001b[0m \u001b[38;5;28;01mif\u001b[39;00m \u001b[38;5;28mlen\u001b[39m(shapes) \u001b[38;5;241m!=\u001b[39m \u001b[38;5;241m1\u001b[39m:\n\u001b[0;32m--> 460\u001b[0m     \u001b[38;5;28;01mraise\u001b[39;00m \u001b[38;5;167;01mValueError\u001b[39;00m(\u001b[38;5;124m'\u001b[39m\u001b[38;5;124mall input arrays must have the same shape\u001b[39m\u001b[38;5;124m'\u001b[39m)\n\u001b[1;32m    462\u001b[0m result_ndim \u001b[38;5;241m=\u001b[39m arrays[\u001b[38;5;241m0\u001b[39m]\u001b[38;5;241m.\u001b[39mndim \u001b[38;5;241m+\u001b[39m \u001b[38;5;241m1\u001b[39m\n\u001b[1;32m    463\u001b[0m axis \u001b[38;5;241m=\u001b[39m normalize_axis_index(axis, result_ndim)\n",
      "\u001b[0;31mValueError\u001b[0m: all input arrays must have the same shape"
     ]
    }
   ],
   "source": [
    "# Create 20 sample windows of ECOG data for each sample of motion\n",
    "# X = np.stack([ECoG_data_channel_only_values[i*WINDOW_SIZE:(i+1)*WINDOW_SIZE] for i in range(MOTION_SAMPLES)])"
   ]
  }
 ],
 "metadata": {
  "kernelspec": {
   "display_name": "torch",
   "language": "python",
   "name": "python3"
  },
  "language_info": {
   "codemirror_mode": {
    "name": "ipython",
    "version": 3
   },
   "file_extension": ".py",
   "mimetype": "text/x-python",
   "name": "python",
   "nbconvert_exporter": "python",
   "pygments_lexer": "ipython3",
   "version": "3.10.16"
  }
 },
 "nbformat": 4,
 "nbformat_minor": 5
}
