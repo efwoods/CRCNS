{
 "cells": [
  {
   "cell_type": "code",
   "execution_count": 192,
   "id": "854f15c9",
   "metadata": {},
   "outputs": [
    {
     "name": "stdout",
     "output_type": "stream",
     "text": [
      "Using Device: cuda\n"
     ]
    }
   ],
   "source": [
    "import os\n",
    "import numpy as np\n",
    "import torch\n",
    "import pandas as pd\n",
    "from glob import glob\n",
    "from scipy.io import loadmat\n",
    "import matplotlib.pyplot as plt\n",
    "from scipy.signal import butter, filtfilt, iirnotch, periodogram\n",
    "from sklearn.preprocessing import StandardScaler\n",
    "from scipy.stats import kurtosis\n",
    "from torch.utils.data import random_split\n",
    "import torch.nn as nn\n",
    "from torch.utils.data import Dataset, DataLoader\n",
    "import gc\n",
    "from sklearn.metrics import r2_score\n",
    "\n",
    "device = torch.device(\"cuda\" if torch.cuda.is_available() else \"cpu\")\n",
    "print(\"Using Device:\", device)"
   ]
  },
  {
   "cell_type": "code",
   "execution_count": 188,
   "id": "3b74ce94",
   "metadata": {},
   "outputs": [],
   "source": [
    "# Noise Filters\n",
    "def butter_bandpass(lowcut, highcut, fs, order=5):\n",
    "    nyq = fs / 2.0\n",
    "    low = lowcut / nyq\n",
    "    high = highcut / nyq\n",
    "    b, a = butter(order, [low, high], btype='band')\n",
    "    return b, a\n",
    "\n",
    "def bandpass_filter(data, lowcut=1.0, highcut=200.0, fs=1000.0, order=4):\n",
    "    b, a = butter_bandpass(lowcut, highcut, fs, order=order)\n",
    "    return filtfilt(b, a, data, axis=0)\n",
    "\n",
    "# Apply after bandpass\n",
    "def notch_filter(data, freq=60.0, fs=1000.0, quality=30.0):\n",
    "    b, a = iirnotch(freq, quality, fs)\n",
    "    return filtfilt(b, a, data, axis=0)\n",
    "\n",
    "# Noise Metrics for evaluation\n",
    "def compute_rmse(true, estimate):\n",
    "    return np.sqrt(np.mean((true - estimate) ** 2))\n",
    "\n",
    "def compute_spectral_flatness_band(signal, fs, band):\n",
    "    f, Pxx = periodogram(signal, fs=fs)\n",
    "    idx = (f >=band[0]) & (f <=band[1])\n",
    "    Pxx = Pxx[idx] + 1e-12\n",
    "    gm = np.exp(np.mean(np.log(Pxx)))\n",
    "    am = np.mean(Pxx)\n",
    "    return gm / am\n",
    "\n",
    "mu_band = (8, 13)\n",
    "beta_band = (13, 30)\n",
    "hg_band = (70, 200)\n",
    "\n",
    "# Kurtosis signal reduction > 0 shows a denoised signal\n",
    "def proportion_of_positive_kurtosis_signals(kurtosis_raw, kurtosis_denoised):\n",
    "    return (np.array([(kurtosis_raw - kurtosis_denoised) > 0]).sum() / len(kurtosis_raw)) * 100\n",
    "\n",
    "# Use a Standard scaler to reduce the mean to 0 and std to 1"
   ]
  },
  {
   "cell_type": "code",
   "execution_count": 190,
   "id": "a0b78df6",
   "metadata": {},
   "outputs": [],
   "source": [
    "# Model definitions\n",
    "class EcogMotionDataset(Dataset):\n",
    "    def __init__(self, X, y):\n",
    "        self.X = torch.tensor(X, dtype=torch.float32)\n",
    "        self.y = torch.tensor(y, dtype=torch.float32)\n",
    "    \n",
    "    def __len__(self):\n",
    "        return len(self.X)\n",
    "    \n",
    "    def __getitem__(self, idx):\n",
    "        return self.X[idx], self.y[idx]\n",
    "    \n",
    "# CNN\n",
    "class EcogToMotionNet(nn.Module):\n",
    "    def __init__(self):\n",
    "        super().__init__()\n",
    "        self.conv1 = nn.Conv1d(in_channels=64, out_channels=128, kernel_size = 3, padding = 1)\n",
    "        self.relu = nn.ReLU()\n",
    "        self.pool = nn.AdaptiveAvgPool1d(1)\n",
    "        self.fc = nn.Linear(128, 3)\n",
    "\n",
    "    def forward(self, x):\n",
    "        x = x.permute(0, 2, 1)\n",
    "        x = self.conv1(x)\n",
    "        x = self.relu(x)\n",
    "        x = self.pool(x)\n",
    "        x = x.squeeze(-1)\n",
    "        x = self.fc(x)\n",
    "        return x\n",
    "\n",
    "# Linear Model\n",
    "class LinearEcogToMotionNet(nn.Module):\n",
    "    def __init__(self, input_channels = 64, sequence_length = 20, output_dim = 3):\n",
    "        super().__init__()\n",
    "        self.linear = nn.Linear(input_channels * sequence_length, output_dim)\n",
    "\n",
    "    def forward(self, x):\n",
    "        x = x.permute(0, 2, 1)\n",
    "        x = x.flatten(start_dim=1)\n",
    "        x = self.linear(x)\n",
    "        return x\n",
    "\n",
    "# LSTM\n",
    "class EcogLSTM(nn.Module):\n",
    "    def __init__(self, input_size = 64, hidden_size = 128, num_layers = 1, output_size = 3):\n",
    "        super().__init__()\n",
    "        self.lstm = nn.LSTM(input_size=input_size, hidden_size=hidden_size, num_layers=num_layers, batch_first=True)\n",
    "        self.fc = nn.Linear(hidden_size, output_size)\n",
    "\n",
    "    def forward(self, x):\n",
    "        lstm_out, (h_n, c_n) = self.lstm(x) # lstm_out shape: (batch_size, seq_len, hidden_size)\n",
    "        last_output = lstm_out[:, -1, :]\n",
    "        output = self.fc(last_output)\n",
    "        return output\n"
   ]
  },
  {
   "cell_type": "code",
   "execution_count": 191,
   "id": "00512565",
   "metadata": {},
   "outputs": [],
   "source": [
    "class PreprocessData:\n",
    "    def __init__(self, ecog_file_path, motion_file_path):\n",
    "        self.ecog_file_path = ecog_file_path\n",
    "        self.motion_file_path = motion_file_path\n",
    "        self.ecog_data = None\n",
    "        self.motion_data = None\n",
    "        self.filtered_ecog = None\n",
    "        self.scaled_ecog = None\n",
    "        self.X = None\n",
    "        self.y = None\n",
    "\n",
    "    def process(self, eval=False, window_size=20, duration_limit=900):\n",
    "        self.read_data()\n",
    "        self.filter_signal(eval=eval)\n",
    "        self.format_data(window_size=window_size, duration_limit=duration_limit)\n",
    "        return self.X, self.y\n",
    "    \n",
    "    def read_data(self):\n",
    "        self.ecog_data = pd.read_csv(self.ecog_file_path)\n",
    "        self.motion_data = pd.read_csv(self.motion_file_path)\n",
    "        return self\n",
    "\n",
    "    def filter_signal(self, eval=False):\n",
    "        ecog_raw = self.ecog_data[self.ecog_data.columns[1:-1]].values\n",
    "\n",
    "        # Apply filters\n",
    "        filtered = bandpass_filter(ecog_raw, lowcut=1.0, highcut=200.0, fs=1000.0, order=4)\n",
    "        denoised = notch_filter(filtered, freq=60, fs=1000.0)\n",
    "\n",
    "        # Evaluate filters\n",
    "        if eval:\n",
    "            kurt_raw = kurtosis(ecog_raw, axis=0, fisher=True)\n",
    "            kurt_denoised = kurtosis(denoised, axis=0, fisher=True)\n",
    "            proportion_of_positive_kurtosis_signals(kurt_raw, kurt_denoised)\n",
    "            compute_rmse(ecog_raw, denoised)\n",
    "\n",
    "        # Scale\n",
    "        scaler = StandardScaler()\n",
    "        self.scaled_ecog = scaler.fit_transform(denoised)\n",
    "\n",
    "        # Replace in DataFrame\n",
    "        self.ecog_data = self.ecog_data.copy()\n",
    "        self.ecog_data[self.ecog_data.columns[1:-1]] = self.scaled_ecog\n",
    "\n",
    "        # Clean memory\n",
    "        del ecog_raw, filtered, denoised\n",
    "        gc.collect()\n",
    "        return self\n",
    "\n",
    "    def format_data(self, window_size=20, duration_limit=900):\n",
    "        ecog_df = self.ecog_data[self.ecog_data[\"Time\"] <= duration_limit]\n",
    "        motion_df = self.motion_data[self.motion_data[\"Motion_time\"] <= duration_limit]\n",
    "\n",
    "        ecog_values = ecog_df[ecog_df.columns[1:-1]].values\n",
    "        motion_values = motion_df[motion_df.columns[2:]].values\n",
    "\n",
    "        num_windows = motion_values.shape[0]\n",
    "\n",
    "        # Create sliding windows\n",
    "        self.X = np.stack([\n",
    "            ecog_values[i*window_size:(i+1)*window_size]\n",
    "            for i in range(num_windows)\n",
    "        ])\n",
    "        self.y = motion_values[:num_windows]\n",
    "        \n",
    "        # Clean up\n",
    "        del ecog_values, motion_values\n",
    "        gc.collect()\n",
    "\n",
    "    def save(self):\n",
    "        output_file_path_base = self.ecog_file_path.strip(\"ecog_data.csv\")\n",
    "        np.save(output_file_path_base + \"X.npy\", self.X)\n",
    "        np.save(output_file_path_base + \"y.npy\", self.y)\n"
   ]
  },
  {
   "cell_type": "code",
   "execution_count": 171,
   "id": "283cc29d",
   "metadata": {},
   "outputs": [
    {
     "data": {
      "text/plain": [
       "'/home/linux-pc/gh/CRCNS/src/motor_cortex/data/'"
      ]
     },
     "execution_count": 171,
     "metadata": {},
     "output_type": "execute_result"
    }
   ],
   "source": [
    "os.path.join(os.getcwd(), \"src/\", \"motor_cortex/data/\")"
   ]
  },
  {
   "cell_type": "code",
   "execution_count": 172,
   "id": "6729e9a1",
   "metadata": {},
   "outputs": [],
   "source": [
    "motion_data_file_l = glob(os.path.join(os.getcwd(), \"src/\", \"motor_cortex/data/data/\", \"**\", \"motion*.csv\"), recursive=True)\n",
    "ecog_data_file_l = glob(os.path.join(os.getcwd(), \"src/\", \"motor_cortex/data/data/\", \"**\", \"ecog*.csv\"), recursive=True)"
   ]
  },
  {
   "cell_type": "markdown",
   "id": "3c26f274",
   "metadata": {},
   "source": [
    "# Reading only the Right Wrist data and training to detect depending on the Right Wrist"
   ]
  },
  {
   "cell_type": "markdown",
   "id": "fc74d3e4",
   "metadata": {},
   "source": [
    "## Bilateral Data"
   ]
  },
  {
   "cell_type": "code",
   "execution_count": null,
   "id": "2ff3bfa1",
   "metadata": {},
   "outputs": [],
   "source": [
    "motion_data_file_l[0]"
   ]
  },
  {
   "cell_type": "code",
   "execution_count": null,
   "id": "907f36ad",
   "metadata": {},
   "outputs": [],
   "source": [
    "motion_data_file = motion_data_file_l[0]"
   ]
  },
  {
   "cell_type": "code",
   "execution_count": null,
   "id": "c3a5a011",
   "metadata": {},
   "outputs": [],
   "source": [
    "ecog_data_file = ecog_data_file_l[0]"
   ]
  },
  {
   "cell_type": "code",
   "execution_count": null,
   "id": "c07bc434",
   "metadata": {},
   "outputs": [],
   "source": [
    "motion_data_file"
   ]
  },
  {
   "cell_type": "code",
   "execution_count": null,
   "id": "6cfec741",
   "metadata": {},
   "outputs": [],
   "source": [
    "ecog_data_file"
   ]
  },
  {
   "cell_type": "code",
   "execution_count": null,
   "id": "12b3a041",
   "metadata": {},
   "outputs": [],
   "source": [
    "motion_data_bilateral_2018_07_12_S1 = pd.read_csv(motion_data_file)"
   ]
  },
  {
   "cell_type": "code",
   "execution_count": null,
   "id": "23d41fbe",
   "metadata": {},
   "outputs": [],
   "source": [
    "motion_data_bilateral_2018_07_12_S1[\"Motion_time\"]"
   ]
  },
  {
   "cell_type": "code",
   "execution_count": null,
   "id": "dafb318b",
   "metadata": {},
   "outputs": [],
   "source": [
    "ecog_data_bilateral_2018_07_12_S1 = pd.read_csv(ecog_data_file)\n",
    "channel_data = ecog_data_bilateral_2018_07_12_S1.columns[1:-1].values\n",
    "ecog_data_bilateral_2018_07_12_S1[channel_data].values"
   ]
  },
  {
   "cell_type": "code",
   "execution_count": null,
   "id": "9e4ad7e4",
   "metadata": {},
   "outputs": [],
   "source": [
    "ecog_data_bilateral_2018_07_12_S1[\"Time\"]"
   ]
  },
  {
   "cell_type": "code",
   "execution_count": null,
   "id": "4d811d58",
   "metadata": {},
   "outputs": [],
   "source": [
    "plt.plot(ecog_data_bilateral_2018_07_12_S1[\"Time\"], ecog_data_bilateral_2018_07_12_S1[channel_data].values)"
   ]
  },
  {
   "cell_type": "code",
   "execution_count": null,
   "id": "a5ef02ce",
   "metadata": {},
   "outputs": [],
   "source": [
    "ecog_channels = ecog_data_bilateral_2018_07_12_S1.columns[1:-1]"
   ]
  },
  {
   "cell_type": "code",
   "execution_count": null,
   "id": "7c7fda74",
   "metadata": {},
   "outputs": [],
   "source": [
    "ecog_data_bilateral_2018_07_12_S1[ecog_channels].values"
   ]
  },
  {
   "cell_type": "code",
   "execution_count": null,
   "id": "806049ef",
   "metadata": {},
   "outputs": [],
   "source": [
    "motion_data_bilateral_2018_07_12_S1_left_wrist = motion_data_bilateral_2018_07_12_S1[motion_data_bilateral_2018_07_12_S1.columns[1:4]]"
   ]
  },
  {
   "cell_type": "code",
   "execution_count": null,
   "id": "e925d624",
   "metadata": {},
   "outputs": [],
   "source": [
    "motion_data_bilateral_2018_07_12_S1_left_wrist"
   ]
  },
  {
   "cell_type": "code",
   "execution_count": null,
   "id": "b5a05342",
   "metadata": {},
   "outputs": [],
   "source": [
    "motion_data_bilateral_2018_07_12_S1_left_wrist"
   ]
  },
  {
   "cell_type": "code",
   "execution_count": null,
   "id": "ec8b2f1e",
   "metadata": {},
   "outputs": [],
   "source": [
    "ecog_data_bilateral_2018_07_12_S1[channel_data]"
   ]
  },
  {
   "cell_type": "code",
   "execution_count": null,
   "id": "da53d06f",
   "metadata": {},
   "outputs": [],
   "source": [
    "del ecog_data_bilateral_2018_07_12_S1"
   ]
  },
  {
   "cell_type": "markdown",
   "id": "59e491bb",
   "metadata": {},
   "source": [
    "## Ipsilateral Data (Right Wrist)"
   ]
  },
  {
   "cell_type": "code",
   "execution_count": 176,
   "id": "bd7427c2",
   "metadata": {},
   "outputs": [
    {
     "data": {
      "text/plain": [
       "'/home/linux-pc/gh/CRCNS/src/motor_cortex/data/data/Ipsilateral/2018-05-10_(S7)/ecog_data.csv'"
      ]
     },
     "execution_count": 176,
     "metadata": {},
     "output_type": "execute_result"
    }
   ],
   "source": [
    "ecog_data_file_l[6]"
   ]
  },
  {
   "cell_type": "code",
   "execution_count": 177,
   "id": "2d541fb4",
   "metadata": {},
   "outputs": [
    {
     "data": {
      "text/plain": [
       "'/home/linux-pc/gh/CRCNS/src/motor_cortex/data/data/Ipsilateral/2018-05-10_(S7)/ecog_data.csv'"
      ]
     },
     "execution_count": 177,
     "metadata": {},
     "output_type": "execute_result"
    }
   ],
   "source": [
    "ecog_data_file_l[6]"
   ]
  },
  {
   "cell_type": "code",
   "execution_count": 178,
   "id": "cf2de551",
   "metadata": {},
   "outputs": [],
   "source": [
    "current_ecog_data_file = ecog_data_file_l[6]\n",
    "current_motion_data_file = motion_data_file_l[6]\n",
    "preprocessor = PreprocessData(current_ecog_data_file, current_motion_data_file)\n",
    "X, y = preprocessor.process()\n",
    "preprocessor.save()"
   ]
  },
  {
   "cell_type": "code",
   "execution_count": 179,
   "id": "c7ac0622",
   "metadata": {},
   "outputs": [
    {
     "ename": "KeyboardInterrupt",
     "evalue": "",
     "output_type": "error",
     "traceback": [
      "\u001b[0;31m---------------------------------------------------------------------------\u001b[0m",
      "\u001b[0;31mKeyboardInterrupt\u001b[0m                         Traceback (most recent call last)",
      "Cell \u001b[0;32mIn[179], line 5\u001b[0m\n\u001b[1;32m      3\u001b[0m preprocessor \u001b[38;5;241m=\u001b[39m PreprocessData(ecog_data_file_l[index], motion_data_file_l[index])\n\u001b[1;32m      4\u001b[0m X, y \u001b[38;5;241m=\u001b[39m preprocessor\u001b[38;5;241m.\u001b[39mprocess()\n\u001b[0;32m----> 5\u001b[0m \u001b[43mpreprocessor\u001b[49m\u001b[38;5;241;43m.\u001b[39;49m\u001b[43msave\u001b[49m\u001b[43m(\u001b[49m\u001b[43m)\u001b[49m\n",
      "Cell \u001b[0;32mIn[170], line 72\u001b[0m, in \u001b[0;36mPreprocessData.save\u001b[0;34m(self)\u001b[0m\n\u001b[1;32m     70\u001b[0m \u001b[38;5;28;01mdef\u001b[39;00m\u001b[38;5;250m \u001b[39m\u001b[38;5;21msave\u001b[39m(\u001b[38;5;28mself\u001b[39m):\n\u001b[1;32m     71\u001b[0m     output_file_path_base \u001b[38;5;241m=\u001b[39m \u001b[38;5;28mself\u001b[39m\u001b[38;5;241m.\u001b[39mecog_file_path\u001b[38;5;241m.\u001b[39mstrip(\u001b[38;5;124m\"\u001b[39m\u001b[38;5;124mecog_data.csv\u001b[39m\u001b[38;5;124m\"\u001b[39m)\n\u001b[0;32m---> 72\u001b[0m     \u001b[43mnp\u001b[49m\u001b[38;5;241;43m.\u001b[39;49m\u001b[43msave\u001b[49m\u001b[43m(\u001b[49m\u001b[43moutput_file_path_base\u001b[49m\u001b[43m \u001b[49m\u001b[38;5;241;43m+\u001b[39;49m\u001b[43m \u001b[49m\u001b[38;5;124;43m\"\u001b[39;49m\u001b[38;5;124;43mX.npy\u001b[39;49m\u001b[38;5;124;43m\"\u001b[39;49m\u001b[43m,\u001b[49m\u001b[43m \u001b[49m\u001b[38;5;28;43mself\u001b[39;49m\u001b[38;5;241;43m.\u001b[39;49m\u001b[43mX\u001b[49m\u001b[43m)\u001b[49m\n\u001b[1;32m     73\u001b[0m     np\u001b[38;5;241m.\u001b[39msave(output_file_path_base \u001b[38;5;241m+\u001b[39m \u001b[38;5;124m\"\u001b[39m\u001b[38;5;124my.npy\u001b[39m\u001b[38;5;124m\"\u001b[39m, \u001b[38;5;28mself\u001b[39m\u001b[38;5;241m.\u001b[39my)\n",
      "File \u001b[0;32m~/anaconda3/envs/torch/lib/python3.10/site-packages/numpy/lib/_npyio_impl.py:581\u001b[0m, in \u001b[0;36msave\u001b[0;34m(file, arr, allow_pickle, fix_imports)\u001b[0m\n\u001b[1;32m    579\u001b[0m \u001b[38;5;28;01mwith\u001b[39;00m file_ctx \u001b[38;5;28;01mas\u001b[39;00m fid:\n\u001b[1;32m    580\u001b[0m     arr \u001b[38;5;241m=\u001b[39m np\u001b[38;5;241m.\u001b[39masanyarray(arr)\n\u001b[0;32m--> 581\u001b[0m     \u001b[38;5;28;43mformat\u001b[39;49m\u001b[38;5;241;43m.\u001b[39;49m\u001b[43mwrite_array\u001b[49m\u001b[43m(\u001b[49m\u001b[43mfid\u001b[49m\u001b[43m,\u001b[49m\u001b[43m \u001b[49m\u001b[43marr\u001b[49m\u001b[43m,\u001b[49m\u001b[43m \u001b[49m\u001b[43mallow_pickle\u001b[49m\u001b[38;5;241;43m=\u001b[39;49m\u001b[43mallow_pickle\u001b[49m\u001b[43m,\u001b[49m\n\u001b[1;32m    582\u001b[0m \u001b[43m                       \u001b[49m\u001b[43mpickle_kwargs\u001b[49m\u001b[38;5;241;43m=\u001b[39;49m\u001b[38;5;28;43mdict\u001b[39;49m\u001b[43m(\u001b[49m\u001b[43mfix_imports\u001b[49m\u001b[38;5;241;43m=\u001b[39;49m\u001b[43mfix_imports\u001b[49m\u001b[43m)\u001b[49m\u001b[43m)\u001b[49m\n",
      "File \u001b[0;32m~/anaconda3/envs/torch/lib/python3.10/site-packages/numpy/lib/format.py:754\u001b[0m, in \u001b[0;36mwrite_array\u001b[0;34m(fp, array, version, allow_pickle, pickle_kwargs)\u001b[0m\n\u001b[1;32m    752\u001b[0m \u001b[38;5;28;01melse\u001b[39;00m:\n\u001b[1;32m    753\u001b[0m     \u001b[38;5;28;01mif\u001b[39;00m isfileobj(fp):\n\u001b[0;32m--> 754\u001b[0m         \u001b[43marray\u001b[49m\u001b[38;5;241;43m.\u001b[39;49m\u001b[43mtofile\u001b[49m\u001b[43m(\u001b[49m\u001b[43mfp\u001b[49m\u001b[43m)\u001b[49m\n\u001b[1;32m    755\u001b[0m     \u001b[38;5;28;01melse\u001b[39;00m:\n\u001b[1;32m    756\u001b[0m         \u001b[38;5;28;01mfor\u001b[39;00m chunk \u001b[38;5;129;01min\u001b[39;00m numpy\u001b[38;5;241m.\u001b[39mnditer(\n\u001b[1;32m    757\u001b[0m                 array, flags\u001b[38;5;241m=\u001b[39m[\u001b[38;5;124m'\u001b[39m\u001b[38;5;124mexternal_loop\u001b[39m\u001b[38;5;124m'\u001b[39m, \u001b[38;5;124m'\u001b[39m\u001b[38;5;124mbuffered\u001b[39m\u001b[38;5;124m'\u001b[39m, \u001b[38;5;124m'\u001b[39m\u001b[38;5;124mzerosize_ok\u001b[39m\u001b[38;5;124m'\u001b[39m],\n\u001b[1;32m    758\u001b[0m                 buffersize\u001b[38;5;241m=\u001b[39mbuffersize, order\u001b[38;5;241m=\u001b[39m\u001b[38;5;124m'\u001b[39m\u001b[38;5;124mC\u001b[39m\u001b[38;5;124m'\u001b[39m):\n",
      "\u001b[0;31mKeyboardInterrupt\u001b[0m: "
     ]
    }
   ],
   "source": [
    "# Preprocess Ipsilateral Data\n",
    "for index in range(6, 16):\n",
    "    preprocessor = PreprocessData(ecog_data_file_l[index], motion_data_file_l[index])\n",
    "    X, y = preprocessor.process()\n",
    "    preprocessor.save()"
   ]
  },
  {
   "cell_type": "code",
   "execution_count": 180,
   "id": "6ddf91ca",
   "metadata": {},
   "outputs": [
    {
     "data": {
      "text/plain": [
       "['/home/linux-pc/gh/CRCNS/src/motor_cortex/data/data/Contralateral/2018-03-15_(S1)/ecog_data.csv',\n",
       " '/home/linux-pc/gh/CRCNS/src/motor_cortex/data/data/Contralateral/2018-04-12_(S3)/ecog_data.csv',\n",
       " '/home/linux-pc/gh/CRCNS/src/motor_cortex/data/data/Contralateral/2018-04-08_(S2)/ecog_data.csv',\n",
       " '/home/linux-pc/gh/CRCNS/src/motor_cortex/data/data/Contralateral/2018-04-22_(S7)/ecog_data.csv',\n",
       " '/home/linux-pc/gh/CRCNS/src/motor_cortex/data/data/Contralateral/2018-04-12_(S4)/ecog_data.csv',\n",
       " '/home/linux-pc/gh/CRCNS/src/motor_cortex/data/data/Contralateral/2018-04-22_(S9)/ecog_data.csv',\n",
       " '/home/linux-pc/gh/CRCNS/src/motor_cortex/data/data/Contralateral/2018-04-12_(S5)/ecog_data.csv',\n",
       " '/home/linux-pc/gh/CRCNS/src/motor_cortex/data/data/Contralateral/2018-04-22_(S8)/ecog_data.csv',\n",
       " '/home/linux-pc/gh/CRCNS/src/motor_cortex/data/data/Contralateral/2018-05-31_(S10)/ecog_data.csv',\n",
       " '/home/linux-pc/gh/CRCNS/src/motor_cortex/data/data/Contralateral/2018-04-15_(S6)/ecog_data.csv']"
      ]
     },
     "execution_count": 180,
     "metadata": {},
     "output_type": "execute_result"
    }
   ],
   "source": [
    "ecog_data_file_l[16:ecog_data_file_l.__len__()]"
   ]
  },
  {
   "cell_type": "code",
   "execution_count": null,
   "id": "1ae28952",
   "metadata": {},
   "outputs": [],
   "source": [
    "# # Preprocess Contralateral Data\n",
    "# for index in range(16, ecog_data_file_l.__len__()):\n",
    "#     preprocessor = PreprocessData(ecog_data_file_l[index], motion_data_file_l[index])\n",
    "#     X, y = preprocessor.process()\n",
    "#     preprocessor.save()"
   ]
  },
  {
   "cell_type": "code",
   "execution_count": 181,
   "id": "72db258b",
   "metadata": {},
   "outputs": [],
   "source": [
    "# Read in the data\n",
    "processed_data_l_X = glob(os.path.join('/home/linux-pc/gh/CRCNS/src/motor_cortex/data/data/', '**', \"**\", \"X.npy\"))\n",
    "processed_data_l_y = glob(os.path.join('/home/linux-pc/gh/CRCNS/src/motor_cortex/data/data/', '**', \"**\", \"y.npy\"))"
   ]
  },
  {
   "cell_type": "code",
   "execution_count": 182,
   "id": "88d61567",
   "metadata": {},
   "outputs": [
    {
     "data": {
      "text/plain": [
       "['/home/linux-pc/gh/CRCNS/src/motor_cortex/data/data/Ipsilateral/2018-05-10_(S7)/X.npy',\n",
       " '/home/linux-pc/gh/CRCNS/src/motor_cortex/data/data/Ipsilateral/2018-05-24_(S10)/X.npy',\n",
       " '/home/linux-pc/gh/CRCNS/src/motor_cortex/data/data/Ipsilateral/2018-04-29_(S1)/X.npy',\n",
       " '/home/linux-pc/gh/CRCNS/src/motor_cortex/data/data/Ipsilateral/2018-05-06_(S6)/X.npy',\n",
       " '/home/linux-pc/gh/CRCNS/src/motor_cortex/data/data/Ipsilateral/2018-05-03_(S5)/X.npy',\n",
       " '/home/linux-pc/gh/CRCNS/src/motor_cortex/data/data/Ipsilateral/2018-05-03_(S3)/X.npy',\n",
       " '/home/linux-pc/gh/CRCNS/src/motor_cortex/data/data/Ipsilateral/2018-05-03_(S4)/X.npy',\n",
       " '/home/linux-pc/gh/CRCNS/src/motor_cortex/data/data/Ipsilateral/2018-05-10_(S8)/X.npy',\n",
       " '/home/linux-pc/gh/CRCNS/src/motor_cortex/data/data/Ipsilateral/2018-05-17_(S9)/X.npy',\n",
       " '/home/linux-pc/gh/CRCNS/src/motor_cortex/data/data/Ipsilateral/2018-04-29_(S2)/X.npy']"
      ]
     },
     "execution_count": 182,
     "metadata": {},
     "output_type": "execute_result"
    }
   ],
   "source": [
    "processed_data_l_X"
   ]
  },
  {
   "cell_type": "code",
   "execution_count": 183,
   "id": "748c0cd7",
   "metadata": {},
   "outputs": [
    {
     "data": {
      "text/plain": [
       "['/home/linux-pc/gh/CRCNS/src/motor_cortex/data/data/Ipsilateral/2018-05-10_(S7)/y.npy',\n",
       " '/home/linux-pc/gh/CRCNS/src/motor_cortex/data/data/Ipsilateral/2018-05-24_(S10)/y.npy',\n",
       " '/home/linux-pc/gh/CRCNS/src/motor_cortex/data/data/Ipsilateral/2018-04-29_(S1)/y.npy',\n",
       " '/home/linux-pc/gh/CRCNS/src/motor_cortex/data/data/Ipsilateral/2018-05-06_(S6)/y.npy',\n",
       " '/home/linux-pc/gh/CRCNS/src/motor_cortex/data/data/Ipsilateral/2018-05-03_(S5)/y.npy',\n",
       " '/home/linux-pc/gh/CRCNS/src/motor_cortex/data/data/Ipsilateral/2018-05-03_(S3)/y.npy',\n",
       " '/home/linux-pc/gh/CRCNS/src/motor_cortex/data/data/Ipsilateral/2018-05-03_(S4)/y.npy',\n",
       " '/home/linux-pc/gh/CRCNS/src/motor_cortex/data/data/Ipsilateral/2018-05-10_(S8)/y.npy',\n",
       " '/home/linux-pc/gh/CRCNS/src/motor_cortex/data/data/Ipsilateral/2018-05-17_(S9)/y.npy',\n",
       " '/home/linux-pc/gh/CRCNS/src/motor_cortex/data/data/Ipsilateral/2018-04-29_(S2)/y.npy']"
      ]
     },
     "execution_count": 183,
     "metadata": {},
     "output_type": "execute_result"
    }
   ],
   "source": [
    "processed_data_l_y"
   ]
  },
  {
   "cell_type": "code",
   "execution_count": 87,
   "id": "43ee63e4",
   "metadata": {},
   "outputs": [],
   "source": [
    "# # Perform K-Fold Cross Validation\n",
    "# iterator = iter(processed_data_l)\n",
    "\n",
    "# for X, y in zip(iterator, iterator):\n",
    "#     print(X)\n",
    "#     print(y)\n",
    "\n",
    "# Create k-fold cross validation\n",
    "# select the best model\n",
    "# make a prediction\n",
    "# visualize the predictions in matlab\n",
    "# create a live demo\n",
    "# deploy demo onto the web\n",
    "# share results for testing with real people\n"
   ]
  },
  {
   "cell_type": "code",
   "execution_count": 184,
   "id": "90f54ef9",
   "metadata": {},
   "outputs": [],
   "source": [
    "# Define K-fold sets\n",
    "test_list_X = []\n",
    "train_list_X = []\n",
    "test_list_y = []\n",
    "train_list_y = []\n",
    "\n",
    "for i in range(len(processed_data_l_X)):\n",
    "    test_list_X.append(processed_data_l_X[i])\n",
    "    test_list_y.append(processed_data_l_y[i])\n",
    "    train_X = [x for idx, x in enumerate(processed_data_l_X) if idx != i]\n",
    "    train_y = [y for idx, y in enumerate(processed_data_l_y) if idx != i]\n",
    "    train_list_X.append(train_X)\n",
    "    train_list_y.append(train_y)"
   ]
  },
  {
   "cell_type": "code",
   "execution_count": 185,
   "id": "c45412d7",
   "metadata": {},
   "outputs": [],
   "source": [
    "INDEX = 0"
   ]
  },
  {
   "cell_type": "code",
   "execution_count": 110,
   "id": "4dc06c62",
   "metadata": {},
   "outputs": [],
   "source": [
    "X = np.load(train_list_X[INDEX][0])\n",
    "y = np.load(train_list_y[INDEX][0])"
   ]
  },
  {
   "cell_type": "code",
   "execution_count": 111,
   "id": "480cc51a",
   "metadata": {},
   "outputs": [],
   "source": [
    "# Creating Train and Validation Sets\n",
    "dataset = EcogMotionDataset(X, y)\n",
    "train_size = int(0.8 * len(dataset))\n",
    "val_size = len(dataset) - train_size\n",
    "train_ds, val_ds = random_split(dataset, [train_size, val_size])\n",
    "\n",
    "train_loader = DataLoader(train_ds, batch_size=64, shuffle=True)\n",
    "val_loader = DataLoader(val_ds, batch_size=64)"
   ]
  },
  {
   "cell_type": "code",
   "execution_count": 112,
   "id": "066e8641",
   "metadata": {},
   "outputs": [],
   "source": [
    "# Defining the model\n",
    "\n",
    "# Train Linear Model\n",
    "input_channels = X.shape[2]\n",
    "sequence_length = X.shape[1]\n",
    "model = LinearEcogToMotionNet(input_channels, sequence_length)\n",
    "\n",
    "# Train 1D CNN\n",
    "# model = EcogToMotionNet()\n",
    "\n",
    "# Train LSTM\n",
    "# model = EcogLSTM(input_size=64, hidden_size=128, num_layers=1, output_size=3)\n"
   ]
  },
  {
   "cell_type": "code",
   "execution_count": 118,
   "id": "cbc6a8dd",
   "metadata": {},
   "outputs": [
    {
     "name": "stdout",
     "output_type": "stream",
     "text": [
      "Epoch 1 | Train Loss: 1.0769 | Val.Loss: 1.0425\n",
      "Epoch 2 | Train Loss: 1.0670 | Val.Loss: 1.0912\n",
      "Epoch 3 | Train Loss: 1.0628 | Val.Loss: 1.0493\n",
      "Epoch 4 | Train Loss: 1.0661 | Val.Loss: 1.0837\n",
      "Epoch 5 | Train Loss: 1.0581 | Val.Loss: 1.0499\n",
      "Epoch 6 | Train Loss: 1.0566 | Val.Loss: 1.1074\n",
      "Epoch 7 | Train Loss: 1.0686 | Val.Loss: 1.0719\n",
      "Epoch 8 | Train Loss: 1.0677 | Val.Loss: 1.0536\n",
      "Epoch 9 | Train Loss: 1.0560 | Val.Loss: 1.0878\n",
      "Epoch 10 | Train Loss: 1.0602 | Val.Loss: 1.0627\n",
      "Epoch 11 | Train Loss: 1.0574 | Val.Loss: 1.0796\n",
      "Epoch 12 | Train Loss: 1.0553 | Val.Loss: 1.0486\n",
      "Epoch 13 | Train Loss: 1.0602 | Val.Loss: 1.0814\n",
      "Epoch 14 | Train Loss: 1.0547 | Val.Loss: 1.0619\n",
      "Epoch 15 | Train Loss: 1.0564 | Val.Loss: 1.0507\n",
      "Epoch 16 | Train Loss: 1.0573 | Val.Loss: 1.0746\n",
      "Epoch 17 | Train Loss: 1.0554 | Val.Loss: 1.1448\n",
      "Epoch 18 | Train Loss: 1.0580 | Val.Loss: 1.0960\n",
      "Epoch 19 | Train Loss: 1.0553 | Val.Loss: 1.1393\n",
      "Epoch 20 | Train Loss: 1.0613 | Val.Loss: 1.0804\n"
     ]
    }
   ],
   "source": [
    "# Linear Model \n",
    "\n",
    "# Train Linear Model\n",
    "input_channels = X.shape[2]\n",
    "sequence_length = X.shape[1]\n",
    "linear_model = LinearEcogToMotionNet(input_channels, sequence_length)\n",
    "\n",
    "linear_model.to(device)\n",
    "\n",
    "criterion = nn.MSELoss()\n",
    "optimizer = torch.optim.Adam(linear_model.parameters(), lr=1e-3)\n",
    "\n",
    "# Training loop\n",
    "for epoch in range(20):\n",
    "    linear_model.train()\n",
    "    train_loss = 0.0\n",
    "    for X_batch, y_batch in train_loader:\n",
    "        X_batch = X_batch.to(device)\n",
    "        y_batch = y_batch.to(device)\n",
    "        optimizer.zero_grad()\n",
    "        preds = linear_model(X_batch)\n",
    "        loss = criterion(preds, y_batch)\n",
    "        loss.backward()\n",
    "        optimizer.step()\n",
    "        train_loss += loss.item() * X_batch.size(0)\n",
    "    train_loss /= len(train_loader.dataset)\n",
    "    linear_model.eval()\n",
    "    val_loss = 0.0\n",
    "    with torch.no_grad():\n",
    "        for X_batch, y_batch in val_loader:\n",
    "            X_batch = X_batch.to(device)\n",
    "            y_batch = y_batch.to(device)\n",
    "            preds = linear_model(X_batch)\n",
    "            loss = criterion(preds, y_batch)\n",
    "            val_loss += loss.item() * X_batch.size(0)\n",
    "        val_loss /= len(val_loader.dataset)\n",
    "    print(f\"Epoch {epoch+1} | Train Loss: {train_loss:.4f} | Val.Loss: {val_loss:.4f}\")"
   ]
  },
  {
   "cell_type": "code",
   "execution_count": 119,
   "id": "4c143e13",
   "metadata": {},
   "outputs": [
    {
     "name": "stdout",
     "output_type": "stream",
     "text": [
      "Epoch 1 | Train Loss: 0.9994 | Val.Loss: 0.2495\n",
      "Epoch 2 | Train Loss: 0.9770 | Val.Loss: 0.2430\n",
      "Epoch 3 | Train Loss: 0.9631 | Val.Loss: 0.2477\n",
      "Epoch 4 | Train Loss: 0.9531 | Val.Loss: 0.2396\n",
      "Epoch 5 | Train Loss: 0.9434 | Val.Loss: 0.2385\n",
      "Epoch 6 | Train Loss: 0.9345 | Val.Loss: 0.2365\n",
      "Epoch 7 | Train Loss: 0.9297 | Val.Loss: 0.2370\n",
      "Epoch 8 | Train Loss: 0.9209 | Val.Loss: 0.2328\n",
      "Epoch 9 | Train Loss: 0.9183 | Val.Loss: 0.2328\n",
      "Epoch 10 | Train Loss: 0.9145 | Val.Loss: 0.2316\n",
      "Epoch 11 | Train Loss: 0.9061 | Val.Loss: 0.2343\n",
      "Epoch 12 | Train Loss: 0.9038 | Val.Loss: 0.2293\n",
      "Epoch 13 | Train Loss: 0.8985 | Val.Loss: 0.2479\n",
      "Epoch 14 | Train Loss: 0.8971 | Val.Loss: 0.2315\n",
      "Epoch 15 | Train Loss: 0.8933 | Val.Loss: 0.2341\n",
      "Epoch 16 | Train Loss: 0.8907 | Val.Loss: 0.2290\n",
      "Epoch 17 | Train Loss: 0.8854 | Val.Loss: 0.2285\n",
      "Epoch 18 | Train Loss: 0.8835 | Val.Loss: 0.2287\n",
      "Epoch 19 | Train Loss: 0.8812 | Val.Loss: 0.2319\n",
      "Epoch 20 | Train Loss: 0.8790 | Val.Loss: 0.2307\n"
     ]
    }
   ],
   "source": [
    "# Train 1D CNN\n",
    "cnn_model = EcogToMotionNet()\n",
    "\n",
    "cnn_model.to(device)\n",
    "\n",
    "criterion = nn.MSELoss()\n",
    "optimizer = torch.optim.Adam(cnn_model.parameters(), lr=1e-3)\n",
    "\n",
    "# Training loop\n",
    "for epoch in range(20):\n",
    "    cnn_model.train()\n",
    "    train_loss = 0.0\n",
    "    for X_batch, y_batch in train_loader:\n",
    "        X_batch = X_batch.to(device)\n",
    "        y_batch = y_batch.to(device)\n",
    "        optimizer.zero_grad()\n",
    "        preds = cnn_model(X_batch)\n",
    "        loss = criterion(preds, y_batch)\n",
    "        loss.backward()\n",
    "        optimizer.step()\n",
    "        train_loss += loss.item() * X_batch.size(0)\n",
    "    train_loss /= len(train_loader.dataset)\n",
    "    cnn_model.eval()\n",
    "    val_loss = 0.0\n",
    "    with torch.no_grad():\n",
    "        for X_batch, y_batch in val_loader:\n",
    "            X_batch = X_batch.to(device)\n",
    "            y_batch = y_batch.to(device)\n",
    "            preds = cnn_model(X_batch)\n",
    "            loss = criterion(preds, y_batch)\n",
    "            val_loss += loss.item() * X_batch.size(0)\n",
    "        val_loss /= len(train_loader.dataset)\n",
    "    print(f\"Epoch {epoch+1} | Train Loss: {train_loss:.4f} | Val.Loss: {val_loss:.4f}\")"
   ]
  },
  {
   "cell_type": "code",
   "execution_count": 120,
   "id": "488148af",
   "metadata": {},
   "outputs": [
    {
     "name": "stdout",
     "output_type": "stream",
     "text": [
      "Epoch 1 | Train Loss: 1.0004 | Val.Loss: 0.9923\n",
      "Epoch 2 | Train Loss: 0.9716 | Val.Loss: 0.9686\n",
      "Epoch 3 | Train Loss: 0.9420 | Val.Loss: 0.9514\n",
      "Epoch 4 | Train Loss: 0.9124 | Val.Loss: 0.9452\n",
      "Epoch 5 | Train Loss: 0.8796 | Val.Loss: 0.9342\n",
      "Epoch 6 | Train Loss: 0.8474 | Val.Loss: 0.9411\n",
      "Epoch 7 | Train Loss: 0.8076 | Val.Loss: 0.9484\n",
      "Epoch 8 | Train Loss: 0.7728 | Val.Loss: 0.9455\n",
      "Epoch 9 | Train Loss: 0.7284 | Val.Loss: 0.9544\n",
      "Epoch 10 | Train Loss: 0.6806 | Val.Loss: 0.9683\n",
      "Epoch 11 | Train Loss: 0.6380 | Val.Loss: 1.0158\n",
      "Epoch 12 | Train Loss: 0.5997 | Val.Loss: 0.9988\n",
      "Epoch 13 | Train Loss: 0.5606 | Val.Loss: 1.0065\n",
      "Epoch 14 | Train Loss: 0.5273 | Val.Loss: 1.0425\n",
      "Epoch 15 | Train Loss: 0.4947 | Val.Loss: 1.0300\n",
      "Epoch 16 | Train Loss: 0.4615 | Val.Loss: 1.0406\n",
      "Epoch 17 | Train Loss: 0.4639 | Val.Loss: 1.0984\n",
      "Epoch 18 | Train Loss: 0.4299 | Val.Loss: 1.0619\n",
      "Epoch 19 | Train Loss: 0.4070 | Val.Loss: 1.0506\n",
      "Epoch 20 | Train Loss: 0.3831 | Val.Loss: 1.0776\n"
     ]
    }
   ],
   "source": [
    "lstm_model = EcogLSTM(input_size=64, hidden_size=128, num_layers=1, output_size=3)\n",
    "lstm_model.to(device)\n",
    "\n",
    "criterion = nn.MSELoss()\n",
    "optimizer = torch.optim.Adam(lstm_model.parameters(), lr=1e-3)\n",
    "\n",
    "# Training loop\n",
    "for epoch in range(20):\n",
    "    lstm_model.train()\n",
    "    train_loss = 0.0\n",
    "    for X_batch, y_batch in train_loader:\n",
    "        X_batch = X_batch.to(device)\n",
    "        y_batch = y_batch.to(device)\n",
    "        optimizer.zero_grad()\n",
    "        preds = lstm_model(X_batch)\n",
    "        loss = criterion(preds, y_batch)\n",
    "        loss.backward()\n",
    "        optimizer.step()\n",
    "        train_loss += loss.item() * X_batch.size(0)\n",
    "    train_loss /= len(train_loader.dataset)\n",
    "    lstm_model.eval()\n",
    "    val_loss = 0.0\n",
    "    with torch.no_grad():\n",
    "        for X_batch, y_batch in val_loader:\n",
    "            X_batch = X_batch.to(device)\n",
    "            y_batch = y_batch.to(device)\n",
    "            preds = lstm_model(X_batch)\n",
    "            loss = criterion(preds, y_batch)\n",
    "            val_loss += loss.item() * X_batch.size(0)\n",
    "        val_loss /= len(val_loader.dataset)\n",
    "    print(f\"Epoch {epoch+1} | Train Loss: {train_loss:.4f} | Val.Loss: {val_loss:.4f}\")"
   ]
  },
  {
   "cell_type": "code",
   "execution_count": 121,
   "id": "3795d93f",
   "metadata": {},
   "outputs": [
    {
     "name": "stdout",
     "output_type": "stream",
     "text": [
      "LSTM Epoch 1/20 | Train Loss: 1.000173 | Val Loss: 0.985028\n",
      "LSTM Epoch 2/20 | Train Loss: 0.968249 | Val Loss: 0.971762\n",
      "LSTM Epoch 3/20 | Train Loss: 0.940451 | Val Loss: 0.963314\n",
      "LSTM Epoch 4/20 | Train Loss: 0.910935 | Val Loss: 0.933151\n",
      "LSTM Epoch 5/20 | Train Loss: 0.882087 | Val Loss: 0.974250\n",
      "LSTM Epoch 6/20 | Train Loss: 0.850699 | Val Loss: 0.926796\n",
      "LSTM Epoch 7/20 | Train Loss: 0.809231 | Val Loss: 0.938743\n",
      "LSTM Epoch 8/20 | Train Loss: 0.769914 | Val Loss: 0.912947\n",
      "LSTM Epoch 9/20 | Train Loss: 0.721400 | Val Loss: 0.927785\n",
      "LSTM Epoch 10/20 | Train Loss: 0.679241 | Val Loss: 0.949331\n",
      "LSTM Epoch 11/20 | Train Loss: 0.631987 | Val Loss: 0.980594\n",
      "LSTM Epoch 12/20 | Train Loss: 0.596652 | Val Loss: 0.971570\n",
      "LSTM Epoch 13/20 | Train Loss: 0.552434 | Val Loss: 1.006171\n",
      "Early stopping at epoch 13\n",
      "CNN Epoch 1/20 | Train Loss: 1.001543 | Val Loss: 0.992551\n",
      "CNN Epoch 2/20 | Train Loss: 0.977874 | Val Loss: 0.983221\n",
      "CNN Epoch 3/20 | Train Loss: 0.963575 | Val Loss: 0.967269\n",
      "CNN Epoch 4/20 | Train Loss: 0.952415 | Val Loss: 0.951571\n",
      "CNN Epoch 5/20 | Train Loss: 0.942821 | Val Loss: 0.946473\n",
      "CNN Epoch 6/20 | Train Loss: 0.937269 | Val Loss: 0.936760\n",
      "CNN Epoch 7/20 | Train Loss: 0.929832 | Val Loss: 0.950044\n",
      "CNN Epoch 8/20 | Train Loss: 0.920660 | Val Loss: 0.939989\n",
      "CNN Epoch 9/20 | Train Loss: 0.915860 | Val Loss: 0.925352\n",
      "CNN Epoch 10/20 | Train Loss: 0.911779 | Val Loss: 0.931861\n",
      "CNN Epoch 11/20 | Train Loss: 0.906626 | Val Loss: 0.917738\n",
      "CNN Epoch 12/20 | Train Loss: 0.902901 | Val Loss: 0.927349\n",
      "CNN Epoch 13/20 | Train Loss: 0.898917 | Val Loss: 0.949030\n",
      "CNN Epoch 14/20 | Train Loss: 0.894392 | Val Loss: 0.925086\n",
      "CNN Epoch 15/20 | Train Loss: 0.892404 | Val Loss: 0.927686\n",
      "CNN Epoch 16/20 | Train Loss: 0.887732 | Val Loss: 0.917164\n",
      "CNN Epoch 17/20 | Train Loss: 0.885846 | Val Loss: 0.910395\n",
      "CNN Epoch 18/20 | Train Loss: 0.883578 | Val Loss: 0.938427\n",
      "CNN Epoch 19/20 | Train Loss: 0.881586 | Val Loss: 0.920874\n",
      "CNN Epoch 20/20 | Train Loss: 0.883435 | Val Loss: 0.936222\n",
      "Linear Epoch 1/20 | Train Loss: 1.078612 | Val Loss: 1.056370\n",
      "Linear Epoch 2/20 | Train Loss: 1.066135 | Val Loss: 1.113608\n",
      "Linear Epoch 3/20 | Train Loss: 1.061443 | Val Loss: 1.073383\n",
      "Linear Epoch 4/20 | Train Loss: 1.067653 | Val Loss: 1.126773\n",
      "Linear Epoch 5/20 | Train Loss: 1.068071 | Val Loss: 1.110402\n",
      "Linear Epoch 6/20 | Train Loss: 1.062628 | Val Loss: 1.052734\n",
      "Linear Epoch 7/20 | Train Loss: 1.054985 | Val Loss: 1.070441\n",
      "Linear Epoch 8/20 | Train Loss: 1.059542 | Val Loss: 1.070533\n",
      "Linear Epoch 9/20 | Train Loss: 1.057576 | Val Loss: 1.108474\n",
      "Linear Epoch 10/20 | Train Loss: 1.061670 | Val Loss: 1.084115\n",
      "Linear Epoch 11/20 | Train Loss: 1.064507 | Val Loss: 1.186585\n",
      "Early stopping at epoch 11\n"
     ]
    },
    {
     "data": {
      "image/png": "[encoded data removed]",
      "text/plain": [
       "<Figure size 1000x600 with 1 Axes>"
      ]
     },
     "metadata": {},
     "output_type": "display_data"
    }
   ],
   "source": [
    "import torch\n",
    "from torch.utils.data import DataLoader\n",
    "import matplotlib.pyplot as plt\n",
    "import os\n",
    "\n",
    "def train_model(model, train_loader, val_loader, criterion, optimizer, device, epochs=20, early_stopping_patience=5, model_name=\"model\"):\n",
    "    model.to(device)\n",
    "    best_val_loss = float('inf')\n",
    "    best_epoch = 0\n",
    "    \n",
    "    train_losses = []\n",
    "    val_losses = []\n",
    "    \n",
    "    for epoch in range(epochs):\n",
    "        model.train()\n",
    "        running_train_loss = 0.0\n",
    "        for X_batch, y_batch in train_loader:\n",
    "            X_batch = X_batch.to(device)\n",
    "            y_batch = y_batch.to(device)\n",
    "            optimizer.zero_grad()\n",
    "            preds = model(X_batch)\n",
    "            loss = criterion(preds, y_batch)\n",
    "            loss.backward()\n",
    "            optimizer.step()\n",
    "            running_train_loss += loss.item() * X_batch.size(0)\n",
    "        avg_train_loss = running_train_loss / len(train_loader.dataset)\n",
    "        train_losses.append(avg_train_loss)\n",
    "        \n",
    "        model.eval()\n",
    "        running_val_loss = 0.0\n",
    "        with torch.no_grad():\n",
    "            for X_batch, y_batch in val_loader:\n",
    "                X_batch = X_batch.to(device)\n",
    "                y_batch = y_batch.to(device)\n",
    "                preds = model(X_batch)\n",
    "                loss = criterion(preds, y_batch)\n",
    "                running_val_loss += loss.item() * X_batch.size(0)\n",
    "        avg_val_loss = running_val_loss / len(val_loader.dataset)\n",
    "        val_losses.append(avg_val_loss)\n",
    "        \n",
    "        print(f\"{model_name} Epoch {epoch+1}/{epochs} | Train Loss: {avg_train_loss:.6f} | Val Loss: {avg_val_loss:.6f}\")\n",
    "        \n",
    "        # Save best model checkpoint\n",
    "        if avg_val_loss < best_val_loss:\n",
    "            best_val_loss = avg_val_loss\n",
    "            best_epoch = epoch\n",
    "            torch.save(model.state_dict(), f\"{model_name}_best.pth\")\n",
    "        \n",
    "        # Early stopping\n",
    "        if epoch - best_epoch >= early_stopping_patience:\n",
    "            print(f\"Early stopping at epoch {epoch+1}\")\n",
    "            break\n",
    "    \n",
    "    return train_losses, val_losses\n",
    "\n",
    "def plot_losses(losses_dict):\n",
    "    plt.figure(figsize=(10,6))\n",
    "    for model_name, (train_losses, val_losses) in losses_dict.items():\n",
    "        plt.plot(train_losses, label=f\"{model_name} Train\")\n",
    "        plt.plot(val_losses, label=f\"{model_name} Val\")\n",
    "    plt.xlabel(\"Epoch\")\n",
    "    plt.ylabel(\"Loss (MSE)\")\n",
    "    plt.title(\"Training and Validation Loss Curves\")\n",
    "    plt.legend()\n",
    "    plt.grid(True)\n",
    "    plt.show()\n",
    "\n",
    "# Example usage:\n",
    "device = torch.device(\"cuda\" if torch.cuda.is_available() else \"cpu\")\n",
    "\n",
    "# Assuming train_loader, val_loader, criterion are defined\n",
    "\n",
    "# 1. LSTM\n",
    "lstm_model = EcogLSTM(input_size=64, hidden_size=128, num_layers=1, output_size=3)\n",
    "lstm_optimizer = torch.optim.Adam(lstm_model.parameters(), lr=1e-3)\n",
    "lstm_train_losses, lstm_val_losses = train_model(lstm_model, train_loader, val_loader, criterion, lstm_optimizer, device, epochs=20, model_name=\"LSTM\")\n",
    "\n",
    "# 2. CNN\n",
    "cnn_model = EcogToMotionNet()\n",
    "cnn_optimizer = torch.optim.Adam(cnn_model.parameters(), lr=1e-3)\n",
    "cnn_train_losses, cnn_val_losses = train_model(cnn_model, train_loader, val_loader, criterion, cnn_optimizer, device, epochs=20, model_name=\"CNN\")\n",
    "\n",
    "# 3. Linear\n",
    "input_channels = X.shape[2]\n",
    "sequence_length = X.shape[1]\n",
    "linear_model = LinearEcogToMotionNet(input_channels, sequence_length)\n",
    "linear_optimizer = torch.optim.Adam(linear_model.parameters(), lr=1e-3)\n",
    "linear_train_losses, linear_val_losses = train_model(linear_model, train_loader, val_loader, criterion, linear_optimizer, device, epochs=20, model_name=\"Linear\")\n",
    "\n",
    "# Plot all losses together\n",
    "plot_losses({\n",
    "    \"LSTM\": (lstm_train_losses, lstm_val_losses),\n",
    "    \"CNN\": (cnn_train_losses, cnn_val_losses),\n",
    "    \"Linear\": (linear_train_losses, linear_val_losses)\n",
    "})\n"
   ]
  }
 ],
 "metadata": {
  "kernelspec": {
   "display_name": "torch",
   "language": "python",
   "name": "python3"
  },
  "language_info": {
   "codemirror_mode": {
    "name": "ipython",
    "version": 3
   },
   "file_extension": ".py",
   "mimetype": "text/x-python",
   "name": "python",
   "nbconvert_exporter": "python",
   "pygments_lexer": "ipython3",
   "version": "3.10.16"
  }
 },
 "nbformat": 4,
 "nbformat_minor": 5
}
