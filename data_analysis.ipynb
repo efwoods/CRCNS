{
 "cells": [
  {
   "cell_type": "code",
   "execution_count": 22,
   "id": "854f15c9",
   "metadata": {},
   "outputs": [],
   "source": [
    "import os\n",
    "import numpy as np\n",
    "import torch\n",
    "import pandas as pd\n",
    "from glob import glob\n",
    "from scipy.io import loadmat"
   ]
  },
  {
   "cell_type": "code",
   "execution_count": 23,
   "id": "283cc29d",
   "metadata": {},
   "outputs": [
    {
     "data": {
      "text/plain": [
       "'/home/linux-pc/gh/CRCNS/src/motor_cortex/data/'"
      ]
     },
     "execution_count": 23,
     "metadata": {},
     "output_type": "execute_result"
    }
   ],
   "source": [
    "os.path.join(os.getcwd(), \"src/\", \"motor_cortex/data/\")"
   ]
  },
  {
   "cell_type": "code",
   "execution_count": 26,
   "id": "23012be0",
   "metadata": {},
   "outputs": [
    {
     "data": {
      "text/plain": [
       "['/home/linux-pc/gh/CRCNS/src/motor_cortex/data/data/Bilateral/2018-07-12_(S1)/motion_data.json',\n",
       " '/home/linux-pc/gh/CRCNS/src/motor_cortex/data/data/Bilateral/2018-07-12_(S1)/ecog_data.json']"
      ]
     },
     "execution_count": 26,
     "metadata": {},
     "output_type": "execute_result"
    }
   ],
   "source": [
    "data_file_dir = os.path.join(os.getcwd(), \"src/\", \"motor_cortex/data/\")\n",
    "data_file_l = glob(os.path.join(data_file_dir, \"**\", \"*.json\"), recursive=True)\n",
    "data_file_l"
   ]
  },
  {
   "cell_type": "code",
   "execution_count": 27,
   "id": "03e3be3e",
   "metadata": {},
   "outputs": [
    {
     "data": {
      "text/plain": [
       "['/home/linux-pc/gh/CRCNS/src/motor_cortex/data/data/Bilateral/2018-07-12_(S1)/motion_data.json',\n",
       " '/home/linux-pc/gh/CRCNS/src/motor_cortex/data/data/Bilateral/2018-07-12_(S1)/ecog_data.json']"
      ]
     },
     "execution_count": 27,
     "metadata": {},
     "output_type": "execute_result"
    }
   ],
   "source": [
    "data_file_l"
   ]
  },
  {
   "cell_type": "code",
   "execution_count": 28,
   "id": "526f45a1",
   "metadata": {},
   "outputs": [],
   "source": [
    "active_data = data_file_l[0]"
   ]
  },
  {
   "cell_type": "code",
   "execution_count": 30,
   "id": "dafb318b",
   "metadata": {},
   "outputs": [],
   "source": [
    "motion_data_bilateral_2018_07_12_S1 = pd.read_json(data_file_l[0])"
   ]
  },
  {
   "cell_type": "code",
   "execution_count": null,
   "id": "a5ef02ce",
   "metadata": {},
   "outputs": [
    {
     "data": {
      "text/html": [
       "<div>\n",
       "<style scoped>\n",
       "    .dataframe tbody tr th:only-of-type {\n",
       "        vertical-align: middle;\n",
       "    }\n",
       "\n",
       "    .dataframe tbody tr th {\n",
       "        vertical-align: top;\n",
       "    }\n",
       "\n",
       "    .dataframe thead th {\n",
       "        text-align: right;\n",
       "    }\n",
       "</style>\n",
       "<table border=\"1\" class=\"dataframe\">\n",
       "  <thead>\n",
       "    <tr style=\"text-align: right;\">\n",
       "      <th></th>\n",
       "      <th>Fsm</th>\n",
       "      <th>Left_Wrist</th>\n",
       "      <th>Motion_time</th>\n",
       "      <th>Right_Wrist</th>\n",
       "    </tr>\n",
       "  </thead>\n",
       "  <tbody>\n",
       "    <tr>\n",
       "      <th>0</th>\n",
       "      <td>50</td>\n",
       "      <td>[-0.589975699440321, -0.5903992009423561, -0.2...</td>\n",
       "      <td>0.000</td>\n",
       "      <td>[-2.3083753103003932, 0.15608673428576703, 1.1...</td>\n",
       "    </tr>\n",
       "    <tr>\n",
       "      <th>1</th>\n",
       "      <td>50</td>\n",
       "      <td>[-0.587233997735434, -0.570032435787414, -0.21...</td>\n",
       "      <td>0.024</td>\n",
       "      <td>[-2.320214508076322, 0.17814052465931002, 1.00...</td>\n",
       "    </tr>\n",
       "    <tr>\n",
       "      <th>2</th>\n",
       "      <td>50</td>\n",
       "      <td>[-0.5778287025923851, -0.5777347200413531, -0....</td>\n",
       "      <td>0.044</td>\n",
       "      <td>[-2.214927833538837, 0.09090226626556501, 0.88...</td>\n",
       "    </tr>\n",
       "    <tr>\n",
       "      <th>3</th>\n",
       "      <td>50</td>\n",
       "      <td>[-0.5253976050376831, -0.5000429184132891, -0....</td>\n",
       "      <td>0.062</td>\n",
       "      <td>[-2.149553202321297, 0.041767147530273004, 0.7...</td>\n",
       "    </tr>\n",
       "    <tr>\n",
       "      <th>4</th>\n",
       "      <td>50</td>\n",
       "      <td>[-0.567821584334685, -0.568261903795353, -0.24...</td>\n",
       "      <td>0.082</td>\n",
       "      <td>[-2.122593200012124, 0.021871839103216002, 0.6...</td>\n",
       "    </tr>\n",
       "    <tr>\n",
       "      <th>...</th>\n",
       "      <td>...</td>\n",
       "      <td>...</td>\n",
       "      <td>...</td>\n",
       "      <td>...</td>\n",
       "    </tr>\n",
       "    <tr>\n",
       "      <th>51288</th>\n",
       "      <td>50</td>\n",
       "      <td>[0.98391928002338, 1.3751216796585, -0.2506018...</td>\n",
       "      <td>1026.151</td>\n",
       "      <td>[1.189555398512208, 0.67293669912854, 0.693372...</td>\n",
       "    </tr>\n",
       "    <tr>\n",
       "      <th>51289</th>\n",
       "      <td>50</td>\n",
       "      <td>[0.9961038205344911, 1.382786108590557, -0.243...</td>\n",
       "      <td>1026.170</td>\n",
       "      <td>[1.192434338304237, 0.6766109115408661, 0.6128...</td>\n",
       "    </tr>\n",
       "    <tr>\n",
       "      <th>51290</th>\n",
       "      <td>50</td>\n",
       "      <td>[0.987837520736029, 1.387219188474847, -0.2430...</td>\n",
       "      <td>1026.191</td>\n",
       "      <td>[1.2056528541181861, 0.697863943321781, 0.5326...</td>\n",
       "    </tr>\n",
       "    <tr>\n",
       "      <th>51291</th>\n",
       "      <td>50</td>\n",
       "      <td>[0.9788028092215331, 1.39288587000639, -0.2424...</td>\n",
       "      <td>1026.211</td>\n",
       "      <td>[1.207817532463936, 0.6979040320298401, 0.4569...</td>\n",
       "    </tr>\n",
       "    <tr>\n",
       "      <th>51292</th>\n",
       "      <td>50</td>\n",
       "      <td>[1.059254879011309, 1.383484965239219, -0.1694...</td>\n",
       "      <td>1026.241</td>\n",
       "      <td>[1.204009111501587, 0.688063994125049, 0.38908...</td>\n",
       "    </tr>\n",
       "  </tbody>\n",
       "</table>\n",
       "<p>51293 rows × 4 columns</p>\n",
       "</div>"
      ],
      "text/plain": [
       "       Fsm                                         Left_Wrist  Motion_time  \\\n",
       "0       50  [-0.589975699440321, -0.5903992009423561, -0.2...        0.000   \n",
       "1       50  [-0.587233997735434, -0.570032435787414, -0.21...        0.024   \n",
       "2       50  [-0.5778287025923851, -0.5777347200413531, -0....        0.044   \n",
       "3       50  [-0.5253976050376831, -0.5000429184132891, -0....        0.062   \n",
       "4       50  [-0.567821584334685, -0.568261903795353, -0.24...        0.082   \n",
       "...    ...                                                ...          ...   \n",
       "51288   50  [0.98391928002338, 1.3751216796585, -0.2506018...     1026.151   \n",
       "51289   50  [0.9961038205344911, 1.382786108590557, -0.243...     1026.170   \n",
       "51290   50  [0.987837520736029, 1.387219188474847, -0.2430...     1026.191   \n",
       "51291   50  [0.9788028092215331, 1.39288587000639, -0.2424...     1026.211   \n",
       "51292   50  [1.059254879011309, 1.383484965239219, -0.1694...     1026.241   \n",
       "\n",
       "                                             Right_Wrist  \n",
       "0      [-2.3083753103003932, 0.15608673428576703, 1.1...  \n",
       "1      [-2.320214508076322, 0.17814052465931002, 1.00...  \n",
       "2      [-2.214927833538837, 0.09090226626556501, 0.88...  \n",
       "3      [-2.149553202321297, 0.041767147530273004, 0.7...  \n",
       "4      [-2.122593200012124, 0.021871839103216002, 0.6...  \n",
       "...                                                  ...  \n",
       "51288  [1.189555398512208, 0.67293669912854, 0.693372...  \n",
       "51289  [1.192434338304237, 0.6766109115408661, 0.6128...  \n",
       "51290  [1.2056528541181861, 0.697863943321781, 0.5326...  \n",
       "51291  [1.207817532463936, 0.6979040320298401, 0.4569...  \n",
       "51292  [1.204009111501587, 0.688063994125049, 0.38908...  \n",
       "\n",
       "[51293 rows x 4 columns]"
      ]
     },
     "execution_count": 37,
     "metadata": {},
     "output_type": "execute_result"
    }
   ],
   "source": [
    "motion_data_bilateral_2018_07_12_S1"
   ]
  },
  {
   "cell_type": "code",
   "execution_count": null,
   "id": "c0593977",
   "metadata": {},
   "outputs": [],
   "source": []
  },
  {
   "cell_type": "code",
   "execution_count": null,
   "id": "cde41391",
   "metadata": {},
   "outputs": [],
   "source": [
    "ecog_data_bilateral_2018_07_12_S1 = pd.read_json(data_file_l[1])"
   ]
  },
  {
   "cell_type": "code",
   "execution_count": 29,
   "id": "2ca09cdd",
   "metadata": {},
   "outputs": [
    {
     "ename": "KeyboardInterrupt",
     "evalue": "",
     "output_type": "error",
     "traceback": [
      "\u001b[0;31m---------------------------------------------------------------------------\u001b[0m",
      "\u001b[0;31mStopIteration\u001b[0m                             Traceback (most recent call last)",
      "File \u001b[0;32m~/anaconda3/envs/torch/lib/python3.10/site-packages/pandas/io/parsers/c_parser_wrapper.py:234\u001b[0m, in \u001b[0;36mCParserWrapper.read\u001b[0;34m(self, nrows)\u001b[0m\n\u001b[1;32m    233\u001b[0m \u001b[38;5;28;01mif\u001b[39;00m \u001b[38;5;28mself\u001b[39m\u001b[38;5;241m.\u001b[39mlow_memory:\n\u001b[0;32m--> 234\u001b[0m     chunks \u001b[38;5;241m=\u001b[39m \u001b[38;5;28;43mself\u001b[39;49m\u001b[38;5;241;43m.\u001b[39;49m\u001b[43m_reader\u001b[49m\u001b[38;5;241;43m.\u001b[39;49m\u001b[43mread_low_memory\u001b[49m\u001b[43m(\u001b[49m\u001b[43mnrows\u001b[49m\u001b[43m)\u001b[49m\n\u001b[1;32m    235\u001b[0m     \u001b[38;5;66;03m# destructive to chunks\u001b[39;00m\n",
      "File \u001b[0;32mparsers.pyx:863\u001b[0m, in \u001b[0;36mpandas._libs.parsers.TextReader.read_low_memory\u001b[0;34m()\u001b[0m\n",
      "\u001b[0;31mStopIteration\u001b[0m: ",
      "\nDuring handling of the above exception, another exception occurred:\n",
      "\u001b[0;31mKeyboardInterrupt\u001b[0m                         Traceback (most recent call last)",
      "Cell \u001b[0;32mIn[29], line 1\u001b[0m\n\u001b[0;32m----> 1\u001b[0m motion_data_bilateral_2018_07_12_S1 \u001b[38;5;241m=\u001b[39m \u001b[43mpd\u001b[49m\u001b[38;5;241;43m.\u001b[39;49m\u001b[43mread_csv\u001b[49m\u001b[43m(\u001b[49m\u001b[43mactive_data\u001b[49m\u001b[43m)\u001b[49m\n",
      "File \u001b[0;32m~/anaconda3/envs/torch/lib/python3.10/site-packages/pandas/io/parsers/readers.py:1026\u001b[0m, in \u001b[0;36mread_csv\u001b[0;34m(filepath_or_buffer, sep, delimiter, header, names, index_col, usecols, dtype, engine, converters, true_values, false_values, skipinitialspace, skiprows, skipfooter, nrows, na_values, keep_default_na, na_filter, verbose, skip_blank_lines, parse_dates, infer_datetime_format, keep_date_col, date_parser, date_format, dayfirst, cache_dates, iterator, chunksize, compression, thousands, decimal, lineterminator, quotechar, quoting, doublequote, escapechar, comment, encoding, encoding_errors, dialect, on_bad_lines, delim_whitespace, low_memory, memory_map, float_precision, storage_options, dtype_backend)\u001b[0m\n\u001b[1;32m   1013\u001b[0m kwds_defaults \u001b[38;5;241m=\u001b[39m _refine_defaults_read(\n\u001b[1;32m   1014\u001b[0m     dialect,\n\u001b[1;32m   1015\u001b[0m     delimiter,\n\u001b[0;32m   (...)\u001b[0m\n\u001b[1;32m   1022\u001b[0m     dtype_backend\u001b[38;5;241m=\u001b[39mdtype_backend,\n\u001b[1;32m   1023\u001b[0m )\n\u001b[1;32m   1024\u001b[0m kwds\u001b[38;5;241m.\u001b[39mupdate(kwds_defaults)\n\u001b[0;32m-> 1026\u001b[0m \u001b[38;5;28;01mreturn\u001b[39;00m \u001b[43m_read\u001b[49m\u001b[43m(\u001b[49m\u001b[43mfilepath_or_buffer\u001b[49m\u001b[43m,\u001b[49m\u001b[43m \u001b[49m\u001b[43mkwds\u001b[49m\u001b[43m)\u001b[49m\n",
      "File \u001b[0;32m~/anaconda3/envs/torch/lib/python3.10/site-packages/pandas/io/parsers/readers.py:626\u001b[0m, in \u001b[0;36m_read\u001b[0;34m(filepath_or_buffer, kwds)\u001b[0m\n\u001b[1;32m    623\u001b[0m     \u001b[38;5;28;01mreturn\u001b[39;00m parser\n\u001b[1;32m    625\u001b[0m \u001b[38;5;28;01mwith\u001b[39;00m parser:\n\u001b[0;32m--> 626\u001b[0m     \u001b[38;5;28;01mreturn\u001b[39;00m \u001b[43mparser\u001b[49m\u001b[38;5;241;43m.\u001b[39;49m\u001b[43mread\u001b[49m\u001b[43m(\u001b[49m\u001b[43mnrows\u001b[49m\u001b[43m)\u001b[49m\n",
      "File \u001b[0;32m~/anaconda3/envs/torch/lib/python3.10/site-packages/pandas/io/parsers/readers.py:1923\u001b[0m, in \u001b[0;36mTextFileReader.read\u001b[0;34m(self, nrows)\u001b[0m\n\u001b[1;32m   1916\u001b[0m nrows \u001b[38;5;241m=\u001b[39m validate_integer(\u001b[38;5;124m\"\u001b[39m\u001b[38;5;124mnrows\u001b[39m\u001b[38;5;124m\"\u001b[39m, nrows)\n\u001b[1;32m   1917\u001b[0m \u001b[38;5;28;01mtry\u001b[39;00m:\n\u001b[1;32m   1918\u001b[0m     \u001b[38;5;66;03m# error: \"ParserBase\" has no attribute \"read\"\u001b[39;00m\n\u001b[1;32m   1919\u001b[0m     (\n\u001b[1;32m   1920\u001b[0m         index,\n\u001b[1;32m   1921\u001b[0m         columns,\n\u001b[1;32m   1922\u001b[0m         col_dict,\n\u001b[0;32m-> 1923\u001b[0m     ) \u001b[38;5;241m=\u001b[39m \u001b[38;5;28;43mself\u001b[39;49m\u001b[38;5;241;43m.\u001b[39;49m\u001b[43m_engine\u001b[49m\u001b[38;5;241;43m.\u001b[39;49m\u001b[43mread\u001b[49m\u001b[43m(\u001b[49m\u001b[43m  \u001b[49m\u001b[38;5;66;43;03m# type: ignore[attr-defined]\u001b[39;49;00m\n\u001b[1;32m   1924\u001b[0m \u001b[43m        \u001b[49m\u001b[43mnrows\u001b[49m\n\u001b[1;32m   1925\u001b[0m \u001b[43m    \u001b[49m\u001b[43m)\u001b[49m\n\u001b[1;32m   1926\u001b[0m \u001b[38;5;28;01mexcept\u001b[39;00m \u001b[38;5;167;01mException\u001b[39;00m:\n\u001b[1;32m   1927\u001b[0m     \u001b[38;5;28mself\u001b[39m\u001b[38;5;241m.\u001b[39mclose()\n",
      "File \u001b[0;32m~/anaconda3/envs/torch/lib/python3.10/site-packages/pandas/io/parsers/c_parser_wrapper.py:256\u001b[0m, in \u001b[0;36mCParserWrapper.read\u001b[0;34m(self, nrows)\u001b[0m\n\u001b[1;32m    253\u001b[0m     \u001b[38;5;28;01mif\u001b[39;00m \u001b[38;5;28mself\u001b[39m\u001b[38;5;241m.\u001b[39musecols \u001b[38;5;129;01mis\u001b[39;00m \u001b[38;5;129;01mnot\u001b[39;00m \u001b[38;5;28;01mNone\u001b[39;00m:\n\u001b[1;32m    254\u001b[0m         columns \u001b[38;5;241m=\u001b[39m \u001b[38;5;28mself\u001b[39m\u001b[38;5;241m.\u001b[39m_filter_usecols(columns)\n\u001b[0;32m--> 256\u001b[0m     col_dict \u001b[38;5;241m=\u001b[39m {k: v \u001b[38;5;28;01mfor\u001b[39;00m k, v \u001b[38;5;129;01min\u001b[39;00m col_dict\u001b[38;5;241m.\u001b[39mitems() \u001b[38;5;28;01mif\u001b[39;00m k \u001b[38;5;129;01min\u001b[39;00m columns}\n\u001b[1;32m    258\u001b[0m     \u001b[38;5;28;01mreturn\u001b[39;00m index, columns, col_dict\n\u001b[1;32m    260\u001b[0m \u001b[38;5;28;01melse\u001b[39;00m:\n",
      "File \u001b[0;32m~/anaconda3/envs/torch/lib/python3.10/site-packages/pandas/io/parsers/c_parser_wrapper.py:256\u001b[0m, in \u001b[0;36m<dictcomp>\u001b[0;34m(.0)\u001b[0m\n\u001b[1;32m    253\u001b[0m     \u001b[38;5;28;01mif\u001b[39;00m \u001b[38;5;28mself\u001b[39m\u001b[38;5;241m.\u001b[39musecols \u001b[38;5;129;01mis\u001b[39;00m \u001b[38;5;129;01mnot\u001b[39;00m \u001b[38;5;28;01mNone\u001b[39;00m:\n\u001b[1;32m    254\u001b[0m         columns \u001b[38;5;241m=\u001b[39m \u001b[38;5;28mself\u001b[39m\u001b[38;5;241m.\u001b[39m_filter_usecols(columns)\n\u001b[0;32m--> 256\u001b[0m     col_dict \u001b[38;5;241m=\u001b[39m {k: v \u001b[38;5;28;01mfor\u001b[39;00m k, v \u001b[38;5;129;01min\u001b[39;00m col_dict\u001b[38;5;241m.\u001b[39mitems() \u001b[38;5;28;01mif\u001b[39;00m k \u001b[38;5;129;01min\u001b[39;00m columns}\n\u001b[1;32m    258\u001b[0m     \u001b[38;5;28;01mreturn\u001b[39;00m index, columns, col_dict\n\u001b[1;32m    260\u001b[0m \u001b[38;5;28;01melse\u001b[39;00m:\n",
      "\u001b[0;31mKeyboardInterrupt\u001b[0m: "
     ]
    }
   ],
   "source": [
    "motion_data_bilateral_2018_07_12_S1 = pd.read_csv(active_data)"
   ]
  },
  {
   "cell_type": "code",
   "execution_count": 21,
   "id": "806049ef",
   "metadata": {},
   "outputs": [
    {
     "data": {
      "text/html": [
       "<div>\n",
       "<style scoped>\n",
       "    .dataframe tbody tr th:only-of-type {\n",
       "        vertical-align: middle;\n",
       "    }\n",
       "\n",
       "    .dataframe tbody tr th {\n",
       "        vertical-align: top;\n",
       "    }\n",
       "\n",
       "    .dataframe thead th {\n",
       "        text-align: right;\n",
       "    }\n",
       "</style>\n",
       "<table border=\"1\" class=\"dataframe\">\n",
       "  <thead>\n",
       "    <tr style=\"text-align: right;\">\n",
       "      <th></th>\n",
       "      <th>Motion_time</th>\n",
       "      <th>Left_Wrist_X</th>\n",
       "      <th>Left_Wrist_Y</th>\n",
       "      <th>Left_Wrist_Z</th>\n",
       "      <th>Right_Wrist_X</th>\n",
       "      <th>Right_Wrist_Y</th>\n",
       "      <th>Right_Wrist_Z</th>\n",
       "      <th>Fsm</th>\n",
       "    </tr>\n",
       "  </thead>\n",
       "  <tbody>\n",
       "    <tr>\n",
       "      <th>0</th>\n",
       "      <td>0.000</td>\n",
       "      <td>-0.589976</td>\n",
       "      <td>-0.590399</td>\n",
       "      <td>-0.228992</td>\n",
       "      <td>-2.308375</td>\n",
       "      <td>0.156087</td>\n",
       "      <td>1.136016</td>\n",
       "      <td>50</td>\n",
       "    </tr>\n",
       "    <tr>\n",
       "      <th>1</th>\n",
       "      <td>0.024</td>\n",
       "      <td>-0.587234</td>\n",
       "      <td>-0.570032</td>\n",
       "      <td>-0.211194</td>\n",
       "      <td>-2.320215</td>\n",
       "      <td>0.178141</td>\n",
       "      <td>1.007657</td>\n",
       "      <td>50</td>\n",
       "    </tr>\n",
       "    <tr>\n",
       "      <th>2</th>\n",
       "      <td>0.044</td>\n",
       "      <td>-0.577829</td>\n",
       "      <td>-0.577735</td>\n",
       "      <td>-0.216256</td>\n",
       "      <td>-2.214928</td>\n",
       "      <td>0.090902</td>\n",
       "      <td>0.881989</td>\n",
       "      <td>50</td>\n",
       "    </tr>\n",
       "    <tr>\n",
       "      <th>3</th>\n",
       "      <td>0.062</td>\n",
       "      <td>-0.525398</td>\n",
       "      <td>-0.500043</td>\n",
       "      <td>-0.190533</td>\n",
       "      <td>-2.149553</td>\n",
       "      <td>0.041767</td>\n",
       "      <td>0.758740</td>\n",
       "      <td>50</td>\n",
       "    </tr>\n",
       "    <tr>\n",
       "      <th>4</th>\n",
       "      <td>0.082</td>\n",
       "      <td>-0.567822</td>\n",
       "      <td>-0.568262</td>\n",
       "      <td>-0.240272</td>\n",
       "      <td>-2.122593</td>\n",
       "      <td>0.021872</td>\n",
       "      <td>0.642614</td>\n",
       "      <td>50</td>\n",
       "    </tr>\n",
       "    <tr>\n",
       "      <th>...</th>\n",
       "      <td>...</td>\n",
       "      <td>...</td>\n",
       "      <td>...</td>\n",
       "      <td>...</td>\n",
       "      <td>...</td>\n",
       "      <td>...</td>\n",
       "      <td>...</td>\n",
       "      <td>...</td>\n",
       "    </tr>\n",
       "    <tr>\n",
       "      <th>51288</th>\n",
       "      <td>1026.151</td>\n",
       "      <td>0.983919</td>\n",
       "      <td>1.375122</td>\n",
       "      <td>-0.250602</td>\n",
       "      <td>1.189555</td>\n",
       "      <td>0.672937</td>\n",
       "      <td>0.693372</td>\n",
       "      <td>50</td>\n",
       "    </tr>\n",
       "    <tr>\n",
       "      <th>51289</th>\n",
       "      <td>1026.170</td>\n",
       "      <td>0.996104</td>\n",
       "      <td>1.382786</td>\n",
       "      <td>-0.243810</td>\n",
       "      <td>1.192434</td>\n",
       "      <td>0.676611</td>\n",
       "      <td>0.612822</td>\n",
       "      <td>50</td>\n",
       "    </tr>\n",
       "    <tr>\n",
       "      <th>51290</th>\n",
       "      <td>1026.191</td>\n",
       "      <td>0.987838</td>\n",
       "      <td>1.387219</td>\n",
       "      <td>-0.243038</td>\n",
       "      <td>1.205653</td>\n",
       "      <td>0.697864</td>\n",
       "      <td>0.532673</td>\n",
       "      <td>50</td>\n",
       "    </tr>\n",
       "    <tr>\n",
       "      <th>51291</th>\n",
       "      <td>1026.211</td>\n",
       "      <td>0.978803</td>\n",
       "      <td>1.392886</td>\n",
       "      <td>-0.242469</td>\n",
       "      <td>1.207818</td>\n",
       "      <td>0.697904</td>\n",
       "      <td>0.456947</td>\n",
       "      <td>50</td>\n",
       "    </tr>\n",
       "    <tr>\n",
       "      <th>51292</th>\n",
       "      <td>1026.241</td>\n",
       "      <td>1.059255</td>\n",
       "      <td>1.383485</td>\n",
       "      <td>-0.169499</td>\n",
       "      <td>1.204009</td>\n",
       "      <td>0.688064</td>\n",
       "      <td>0.389089</td>\n",
       "      <td>50</td>\n",
       "    </tr>\n",
       "  </tbody>\n",
       "</table>\n",
       "<p>51293 rows × 8 columns</p>\n",
       "</div>"
      ],
      "text/plain": [
       "       Motion_time  Left_Wrist_X  Left_Wrist_Y  Left_Wrist_Z  Right_Wrist_X  \\\n",
       "0            0.000     -0.589976     -0.590399     -0.228992      -2.308375   \n",
       "1            0.024     -0.587234     -0.570032     -0.211194      -2.320215   \n",
       "2            0.044     -0.577829     -0.577735     -0.216256      -2.214928   \n",
       "3            0.062     -0.525398     -0.500043     -0.190533      -2.149553   \n",
       "4            0.082     -0.567822     -0.568262     -0.240272      -2.122593   \n",
       "...            ...           ...           ...           ...            ...   \n",
       "51288     1026.151      0.983919      1.375122     -0.250602       1.189555   \n",
       "51289     1026.170      0.996104      1.382786     -0.243810       1.192434   \n",
       "51290     1026.191      0.987838      1.387219     -0.243038       1.205653   \n",
       "51291     1026.211      0.978803      1.392886     -0.242469       1.207818   \n",
       "51292     1026.241      1.059255      1.383485     -0.169499       1.204009   \n",
       "\n",
       "       Right_Wrist_Y  Right_Wrist_Z  Fsm  \n",
       "0           0.156087       1.136016   50  \n",
       "1           0.178141       1.007657   50  \n",
       "2           0.090902       0.881989   50  \n",
       "3           0.041767       0.758740   50  \n",
       "4           0.021872       0.642614   50  \n",
       "...              ...            ...  ...  \n",
       "51288       0.672937       0.693372   50  \n",
       "51289       0.676611       0.612822   50  \n",
       "51290       0.697864       0.532673   50  \n",
       "51291       0.697904       0.456947   50  \n",
       "51292       0.688064       0.389089   50  \n",
       "\n",
       "[51293 rows x 8 columns]"
      ]
     },
     "execution_count": 21,
     "metadata": {},
     "output_type": "execute_result"
    }
   ],
   "source": [
    "motion_data_bilateral_2018_07_12_S1"
   ]
  },
  {
   "cell_type": "code",
   "execution_count": null,
   "id": "22f0319e",
   "metadata": {},
   "outputs": [],
   "source": [
    "ecog_data_bilateral_2018_07_12_S1 = pd.read_csv()"
   ]
  }
 ],
 "metadata": {
  "kernelspec": {
   "display_name": "torch",
   "language": "python",
   "name": "python3"
  },
  "language_info": {
   "codemirror_mode": {
    "name": "ipython",
    "version": 3
   },
   "file_extension": ".py",
   "mimetype": "text/x-python",
   "name": "python",
   "nbconvert_exporter": "python",
   "pygments_lexer": "ipython3",
   "version": "3.10.16"
  }
 },
 "nbformat": 4,
 "nbformat_minor": 5
}
