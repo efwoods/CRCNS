{
 "cells": [
  {
   "cell_type": "code",
   "execution_count": 16,
   "id": "854f15c9",
   "metadata": {},
   "outputs": [
    {
     "name": "stdout",
     "output_type": "stream",
     "text": [
      "Using Device: cuda\n"
     ]
    }
   ],
   "source": [
    "import os\n",
    "import numpy as np\n",
    "import torch\n",
    "import pandas as pd\n",
    "from glob import glob\n",
    "from scipy.io import loadmat\n",
    "import matplotlib.pyplot as plt\n",
    "from scipy.signal import butter, filtfilt, iirnotch, periodogram\n",
    "from sklearn.preprocessing import StandardScaler\n",
    "from scipy.stats import kurtosis\n",
    "from torch.utils.data import random_split\n",
    "import torch.nn as nn\n",
    "from torch.utils.data import Dataset, DataLoader\n",
    "import gc\n",
    "from sklearn.metrics import r2_score\n",
    "from scipy.io import savemat\n",
    "import joblib\n",
    "from scipy.signal import hilbert\n",
    "from sklearn.decomposition import PCA\n",
    "\n",
    "device = torch.device(\"cuda\" if torch.cuda.is_available() else \"cpu\")\n",
    "print(\"Using Device:\", device)"
   ]
  },
  {
   "cell_type": "code",
   "execution_count": null,
   "id": "3b74ce94",
   "metadata": {},
   "outputs": [],
   "source": [
    "# Noise Filters\n",
    "def butter_bandpass(lowcut, highcut, fs, order=5):\n",
    "    nyq = fs / 2.0\n",
    "    low = lowcut / nyq\n",
    "    high = highcut / nyq\n",
    "    b, a = butter(order, [low, high], btype='band')\n",
    "    return b, a\n",
    "\n",
    "def bandpass_filter(data, lowcut=1.0, highcut=200.0, fs=1000.0, order=4):\n",
    "    b, a = butter_bandpass(lowcut, highcut, fs, order=order)\n",
    "    return filtfilt(b, a, data, axis=0)\n",
    "\n",
    "# Apply after bandpass\n",
    "def notch_filter(data, freq=60.0, fs=1000.0, quality=30.0):\n",
    "    b, a = iirnotch(freq, quality, fs)\n",
    "    return filtfilt(b, a, data, axis=0)\n",
    "\n",
    "# Noise Metrics for evaluation\n",
    "def compute_rmse(true, estimate):\n",
    "    return np.sqrt(np.mean((true - estimate) ** 2))\n",
    "\n",
    "# Kurtosis signal reduction > 0 shows a denoised signal\n",
    "def proportion_of_positive_kurtosis_signals(kurtosis_raw, kurtosis_denoised):\n",
    "    return (np.array([(kurtosis_raw - kurtosis_denoised) > 0]).sum() / len(kurtosis_raw)) * 100\n",
    "\n",
    "# Use a Standard scaler to reduce the mean to 0 and std to 1"
   ]
  },
  {
   "cell_type": "code",
   "execution_count": 15,
   "id": "f8e5a040",
   "metadata": {},
   "outputs": [],
   "source": [
    "# Computing the power envelope of each channel\n",
    "\n",
    "def band_power_envelope(ecog_signal: np.ndarray, lowcut: float, highcut: float, fs: float = 1000.0, order: int = 4) -> np.ndarray:\n",
    "    \"\"\"Computes band-limited envelope via Hilbert transform.\n",
    "    Parameters\n",
    "    ----------\n",
    "    self.ecog_signal : np.ndarray (T, channels)\n",
    "        This is the ecog signal that has been filtered.\n",
    "    lowcut : float\n",
    "        This is the lower band limit in Hz.\n",
    "    highcut : float\n",
    "        This is the upper band limit in Hz.\n",
    "    fs : float, optional\n",
    "        This is the frequency of the sample., by default 1000.0\n",
    "    order : int, optional\n",
    "        This is the Butterworth order, by default 4\n",
    "    Returns\n",
    "    -------\n",
    "    np.ndarray\n",
    "        envelope\n",
    "    \"\"\"\n",
    "    # 1. Narrowband bandpass\n",
    "    b, a = butter_bandpass(lowcut, highcut, fs, order=order)\n",
    "    narrow = filtfilt(b, a, ecog_signal, axis=0)\n",
    "    # 2. Hilbert transform to get analytic signal\n",
    "    analytic = hilbert(narrow, axis=0)\n",
    "    # 3. Envelope = absolute value\n",
    "    envelope = np.abs(analytic)\n",
    "    return envelope\n",
    "\n",
    "def multiband_features(ecog_raw: np.ndarray, fs: float = 1000.0) -> np.ndarray:\n",
    "    \"\"\"Builds concatenated band-power features for μ, β, and high-gamma.\n",
    "    Parameters\n",
    "    ----------\n",
    "    ecog_raw : np.ndarray\n",
    "        (T, 64)\n",
    "    fs : float, optional\n",
    "        Frequency of the sample, by default 1000.0\n",
    "    Returns\n",
    "    -------\n",
    "    np.ndarray\n",
    "        features: (T, 64, 3) (μ, β, high-gamma per electrode)\n",
    "    \"\"\"\n",
    "    mu_env = band_power_envelope(ecog_raw, lowcut=8.0, highcut=13.0, fs=fs)\n",
    "    beta_env = band_power_envelope(ecog_raw, lowcut=13.0, highcut=30.0, fs=fs)\n",
    "    hg_env = band_power_envelope(ecog_raw, lowcut=70.0, highcut=200.0, fs=fs)\n",
    "    # Concatenate along channel dimension\n",
    "    return np.concatenate([mu_env, beta_env, hg_env], axis=1)\n"
   ]
  },
  {
   "cell_type": "code",
   "execution_count": 19,
   "id": "5e758286",
   "metadata": {},
   "outputs": [],
   "source": [
    "def create_overlapping_windows(ecog_values: np.ndarray, motion_values: np.ndarray, window_size: int = 20, hop_size: int = 10):\n",
    "    \"\"\"Builds overlapping windows to increase sample count and capture smoother transitions.\n",
    "\n",
    "    Parameters\n",
    "    ----------\n",
    "    ecog_values : np.ndarray\n",
    "        (T, features)\n",
    "    motion_values : np.ndarray\n",
    "        (T_motion, 3)_\n",
    "    window_size : int, optional\n",
    "        number of timepoints per window, by default 20\n",
    "    hop_size : int, optional\n",
    "        step bewteen windows, by default 10\n",
    "    \"\"\"\n",
    "    num_samples, num_features = ecog_values.shape\n",
    "    max_windows = (num_samples - window_size) // hop_size + 1\n",
    "    X_list = []\n",
    "    y_list = []\n",
    "    for w in range(max_windows):\n",
    "        start = w * hop_size\n",
    "        end = start + window_size\n",
    "        if end > num_samples:\n",
    "            break\n",
    "        # Assign label as motion at center of window (or last timepoint)\n",
    "        X_list.append(ecog_values[start:end, :])\n",
    "        y_list.append(motion_values[min(end -1, motion_values.shape[0] -1), :])\n",
    "    X = np.stack(X_list, axis=0)\n",
    "    y = np.stack(y_list, axis=0)\n",
    "    return X, y        \n"
   ]
  },
  {
   "cell_type": "code",
   "execution_count": null,
   "id": "a0b78df6",
   "metadata": {},
   "outputs": [],
   "source": [
    "# Model definitions\n",
    "class EcogMotionDataset(Dataset):\n",
    "    def __init__(self, X, y):\n",
    "        self.X = torch.tensor(X, dtype=torch.float32)\n",
    "        self.y = torch.tensor(y, dtype=torch.float32)\n",
    "    \n",
    "    def __len__(self):\n",
    "        return len(self.X)\n",
    "    \n",
    "    def __getitem__(self, idx):\n",
    "        return self.X[idx], self.y[idx]\n",
    "    \n",
    "# CNN/LSTM hybrid\n",
    "class EcogToMotionNet(nn.Module):\n",
    "    def __init__(self):\n",
    "        super().__init__()\n",
    "\n",
    "        # CNN component: outputs 256 channels\n",
    "        self.convolv = nn.Sequential(\n",
    "            nn.Conv1d(in_channels=64, out_channels=128, kernel_size=3, padding=1),\n",
    "            nn.BatchNorm1d(128),\n",
    "            nn.ReLU(inplace=True),\n",
    "            nn.Conv1d(in_channels=128, out_channels=128, kernel_size=3, padding=1),\n",
    "            nn.BatchNorm1d(128),\n",
    "            nn.ReLU(inplace=True),\n",
    "            nn.Conv1d(in_channels=128, out_channels=256, kernel_size=3, padding=1),  # Fixed to 256 channels\n",
    "            nn.BatchNorm1d(256),\n",
    "            nn.ReLU(inplace=True),\n",
    "            nn.Dropout(p=0.3)\n",
    "        )\n",
    "\n",
    "        # Bi-LSTM component (2 Layers)\n",
    "        self.lstm = nn.LSTM(input_size=256, hidden_size=128, num_layers=2, batch_first=True, bidirectional=True)\n",
    "\n",
    "        self.attn_weight = nn.Linear(2 * 128, 1, bias=False)\n",
    "\n",
    "        # Fully connected layer\n",
    "        self.fc = nn.Sequential(\n",
    "            nn.ReLU(inplace=True),\n",
    "            nn.Dropout(p=0.3),\n",
    "            nn.Linear(2*128, 3)  # Matches hidden_size=128\n",
    "        )\n",
    "\n",
    "    def forward(self, x):\n",
    "        # Input shape: (batch, 20, 64)\n",
    "        x = x.permute(0, 2, 1)  # Shape: (batch, 64, 20)\n",
    "        x = self.convolv(x)      # Shape: (batch, 256, 20)\n",
    "        x = x.permute(0, 2, 1)   # Shape: (batch, 20, 256)\n",
    "\n",
    "        lstm_out, (h_n, c_n) = self.lstm(x)  # lstm_out shape: (batch, 20, 128)\n",
    "\n",
    "        # Compute attention scores\n",
    "        # Flatten across features: attn_score[i, t] = wT * h_{i, t}\n",
    "        # Then softmax over t to get α_{i, t}\n",
    "        attn_scores = self.attn_weight(lstm_out).squeeze(-1)\n",
    "        attn_weights = torch.softmax(attn_scores, dim=1)\n",
    "        # Weighted sum of LSTM outputs:\n",
    "        attn_applied = torch.bmm(attn_weights.unsqueeze(1), lstm_out).squeeze(1)\n",
    "\n",
    "        # Regression to 3D motion\n",
    "        output = self.fc(attn_applied)\n",
    "        return output\n",
    "\n",
    "# Linear Model\n",
    "class LinearEcogToMotionNet(nn.Module):\n",
    "    def __init__(self, input_channels = 64, sequence_length = 20, output_dim = 3):\n",
    "        super().__init__()\n",
    "        self.linear = nn.Linear(input_channels * sequence_length, output_dim)\n",
    "\n",
    "    def forward(self, x):\n",
    "        x = x.permute(0, 2, 1)\n",
    "        x = x.flatten(start_dim=1)\n",
    "        x = self.linear(x)\n",
    "        return x\n",
    "\n",
    "# LSTM\n",
    "class EcogLSTM(nn.Module):\n",
    "    def __init__(self, input_size = 64, hidden_size = 128, num_layers = 1, output_size = 3):\n",
    "        super().__init__()\n",
    "        self.lstm = nn.LSTM(input_size=input_size, hidden_size=hidden_size, num_layers=num_layers, batch_first=True)\n",
    "        self.fc = nn.Linear(hidden_size, output_size)\n",
    "\n",
    "    def forward(self, x):\n",
    "        lstm_out, (h_n, c_n) = self.lstm(x) # lstm_out shape: (batch_size, seq_len, hidden_size)\n",
    "        last_output = lstm_out[:, -1, :]\n",
    "        output = self.fc(last_output)\n",
    "        return output\n",
    " "
   ]
  },
  {
   "cell_type": "code",
   "execution_count": 20,
   "id": "00512565",
   "metadata": {},
   "outputs": [],
   "source": [
    "class PreprocessData:\n",
    "    def __init__(self, ecog_file_path, motion_file_path):\n",
    "        self.ecog_file_path = ecog_file_path\n",
    "        self.motion_file_path = motion_file_path\n",
    "        self.ecog_data = None\n",
    "        self.motion_data = None\n",
    "        self.filtered_ecog = None\n",
    "        self.scaled_ecog = None\n",
    "        self.X = None\n",
    "        self.y = None\n",
    "        self.scaler = None\n",
    "\n",
    "    def process(self, eval=False, window_size=20, duration_limit=900):\n",
    "        self.read_data()\n",
    "        self.common_average_reference()\n",
    "        self.filter_signal(eval=eval)\n",
    "        self.format_data(window_size=window_size, duration_limit=duration_limit)\n",
    "        return self.X, self.y\n",
    "    \n",
    "    def read_data(self):\n",
    "        self.ecog_data = pd.read_csv(self.ecog_file_path)\n",
    "        self.motion_data = pd.read_csv(self.motion_file_path)\n",
    "        return self\n",
    "\n",
    "    def common_average_reference(self):\n",
    "        # Subtract the common mean from the signals \n",
    "        self.ecog_data -= np.mean(self.ecog_data, axis=1, keepdims=True)\n",
    "        return self\n",
    "\n",
    "    def filter_signal(self, eval=False):\n",
    "        ecog_raw = self.ecog_data[self.ecog_data.columns[1:-1]].values\n",
    "\n",
    "        # Apply filters\n",
    "        filtered = bandpass_filter(ecog_raw, lowcut=1.0, highcut=200.0, fs=1000.0, order=4)\n",
    "        denoised = notch_filter(filtered, freq=60, fs=1000.0)\n",
    "\n",
    "        # Evaluate filters\n",
    "        if eval:\n",
    "            kurt_raw = kurtosis(ecog_raw, axis=0, fisher=True)\n",
    "            kurt_denoised = kurtosis(denoised, axis=0, fisher=True)\n",
    "            proportion_of_positive_kurtosis_signals(kurt_raw, kurt_denoised)\n",
    "            compute_rmse(ecog_raw, denoised)\n",
    "\n",
    "        # Compute Power Envelopes\n",
    "        features = multiband_features(denoised, fs=1000.0) # shape (T, 192)\n",
    "\n",
    "        # Identify the principal components of the network\n",
    "        pca = PCA(n_componens = 64, random_state=42)\n",
    "        reduced = pca.fit_transform(features)\n",
    "\n",
    "        # Scale\n",
    "        self.scaler = StandardScaler()\n",
    "        self.scaled_ecog = self.scaler.fit_transform(reduced)\n",
    "\n",
    "        # Replace in DataFrame\n",
    "        self.ecog_data = self.ecog_data.copy()\n",
    "        self.ecog_data[self.ecog_data.columns[1:-1]] = self.scaled_ecog\n",
    "\n",
    "        # Clean memory\n",
    "        del ecog_raw, filtered, denoised\n",
    "        gc.collect()\n",
    "        return self\n",
    "\n",
    "    def format_data(self, window_size=20, duration_limit=900):\n",
    "        ecog_df = self.ecog_data[self.ecog_data[\"Time\"] <= duration_limit]\n",
    "        motion_df = self.motion_data[self.motion_data[\"Motion_time\"] <= duration_limit]\n",
    "\n",
    "        ecog_values = ecog_df[ecog_df.columns[1:-1]].values\n",
    "        motion_values = motion_df[motion_df.columns[2:]].values\n",
    "\n",
    "        X, y = create_overlapping_windows(ecog_values, motion_values, window_size=20, hop_size=10)\n",
    "        self.X, self.y = X, y\n",
    "        \n",
    "        # num_windows = motion_values.shape[0]\n",
    "\n",
    "        # # Create sliding windows\n",
    "        # self.X = np.stack([\n",
    "        #     ecog_values[i*window_size:(i+1)*window_size]\n",
    "        #     for i in range(num_windows)\n",
    "        # ])\n",
    "        # self.y = motion_values[:num_windows]\n",
    "        print(self.X.shape)\n",
    "        print(self.y.shape)    \n",
    "        \n",
    "        # Clean up\n",
    "        del ecog_values, motion_values\n",
    "        gc.collect()\n",
    "\n",
    "    def save(self):\n",
    "        output_file_path_base = self.ecog_file_path.strip(\"ecog_data.csv\")\n",
    "        joblib.dump(self.scaler, output_file_path_base + \"scaler_ecog.pkl\")\n",
    "        np.save(output_file_path_base + \"X.npy\", self.X)\n",
    "        np.save(output_file_path_base + \"y.npy\", self.y)\n"
   ]
  },
  {
   "cell_type": "code",
   "execution_count": 26,
   "id": "c45e42c6",
   "metadata": {},
   "outputs": [],
   "source": [
    "import torch\n",
    "from torch.utils.data import DataLoader\n",
    "import matplotlib.pyplot as plt\n",
    "import os\n",
    "import torch.optim as optim\n",
    "from torch.optim.lr_scheduler import ReduceLROnPlateau\n",
    "\n",
    "def train_model(model, train_loader, val_loader, device, epochs=20, model_name=\"model\"):\n",
    "    model.to(device)\n",
    "    criterion = nn.MSELoss()\n",
    "    optimizer = optim.AdamW(model.parameters(), lr=1e-3, weight_decay=1e-5)\n",
    "    scheduler = ReduceLROnPlateau(optimizer, mode=\"min\", factor=0.5, patience=5)\n",
    "    best_val_loss = float('inf')\n",
    "    early_stop_counter = 0\n",
    "    patience = 10 # epochs\n",
    "    \n",
    "    train_losses = []\n",
    "    val_losses = []\n",
    "    r2_scores = []\n",
    "    \n",
    "    for epoch in range(epochs):\n",
    "        # Train\n",
    "        model.train()\n",
    "        running_train_loss = 0.0\n",
    "        for X_batch, y_batch in train_loader:\n",
    "            X_batch = X_batch.to(device)\n",
    "            y_batch = y_batch.to(device)\n",
    "            optimizer.zero_grad()\n",
    "            preds = model(X_batch)\n",
    "            loss = criterion(preds, y_batch)\n",
    "            loss.backward()\n",
    "            optimizer.step()\n",
    "            running_train_loss += loss.item() * X_batch.size(0)\n",
    "        avg_train_loss = running_train_loss / len(train_loader.dataset)\n",
    "        train_losses.append(avg_train_loss)\n",
    "        \n",
    "        # Validate\n",
    "        model.eval()\n",
    "        running_val_loss = 0.0\n",
    "        all_preds = []\n",
    "        all_targets = []\n",
    "        with torch.no_grad():\n",
    "            for X_batch, y_batch in val_loader:\n",
    "                X_batch = X_batch.to(device)\n",
    "                y_batch = y_batch.to(device)\n",
    "                preds = model(X_batch)\n",
    "                loss = criterion(preds, y_batch)\n",
    "                running_val_loss += loss.item() * X_batch.size(0)\n",
    "                all_preds.append(preds.cpu())\n",
    "                all_targets.append(y_batch.cpu())\n",
    "        all_preds = torch.cat(all_preds).numpy()\n",
    "        all_targets = torch.cat(all_targets).numpy()\n",
    "        r2 = r2_score(all_targets, all_preds)\n",
    "        r2_scores.append(r2)\n",
    "        avg_val_loss = running_val_loss / len(val_loader.dataset)\n",
    "        scheduler.step(avg_val_loss)\n",
    "        val_losses.append(avg_val_loss)\n",
    "        \n",
    "        print(f\"{model_name} Epoch {epoch+1}/{epochs} | Train Loss: {avg_train_loss:.6f} | Val Loss: {avg_val_loss:.6f} | R2: {r2:.6f}\")\n",
    "        \n",
    "\n",
    "        # Save best model checkpoint\n",
    "        if avg_val_loss < best_val_loss - 1e-5:\n",
    "            best_val_loss = avg_val_loss\n",
    "            early_stop_counter = 0\n",
    "            print(f\"Model Checkpoint | epoch: {epoch} | best_val_loss: {best_val_loss}\")\n",
    "            torch.save(model.state_dict(), \"best_ecog_model.pth\")\n",
    "        else:\n",
    "            early_stop_counter += 1\n",
    "            if early_stop_counter >= patience:\n",
    "                print(f\"Early stopping at epoch {epoch+1}\")\n",
    "                break\n",
    "    return train_losses, val_losses\n",
    "\n",
    "def plot_losses(losses_dict):\n",
    "    plt.figure(figsize=(10,6))\n",
    "    for model_name, (train_losses, val_losses) in losses_dict.items():\n",
    "        plt.plot(train_losses, label=f\"{model_name} Train\")\n",
    "        plt.plot(val_losses, label=f\"{model_name} Val\")\n",
    "    plt.xlabel(\"Epoch\")\n",
    "    plt.ylabel(\"Loss (MSE)\")\n",
    "    plt.title(\"Training and Validation Loss Curves\")\n",
    "    plt.legend()\n",
    "    plt.grid(True)\n",
    "    plt.show()\n"
   ]
  },
  {
   "cell_type": "code",
   "execution_count": 7,
   "id": "283cc29d",
   "metadata": {},
   "outputs": [
    {
     "data": {
      "text/plain": [
       "'/home/linux-pc/gh/CRCNS/src/motor_cortex/data/'"
      ]
     },
     "execution_count": 7,
     "metadata": {},
     "output_type": "execute_result"
    }
   ],
   "source": [
    "os.path.join(os.getcwd(), \"src/\", \"motor_cortex/data/\")"
   ]
  },
  {
   "cell_type": "code",
   "execution_count": 8,
   "id": "6729e9a1",
   "metadata": {},
   "outputs": [],
   "source": [
    "motion_data_file_l = glob(os.path.join(os.getcwd(), \"src/\", \"motor_cortex/data/data/\", \"**\", \"motion*.csv\"), recursive=True)\n",
    "ecog_data_file_l = glob(os.path.join(os.getcwd(), \"src/\", \"motor_cortex/data/data/\", \"**\", \"ecog*.csv\"), recursive=True)"
   ]
  },
  {
   "cell_type": "markdown",
   "id": "3c26f274",
   "metadata": {},
   "source": [
    "# Reading only the Right Wrist data and training to detect depending on the Right Wrist"
   ]
  },
  {
   "cell_type": "markdown",
   "id": "fc74d3e4",
   "metadata": {},
   "source": [
    "## Bilateral Data"
   ]
  },
  {
   "cell_type": "code",
   "execution_count": null,
   "id": "2ff3bfa1",
   "metadata": {},
   "outputs": [],
   "source": [
    "motion_data_file_l[0]"
   ]
  },
  {
   "cell_type": "code",
   "execution_count": null,
   "id": "907f36ad",
   "metadata": {},
   "outputs": [],
   "source": [
    "motion_data_file = motion_data_file_l[0]"
   ]
  },
  {
   "cell_type": "code",
   "execution_count": null,
   "id": "c3a5a011",
   "metadata": {},
   "outputs": [],
   "source": [
    "ecog_data_file = ecog_data_file_l[0]"
   ]
  },
  {
   "cell_type": "code",
   "execution_count": null,
   "id": "c07bc434",
   "metadata": {},
   "outputs": [],
   "source": [
    "motion_data_file"
   ]
  },
  {
   "cell_type": "code",
   "execution_count": null,
   "id": "6cfec741",
   "metadata": {},
   "outputs": [],
   "source": [
    "ecog_data_file"
   ]
  },
  {
   "cell_type": "code",
   "execution_count": null,
   "id": "12b3a041",
   "metadata": {},
   "outputs": [],
   "source": [
    "motion_data_bilateral_2018_07_12_S1 = pd.read_csv(motion_data_file)"
   ]
  },
  {
   "cell_type": "code",
   "execution_count": null,
   "id": "23d41fbe",
   "metadata": {},
   "outputs": [],
   "source": [
    "motion_data_bilateral_2018_07_12_S1[\"Motion_time\"]"
   ]
  },
  {
   "cell_type": "code",
   "execution_count": null,
   "id": "dafb318b",
   "metadata": {},
   "outputs": [],
   "source": [
    "ecog_data_bilateral_2018_07_12_S1 = pd.read_csv(ecog_data_file)\n",
    "channel_data = ecog_data_bilateral_2018_07_12_S1.columns[1:-1].values\n",
    "ecog_data_bilateral_2018_07_12_S1[channel_data].values"
   ]
  },
  {
   "cell_type": "code",
   "execution_count": null,
   "id": "9e4ad7e4",
   "metadata": {},
   "outputs": [],
   "source": [
    "ecog_data_bilateral_2018_07_12_S1[\"Time\"]"
   ]
  },
  {
   "cell_type": "code",
   "execution_count": null,
   "id": "4d811d58",
   "metadata": {},
   "outputs": [],
   "source": [
    "plt.plot(ecog_data_bilateral_2018_07_12_S1[\"Time\"], ecog_data_bilateral_2018_07_12_S1[channel_data].values)"
   ]
  },
  {
   "cell_type": "code",
   "execution_count": null,
   "id": "a5ef02ce",
   "metadata": {},
   "outputs": [],
   "source": [
    "ecog_channels = ecog_data_bilateral_2018_07_12_S1.columns[1:-1]"
   ]
  },
  {
   "cell_type": "code",
   "execution_count": null,
   "id": "7c7fda74",
   "metadata": {},
   "outputs": [],
   "source": [
    "ecog_data_bilateral_2018_07_12_S1[ecog_channels].values"
   ]
  },
  {
   "cell_type": "code",
   "execution_count": null,
   "id": "806049ef",
   "metadata": {},
   "outputs": [],
   "source": [
    "motion_data_bilateral_2018_07_12_S1_left_wrist = motion_data_bilateral_2018_07_12_S1[motion_data_bilateral_2018_07_12_S1.columns[1:4]]"
   ]
  },
  {
   "cell_type": "code",
   "execution_count": null,
   "id": "e925d624",
   "metadata": {},
   "outputs": [],
   "source": [
    "motion_data_bilateral_2018_07_12_S1_left_wrist"
   ]
  },
  {
   "cell_type": "code",
   "execution_count": null,
   "id": "b5a05342",
   "metadata": {},
   "outputs": [],
   "source": [
    "motion_data_bilateral_2018_07_12_S1_left_wrist"
   ]
  },
  {
   "cell_type": "code",
   "execution_count": null,
   "id": "ec8b2f1e",
   "metadata": {},
   "outputs": [],
   "source": [
    "ecog_data_bilateral_2018_07_12_S1[channel_data]"
   ]
  },
  {
   "cell_type": "code",
   "execution_count": null,
   "id": "da53d06f",
   "metadata": {},
   "outputs": [],
   "source": [
    "del ecog_data_bilateral_2018_07_12_S1"
   ]
  },
  {
   "cell_type": "markdown",
   "id": "59e491bb",
   "metadata": {},
   "source": [
    "## Ipsilateral Data (Right Wrist)"
   ]
  },
  {
   "cell_type": "code",
   "execution_count": null,
   "id": "bd7427c2",
   "metadata": {},
   "outputs": [
    {
     "data": {
      "text/plain": [
       "'/home/linux-pc/gh/CRCNS/src/motor_cortex/data/data/Ipsilateral/2018-04-29_(S1)/ecog_data.csv'"
      ]
     },
     "execution_count": 67,
     "metadata": {},
     "output_type": "execute_result"
    }
   ],
   "source": [
    "ecog_data_file_l[8]"
   ]
  },
  {
   "cell_type": "code",
   "execution_count": null,
   "id": "2d541fb4",
   "metadata": {},
   "outputs": [
    {
     "data": {
      "text/plain": [
       "'/home/linux-pc/gh/CRCNS/src/motor_cortex/data/data/Ipsilateral/2018-04-29_(S1)/ecog_data.csv'"
      ]
     },
     "execution_count": 68,
     "metadata": {},
     "output_type": "execute_result"
    }
   ],
   "source": [
    "ecog_data_file_l[8]"
   ]
  },
  {
   "cell_type": "code",
   "execution_count": 69,
   "id": "cf2de551",
   "metadata": {},
   "outputs": [
    {
     "name": "stdout",
     "output_type": "stream",
     "text": [
      "(920498, 64)\n",
      "(44982, 20, 64)\n",
      "(44982, 3)\n"
     ]
    }
   ],
   "source": [
    "current_ecog_data_file = ecog_data_file_l[8]\n",
    "current_motion_data_file = motion_data_file_l[8]\n",
    "preprocessor = PreprocessData(current_ecog_data_file, current_motion_data_file)\n",
    "X, y = preprocessor.process()\n",
    "preprocessor.save()"
   ]
  },
  {
   "cell_type": "code",
   "execution_count": null,
   "id": "c7ac0622",
   "metadata": {},
   "outputs": [
    {
     "ename": "KeyboardInterrupt",
     "evalue": "",
     "output_type": "error",
     "traceback": [
      "\u001b[0;31m---------------------------------------------------------------------------\u001b[0m",
      "\u001b[0;31mKeyboardInterrupt\u001b[0m                         Traceback (most recent call last)",
      "Cell \u001b[0;32mIn[202], line 4\u001b[0m\n\u001b[1;32m      2\u001b[0m \u001b[38;5;28;01mfor\u001b[39;00m index \u001b[38;5;129;01min\u001b[39;00m \u001b[38;5;28mrange\u001b[39m(\u001b[38;5;241m6\u001b[39m, \u001b[38;5;241m16\u001b[39m):\n\u001b[1;32m      3\u001b[0m     preprocessor \u001b[38;5;241m=\u001b[39m PreprocessData(ecog_data_file_l[index], motion_data_file_l[index])\n\u001b[0;32m----> 4\u001b[0m     X, y \u001b[38;5;241m=\u001b[39m \u001b[43mpreprocessor\u001b[49m\u001b[38;5;241;43m.\u001b[39;49m\u001b[43mprocess\u001b[49m\u001b[43m(\u001b[49m\u001b[43m)\u001b[49m\n\u001b[1;32m      5\u001b[0m     preprocessor\u001b[38;5;241m.\u001b[39msave()\n",
      "Cell \u001b[0;32mIn[196], line 14\u001b[0m, in \u001b[0;36mPreprocessData.process\u001b[0;34m(self, eval, window_size, duration_limit)\u001b[0m\n\u001b[1;32m     12\u001b[0m \u001b[38;5;28;01mdef\u001b[39;00m\u001b[38;5;250m \u001b[39m\u001b[38;5;21mprocess\u001b[39m(\u001b[38;5;28mself\u001b[39m, \u001b[38;5;28meval\u001b[39m\u001b[38;5;241m=\u001b[39m\u001b[38;5;28;01mFalse\u001b[39;00m, window_size\u001b[38;5;241m=\u001b[39m\u001b[38;5;241m20\u001b[39m, duration_limit\u001b[38;5;241m=\u001b[39m\u001b[38;5;241m900\u001b[39m):\n\u001b[1;32m     13\u001b[0m     \u001b[38;5;28mself\u001b[39m\u001b[38;5;241m.\u001b[39mread_data()\n\u001b[0;32m---> 14\u001b[0m     \u001b[38;5;28;43mself\u001b[39;49m\u001b[38;5;241;43m.\u001b[39;49m\u001b[43mfilter_signal\u001b[49m\u001b[43m(\u001b[49m\u001b[38;5;28;43meval\u001b[39;49m\u001b[38;5;241;43m=\u001b[39;49m\u001b[38;5;28;43meval\u001b[39;49m\u001b[43m)\u001b[49m\n\u001b[1;32m     15\u001b[0m     \u001b[38;5;28mself\u001b[39m\u001b[38;5;241m.\u001b[39mformat_data(window_size\u001b[38;5;241m=\u001b[39mwindow_size, duration_limit\u001b[38;5;241m=\u001b[39mduration_limit)\n\u001b[1;32m     16\u001b[0m     \u001b[38;5;28;01mreturn\u001b[39;00m \u001b[38;5;28mself\u001b[39m\u001b[38;5;241m.\u001b[39mX, \u001b[38;5;28mself\u001b[39m\u001b[38;5;241m.\u001b[39my\n",
      "Cell \u001b[0;32mIn[196], line 27\u001b[0m, in \u001b[0;36mPreprocessData.filter_signal\u001b[0;34m(self, eval)\u001b[0m\n\u001b[1;32m     24\u001b[0m ecog_raw \u001b[38;5;241m=\u001b[39m \u001b[38;5;28mself\u001b[39m\u001b[38;5;241m.\u001b[39mecog_data[\u001b[38;5;28mself\u001b[39m\u001b[38;5;241m.\u001b[39mecog_data\u001b[38;5;241m.\u001b[39mcolumns[\u001b[38;5;241m1\u001b[39m:\u001b[38;5;241m-\u001b[39m\u001b[38;5;241m1\u001b[39m]]\u001b[38;5;241m.\u001b[39mvalues\n\u001b[1;32m     26\u001b[0m \u001b[38;5;66;03m# Apply filters\u001b[39;00m\n\u001b[0;32m---> 27\u001b[0m filtered \u001b[38;5;241m=\u001b[39m \u001b[43mbandpass_filter\u001b[49m\u001b[43m(\u001b[49m\u001b[43mecog_raw\u001b[49m\u001b[43m,\u001b[49m\u001b[43m \u001b[49m\u001b[43mlowcut\u001b[49m\u001b[38;5;241;43m=\u001b[39;49m\u001b[38;5;241;43m1.0\u001b[39;49m\u001b[43m,\u001b[49m\u001b[43m \u001b[49m\u001b[43mhighcut\u001b[49m\u001b[38;5;241;43m=\u001b[39;49m\u001b[38;5;241;43m200.0\u001b[39;49m\u001b[43m,\u001b[49m\u001b[43m \u001b[49m\u001b[43mfs\u001b[49m\u001b[38;5;241;43m=\u001b[39;49m\u001b[38;5;241;43m1000.0\u001b[39;49m\u001b[43m,\u001b[49m\u001b[43m \u001b[49m\u001b[43morder\u001b[49m\u001b[38;5;241;43m=\u001b[39;49m\u001b[38;5;241;43m4\u001b[39;49m\u001b[43m)\u001b[49m\n\u001b[1;32m     28\u001b[0m denoised \u001b[38;5;241m=\u001b[39m notch_filter(filtered, freq\u001b[38;5;241m=\u001b[39m\u001b[38;5;241m60\u001b[39m, fs\u001b[38;5;241m=\u001b[39m\u001b[38;5;241m1000.0\u001b[39m)\n\u001b[1;32m     30\u001b[0m \u001b[38;5;66;03m# Evaluate filters\u001b[39;00m\n",
      "Cell \u001b[0;32mIn[194], line 11\u001b[0m, in \u001b[0;36mbandpass_filter\u001b[0;34m(data, lowcut, highcut, fs, order)\u001b[0m\n\u001b[1;32m      9\u001b[0m \u001b[38;5;28;01mdef\u001b[39;00m\u001b[38;5;250m \u001b[39m\u001b[38;5;21mbandpass_filter\u001b[39m(data, lowcut\u001b[38;5;241m=\u001b[39m\u001b[38;5;241m1.0\u001b[39m, highcut\u001b[38;5;241m=\u001b[39m\u001b[38;5;241m200.0\u001b[39m, fs\u001b[38;5;241m=\u001b[39m\u001b[38;5;241m1000.0\u001b[39m, order\u001b[38;5;241m=\u001b[39m\u001b[38;5;241m4\u001b[39m):\n\u001b[1;32m     10\u001b[0m     b, a \u001b[38;5;241m=\u001b[39m butter_bandpass(lowcut, highcut, fs, order\u001b[38;5;241m=\u001b[39morder)\n\u001b[0;32m---> 11\u001b[0m     \u001b[38;5;28;01mreturn\u001b[39;00m \u001b[43mfiltfilt\u001b[49m\u001b[43m(\u001b[49m\u001b[43mb\u001b[49m\u001b[43m,\u001b[49m\u001b[43m \u001b[49m\u001b[43ma\u001b[49m\u001b[43m,\u001b[49m\u001b[43m \u001b[49m\u001b[43mdata\u001b[49m\u001b[43m,\u001b[49m\u001b[43m \u001b[49m\u001b[43maxis\u001b[49m\u001b[38;5;241;43m=\u001b[39;49m\u001b[38;5;241;43m0\u001b[39;49m\u001b[43m)\u001b[49m\n",
      "File \u001b[0;32m~/anaconda3/envs/torch/lib/python3.10/site-packages/scipy/signal/_signaltools.py:4528\u001b[0m, in \u001b[0;36mfiltfilt\u001b[0;34m(b, a, x, axis, padtype, padlen, method, irlen)\u001b[0m\n\u001b[1;32m   4525\u001b[0m     \u001b[38;5;28;01mreturn\u001b[39;00m y\n\u001b[1;32m   4527\u001b[0m \u001b[38;5;66;03m# method == \"pad\"\u001b[39;00m\n\u001b[0;32m-> 4528\u001b[0m edge, ext \u001b[38;5;241m=\u001b[39m \u001b[43m_validate_pad\u001b[49m\u001b[43m(\u001b[49m\u001b[43mpadtype\u001b[49m\u001b[43m,\u001b[49m\u001b[43m \u001b[49m\u001b[43mpadlen\u001b[49m\u001b[43m,\u001b[49m\u001b[43m \u001b[49m\u001b[43mx\u001b[49m\u001b[43m,\u001b[49m\u001b[43m \u001b[49m\u001b[43maxis\u001b[49m\u001b[43m,\u001b[49m\n\u001b[1;32m   4529\u001b[0m \u001b[43m                          \u001b[49m\u001b[43mntaps\u001b[49m\u001b[38;5;241;43m=\u001b[39;49m\u001b[38;5;28;43mmax\u001b[39;49m\u001b[43m(\u001b[49m\u001b[38;5;28;43mlen\u001b[39;49m\u001b[43m(\u001b[49m\u001b[43ma\u001b[49m\u001b[43m)\u001b[49m\u001b[43m,\u001b[49m\u001b[43m \u001b[49m\u001b[38;5;28;43mlen\u001b[39;49m\u001b[43m(\u001b[49m\u001b[43mb\u001b[49m\u001b[43m)\u001b[49m\u001b[43m)\u001b[49m\u001b[43m)\u001b[49m\n\u001b[1;32m   4531\u001b[0m \u001b[38;5;66;03m# Get the steady state of the filter's step response.\u001b[39;00m\n\u001b[1;32m   4532\u001b[0m zi \u001b[38;5;241m=\u001b[39m lfilter_zi(b, a)\n",
      "File \u001b[0;32m~/anaconda3/envs/torch/lib/python3.10/site-packages/scipy/signal/_signaltools.py:4586\u001b[0m, in \u001b[0;36m_validate_pad\u001b[0;34m(padtype, padlen, x, axis, ntaps)\u001b[0m\n\u001b[1;32m   4584\u001b[0m     ext \u001b[38;5;241m=\u001b[39m even_ext(x, edge, axis\u001b[38;5;241m=\u001b[39maxis)\n\u001b[1;32m   4585\u001b[0m \u001b[38;5;28;01melif\u001b[39;00m padtype \u001b[38;5;241m==\u001b[39m \u001b[38;5;124m'\u001b[39m\u001b[38;5;124modd\u001b[39m\u001b[38;5;124m'\u001b[39m:\n\u001b[0;32m-> 4586\u001b[0m     ext \u001b[38;5;241m=\u001b[39m \u001b[43modd_ext\u001b[49m\u001b[43m(\u001b[49m\u001b[43mx\u001b[49m\u001b[43m,\u001b[49m\u001b[43m \u001b[49m\u001b[43medge\u001b[49m\u001b[43m,\u001b[49m\u001b[43m \u001b[49m\u001b[43maxis\u001b[49m\u001b[38;5;241;43m=\u001b[39;49m\u001b[43maxis\u001b[49m\u001b[43m)\u001b[49m\n\u001b[1;32m   4587\u001b[0m \u001b[38;5;28;01melse\u001b[39;00m:\n\u001b[1;32m   4588\u001b[0m     ext \u001b[38;5;241m=\u001b[39m const_ext(x, edge, axis\u001b[38;5;241m=\u001b[39maxis)\n",
      "File \u001b[0;32m~/anaconda3/envs/torch/lib/python3.10/site-packages/scipy/signal/_arraytools.py:103\u001b[0m, in \u001b[0;36modd_ext\u001b[0;34m(x, n, axis)\u001b[0m\n\u001b[1;32m    101\u001b[0m right_end \u001b[38;5;241m=\u001b[39m axis_slice(x, start\u001b[38;5;241m=\u001b[39m\u001b[38;5;241m-\u001b[39m\u001b[38;5;241m1\u001b[39m, axis\u001b[38;5;241m=\u001b[39maxis)\n\u001b[1;32m    102\u001b[0m right_ext \u001b[38;5;241m=\u001b[39m axis_slice(x, start\u001b[38;5;241m=\u001b[39m\u001b[38;5;241m-\u001b[39m\u001b[38;5;241m2\u001b[39m, stop\u001b[38;5;241m=\u001b[39m\u001b[38;5;241m-\u001b[39m(n \u001b[38;5;241m+\u001b[39m \u001b[38;5;241m2\u001b[39m), step\u001b[38;5;241m=\u001b[39m\u001b[38;5;241m-\u001b[39m\u001b[38;5;241m1\u001b[39m, axis\u001b[38;5;241m=\u001b[39maxis)\n\u001b[0;32m--> 103\u001b[0m ext \u001b[38;5;241m=\u001b[39m \u001b[43mnp\u001b[49m\u001b[38;5;241;43m.\u001b[39;49m\u001b[43mconcatenate\u001b[49m\u001b[43m(\u001b[49m\u001b[43m(\u001b[49m\u001b[38;5;241;43m2\u001b[39;49m\u001b[43m \u001b[49m\u001b[38;5;241;43m*\u001b[39;49m\u001b[43m \u001b[49m\u001b[43mleft_end\u001b[49m\u001b[43m \u001b[49m\u001b[38;5;241;43m-\u001b[39;49m\u001b[43m \u001b[49m\u001b[43mleft_ext\u001b[49m\u001b[43m,\u001b[49m\n\u001b[1;32m    104\u001b[0m \u001b[43m                      \u001b[49m\u001b[43mx\u001b[49m\u001b[43m,\u001b[49m\n\u001b[1;32m    105\u001b[0m \u001b[43m                      \u001b[49m\u001b[38;5;241;43m2\u001b[39;49m\u001b[43m \u001b[49m\u001b[38;5;241;43m*\u001b[39;49m\u001b[43m \u001b[49m\u001b[43mright_end\u001b[49m\u001b[43m \u001b[49m\u001b[38;5;241;43m-\u001b[39;49m\u001b[43m \u001b[49m\u001b[43mright_ext\u001b[49m\u001b[43m)\u001b[49m\u001b[43m,\u001b[49m\n\u001b[1;32m    106\u001b[0m \u001b[43m                     \u001b[49m\u001b[43maxis\u001b[49m\u001b[38;5;241;43m=\u001b[39;49m\u001b[43maxis\u001b[49m\u001b[43m)\u001b[49m\n\u001b[1;32m    107\u001b[0m \u001b[38;5;28;01mreturn\u001b[39;00m ext\n",
      "\u001b[0;31mKeyboardInterrupt\u001b[0m: "
     ]
    }
   ],
   "source": [
    "# Preprocess Ipsilateral Data\n",
    "# for index in range(6, 16):\n",
    "#     preprocessor = PreprocessData(ecog_data_file_l[index], motion_data_file_l[index])\n",
    "#     X, y = preprocessor.process()\n",
    "#     preprocessor.save()"
   ]
  },
  {
   "cell_type": "code",
   "execution_count": 11,
   "id": "6ddf91ca",
   "metadata": {},
   "outputs": [
    {
     "data": {
      "text/plain": [
       "['/home/linux-pc/gh/CRCNS/src/motor_cortex/data/data/Contralateral/2018-03-15_(S1)/ecog_data.csv',\n",
       " '/home/linux-pc/gh/CRCNS/src/motor_cortex/data/data/Contralateral/2018-04-12_(S3)/ecog_data.csv',\n",
       " '/home/linux-pc/gh/CRCNS/src/motor_cortex/data/data/Contralateral/2018-04-08_(S2)/ecog_data.csv',\n",
       " '/home/linux-pc/gh/CRCNS/src/motor_cortex/data/data/Contralateral/2018-04-22_(S7)/ecog_data.csv',\n",
       " '/home/linux-pc/gh/CRCNS/src/motor_cortex/data/data/Contralateral/2018-04-12_(S4)/ecog_data.csv',\n",
       " '/home/linux-pc/gh/CRCNS/src/motor_cortex/data/data/Contralateral/2018-04-22_(S9)/ecog_data.csv',\n",
       " '/home/linux-pc/gh/CRCNS/src/motor_cortex/data/data/Contralateral/2018-04-12_(S5)/ecog_data.csv',\n",
       " '/home/linux-pc/gh/CRCNS/src/motor_cortex/data/data/Contralateral/2018-04-22_(S8)/ecog_data.csv',\n",
       " '/home/linux-pc/gh/CRCNS/src/motor_cortex/data/data/Contralateral/2018-05-31_(S10)/ecog_data.csv',\n",
       " '/home/linux-pc/gh/CRCNS/src/motor_cortex/data/data/Contralateral/2018-04-15_(S6)/ecog_data.csv']"
      ]
     },
     "execution_count": 11,
     "metadata": {},
     "output_type": "execute_result"
    }
   ],
   "source": [
    "ecog_data_file_l[16:ecog_data_file_l.__len__()]"
   ]
  },
  {
   "cell_type": "code",
   "execution_count": null,
   "id": "1ae28952",
   "metadata": {},
   "outputs": [],
   "source": [
    "# # Preprocess Contralateral Data\n",
    "# for index in range(16, ecog_data_file_l.__len__()):\n",
    "#     preprocessor = PreprocessData(ecog_data_file_l[index], motion_data_file_l[index])\n",
    "#     X, y = preprocessor.process()\n",
    "#     preprocessor.save()"
   ]
  },
  {
   "cell_type": "code",
   "execution_count": 8,
   "id": "72db258b",
   "metadata": {},
   "outputs": [],
   "source": [
    "# Read in the data\n",
    "processed_data_l_X = glob(os.path.join('/home/linux-pc/gh/CRCNS/src/motor_cortex/data/data/', '**', \"**\", \"X.npy\"))\n",
    "processed_data_l_y = glob(os.path.join('/home/linux-pc/gh/CRCNS/src/motor_cortex/data/data/', '**', \"**\", \"y.npy\"))"
   ]
  },
  {
   "cell_type": "code",
   "execution_count": 9,
   "id": "88d61567",
   "metadata": {},
   "outputs": [
    {
     "data": {
      "text/plain": [
       "['/home/linux-pc/gh/CRCNS/src/motor_cortex/data/data/Ipsilateral/2018-05-10_(S7)/X.npy',\n",
       " '/home/linux-pc/gh/CRCNS/src/motor_cortex/data/data/Ipsilateral/2018-05-24_(S10)/X.npy',\n",
       " '/home/linux-pc/gh/CRCNS/src/motor_cortex/data/data/Ipsilateral/2018-04-29_(S1)/X.npy',\n",
       " '/home/linux-pc/gh/CRCNS/src/motor_cortex/data/data/Ipsilateral/2018-05-06_(S6)/X.npy',\n",
       " '/home/linux-pc/gh/CRCNS/src/motor_cortex/data/data/Ipsilateral/2018-05-03_(S5)/X.npy',\n",
       " '/home/linux-pc/gh/CRCNS/src/motor_cortex/data/data/Ipsilateral/2018-05-03_(S3)/X.npy',\n",
       " '/home/linux-pc/gh/CRCNS/src/motor_cortex/data/data/Ipsilateral/2018-05-03_(S4)/X.npy',\n",
       " '/home/linux-pc/gh/CRCNS/src/motor_cortex/data/data/Ipsilateral/2018-05-10_(S8)/X.npy',\n",
       " '/home/linux-pc/gh/CRCNS/src/motor_cortex/data/data/Ipsilateral/2018-05-17_(S9)/X.npy',\n",
       " '/home/linux-pc/gh/CRCNS/src/motor_cortex/data/data/Ipsilateral/2018-04-29_(S2)/X.npy']"
      ]
     },
     "execution_count": 9,
     "metadata": {},
     "output_type": "execute_result"
    }
   ],
   "source": [
    "processed_data_l_X"
   ]
  },
  {
   "cell_type": "code",
   "execution_count": 10,
   "id": "748c0cd7",
   "metadata": {},
   "outputs": [
    {
     "data": {
      "text/plain": [
       "['/home/linux-pc/gh/CRCNS/src/motor_cortex/data/data/Ipsilateral/2018-05-10_(S7)/y.npy',\n",
       " '/home/linux-pc/gh/CRCNS/src/motor_cortex/data/data/Ipsilateral/2018-05-24_(S10)/y.npy',\n",
       " '/home/linux-pc/gh/CRCNS/src/motor_cortex/data/data/Ipsilateral/2018-04-29_(S1)/y.npy',\n",
       " '/home/linux-pc/gh/CRCNS/src/motor_cortex/data/data/Ipsilateral/2018-05-06_(S6)/y.npy',\n",
       " '/home/linux-pc/gh/CRCNS/src/motor_cortex/data/data/Ipsilateral/2018-05-03_(S5)/y.npy',\n",
       " '/home/linux-pc/gh/CRCNS/src/motor_cortex/data/data/Ipsilateral/2018-05-03_(S3)/y.npy',\n",
       " '/home/linux-pc/gh/CRCNS/src/motor_cortex/data/data/Ipsilateral/2018-05-03_(S4)/y.npy',\n",
       " '/home/linux-pc/gh/CRCNS/src/motor_cortex/data/data/Ipsilateral/2018-05-10_(S8)/y.npy',\n",
       " '/home/linux-pc/gh/CRCNS/src/motor_cortex/data/data/Ipsilateral/2018-05-17_(S9)/y.npy',\n",
       " '/home/linux-pc/gh/CRCNS/src/motor_cortex/data/data/Ipsilateral/2018-04-29_(S2)/y.npy']"
      ]
     },
     "execution_count": 10,
     "metadata": {},
     "output_type": "execute_result"
    }
   ],
   "source": [
    "processed_data_l_y"
   ]
  },
  {
   "cell_type": "code",
   "execution_count": 87,
   "id": "43ee63e4",
   "metadata": {},
   "outputs": [],
   "source": [
    "# # Perform K-Fold Cross Validation\n",
    "# iterator = iter(processed_data_l)\n",
    "\n",
    "# for X, y in zip(iterator, iterator):\n",
    "#     print(X)\n",
    "#     print(y)\n",
    "\n",
    "# Create k-fold cross validation\n",
    "# select the best model\n",
    "# make a prediction\n",
    "# visualize the predictions in matlab\n",
    "# create a live demo\n",
    "# deploy demo onto the web\n",
    "# share results for testing with real people\n"
   ]
  },
  {
   "cell_type": "code",
   "execution_count": 33,
   "id": "90f54ef9",
   "metadata": {},
   "outputs": [],
   "source": [
    "# Define K-fold sets\n",
    "test_list_X = []\n",
    "train_list_X = []\n",
    "test_list_y = []\n",
    "train_list_y = []\n",
    "\n",
    "for i in range(len(processed_data_l_X)):\n",
    "    test_list_X.append(processed_data_l_X[i])\n",
    "    test_list_y.append(processed_data_l_y[i])\n",
    "    train_X = [x for idx, x in enumerate(processed_data_l_X) if idx != i]\n",
    "    train_y = [y for idx, y in enumerate(processed_data_l_y) if idx != i]\n",
    "    train_list_X.append(train_X)\n",
    "    train_list_y.append(train_y)"
   ]
  },
  {
   "cell_type": "code",
   "execution_count": 16,
   "id": "c45412d7",
   "metadata": {},
   "outputs": [],
   "source": [
    "INDEX = 0"
   ]
  },
  {
   "cell_type": "code",
   "execution_count": null,
   "id": "4dc06c62",
   "metadata": {},
   "outputs": [],
   "source": [
    "X = np.load(train_list_X[INDEX][0])\n",
    "y = np.load(train_list_y[INDEX][0])"
   ]
  },
  {
   "cell_type": "code",
   "execution_count": 42,
   "id": "3214fb99",
   "metadata": {},
   "outputs": [
    {
     "data": {
      "text/plain": [
       "[['/home/linux-pc/gh/CRCNS/src/motor_cortex/data/data/Ipsilateral/2018-05-24_(S10)/X.npy',\n",
       "  '/home/linux-pc/gh/CRCNS/src/motor_cortex/data/data/Ipsilateral/2018-04-29_(S1)/X.npy',\n",
       "  '/home/linux-pc/gh/CRCNS/src/motor_cortex/data/data/Ipsilateral/2018-05-06_(S6)/X.npy',\n",
       "  '/home/linux-pc/gh/CRCNS/src/motor_cortex/data/data/Ipsilateral/2018-05-03_(S5)/X.npy',\n",
       "  '/home/linux-pc/gh/CRCNS/src/motor_cortex/data/data/Ipsilateral/2018-05-03_(S3)/X.npy',\n",
       "  '/home/linux-pc/gh/CRCNS/src/motor_cortex/data/data/Ipsilateral/2018-05-03_(S4)/X.npy',\n",
       "  '/home/linux-pc/gh/CRCNS/src/motor_cortex/data/data/Ipsilateral/2018-05-10_(S8)/X.npy',\n",
       "  '/home/linux-pc/gh/CRCNS/src/motor_cortex/data/data/Ipsilateral/2018-05-17_(S9)/X.npy',\n",
       "  '/home/linux-pc/gh/CRCNS/src/motor_cortex/data/data/Ipsilateral/2018-04-29_(S2)/X.npy'],\n",
       " ['/home/linux-pc/gh/CRCNS/src/motor_cortex/data/data/Ipsilateral/2018-05-10_(S7)/X.npy',\n",
       "  '/home/linux-pc/gh/CRCNS/src/motor_cortex/data/data/Ipsilateral/2018-04-29_(S1)/X.npy',\n",
       "  '/home/linux-pc/gh/CRCNS/src/motor_cortex/data/data/Ipsilateral/2018-05-06_(S6)/X.npy',\n",
       "  '/home/linux-pc/gh/CRCNS/src/motor_cortex/data/data/Ipsilateral/2018-05-03_(S5)/X.npy',\n",
       "  '/home/linux-pc/gh/CRCNS/src/motor_cortex/data/data/Ipsilateral/2018-05-03_(S3)/X.npy',\n",
       "  '/home/linux-pc/gh/CRCNS/src/motor_cortex/data/data/Ipsilateral/2018-05-03_(S4)/X.npy',\n",
       "  '/home/linux-pc/gh/CRCNS/src/motor_cortex/data/data/Ipsilateral/2018-05-10_(S8)/X.npy',\n",
       "  '/home/linux-pc/gh/CRCNS/src/motor_cortex/data/data/Ipsilateral/2018-05-17_(S9)/X.npy',\n",
       "  '/home/linux-pc/gh/CRCNS/src/motor_cortex/data/data/Ipsilateral/2018-04-29_(S2)/X.npy'],\n",
       " ['/home/linux-pc/gh/CRCNS/src/motor_cortex/data/data/Ipsilateral/2018-05-10_(S7)/X.npy',\n",
       "  '/home/linux-pc/gh/CRCNS/src/motor_cortex/data/data/Ipsilateral/2018-05-24_(S10)/X.npy',\n",
       "  '/home/linux-pc/gh/CRCNS/src/motor_cortex/data/data/Ipsilateral/2018-05-06_(S6)/X.npy',\n",
       "  '/home/linux-pc/gh/CRCNS/src/motor_cortex/data/data/Ipsilateral/2018-05-03_(S5)/X.npy',\n",
       "  '/home/linux-pc/gh/CRCNS/src/motor_cortex/data/data/Ipsilateral/2018-05-03_(S3)/X.npy',\n",
       "  '/home/linux-pc/gh/CRCNS/src/motor_cortex/data/data/Ipsilateral/2018-05-03_(S4)/X.npy',\n",
       "  '/home/linux-pc/gh/CRCNS/src/motor_cortex/data/data/Ipsilateral/2018-05-10_(S8)/X.npy',\n",
       "  '/home/linux-pc/gh/CRCNS/src/motor_cortex/data/data/Ipsilateral/2018-05-17_(S9)/X.npy',\n",
       "  '/home/linux-pc/gh/CRCNS/src/motor_cortex/data/data/Ipsilateral/2018-04-29_(S2)/X.npy'],\n",
       " ['/home/linux-pc/gh/CRCNS/src/motor_cortex/data/data/Ipsilateral/2018-05-10_(S7)/X.npy',\n",
       "  '/home/linux-pc/gh/CRCNS/src/motor_cortex/data/data/Ipsilateral/2018-05-24_(S10)/X.npy',\n",
       "  '/home/linux-pc/gh/CRCNS/src/motor_cortex/data/data/Ipsilateral/2018-04-29_(S1)/X.npy',\n",
       "  '/home/linux-pc/gh/CRCNS/src/motor_cortex/data/data/Ipsilateral/2018-05-03_(S5)/X.npy',\n",
       "  '/home/linux-pc/gh/CRCNS/src/motor_cortex/data/data/Ipsilateral/2018-05-03_(S3)/X.npy',\n",
       "  '/home/linux-pc/gh/CRCNS/src/motor_cortex/data/data/Ipsilateral/2018-05-03_(S4)/X.npy',\n",
       "  '/home/linux-pc/gh/CRCNS/src/motor_cortex/data/data/Ipsilateral/2018-05-10_(S8)/X.npy',\n",
       "  '/home/linux-pc/gh/CRCNS/src/motor_cortex/data/data/Ipsilateral/2018-05-17_(S9)/X.npy',\n",
       "  '/home/linux-pc/gh/CRCNS/src/motor_cortex/data/data/Ipsilateral/2018-04-29_(S2)/X.npy'],\n",
       " ['/home/linux-pc/gh/CRCNS/src/motor_cortex/data/data/Ipsilateral/2018-05-10_(S7)/X.npy',\n",
       "  '/home/linux-pc/gh/CRCNS/src/motor_cortex/data/data/Ipsilateral/2018-05-24_(S10)/X.npy',\n",
       "  '/home/linux-pc/gh/CRCNS/src/motor_cortex/data/data/Ipsilateral/2018-04-29_(S1)/X.npy',\n",
       "  '/home/linux-pc/gh/CRCNS/src/motor_cortex/data/data/Ipsilateral/2018-05-06_(S6)/X.npy',\n",
       "  '/home/linux-pc/gh/CRCNS/src/motor_cortex/data/data/Ipsilateral/2018-05-03_(S3)/X.npy',\n",
       "  '/home/linux-pc/gh/CRCNS/src/motor_cortex/data/data/Ipsilateral/2018-05-03_(S4)/X.npy',\n",
       "  '/home/linux-pc/gh/CRCNS/src/motor_cortex/data/data/Ipsilateral/2018-05-10_(S8)/X.npy',\n",
       "  '/home/linux-pc/gh/CRCNS/src/motor_cortex/data/data/Ipsilateral/2018-05-17_(S9)/X.npy',\n",
       "  '/home/linux-pc/gh/CRCNS/src/motor_cortex/data/data/Ipsilateral/2018-04-29_(S2)/X.npy'],\n",
       " ['/home/linux-pc/gh/CRCNS/src/motor_cortex/data/data/Ipsilateral/2018-05-10_(S7)/X.npy',\n",
       "  '/home/linux-pc/gh/CRCNS/src/motor_cortex/data/data/Ipsilateral/2018-05-24_(S10)/X.npy',\n",
       "  '/home/linux-pc/gh/CRCNS/src/motor_cortex/data/data/Ipsilateral/2018-04-29_(S1)/X.npy',\n",
       "  '/home/linux-pc/gh/CRCNS/src/motor_cortex/data/data/Ipsilateral/2018-05-06_(S6)/X.npy',\n",
       "  '/home/linux-pc/gh/CRCNS/src/motor_cortex/data/data/Ipsilateral/2018-05-03_(S5)/X.npy',\n",
       "  '/home/linux-pc/gh/CRCNS/src/motor_cortex/data/data/Ipsilateral/2018-05-03_(S4)/X.npy',\n",
       "  '/home/linux-pc/gh/CRCNS/src/motor_cortex/data/data/Ipsilateral/2018-05-10_(S8)/X.npy',\n",
       "  '/home/linux-pc/gh/CRCNS/src/motor_cortex/data/data/Ipsilateral/2018-05-17_(S9)/X.npy',\n",
       "  '/home/linux-pc/gh/CRCNS/src/motor_cortex/data/data/Ipsilateral/2018-04-29_(S2)/X.npy'],\n",
       " ['/home/linux-pc/gh/CRCNS/src/motor_cortex/data/data/Ipsilateral/2018-05-10_(S7)/X.npy',\n",
       "  '/home/linux-pc/gh/CRCNS/src/motor_cortex/data/data/Ipsilateral/2018-05-24_(S10)/X.npy',\n",
       "  '/home/linux-pc/gh/CRCNS/src/motor_cortex/data/data/Ipsilateral/2018-04-29_(S1)/X.npy',\n",
       "  '/home/linux-pc/gh/CRCNS/src/motor_cortex/data/data/Ipsilateral/2018-05-06_(S6)/X.npy',\n",
       "  '/home/linux-pc/gh/CRCNS/src/motor_cortex/data/data/Ipsilateral/2018-05-03_(S5)/X.npy',\n",
       "  '/home/linux-pc/gh/CRCNS/src/motor_cortex/data/data/Ipsilateral/2018-05-03_(S3)/X.npy',\n",
       "  '/home/linux-pc/gh/CRCNS/src/motor_cortex/data/data/Ipsilateral/2018-05-10_(S8)/X.npy',\n",
       "  '/home/linux-pc/gh/CRCNS/src/motor_cortex/data/data/Ipsilateral/2018-05-17_(S9)/X.npy',\n",
       "  '/home/linux-pc/gh/CRCNS/src/motor_cortex/data/data/Ipsilateral/2018-04-29_(S2)/X.npy'],\n",
       " ['/home/linux-pc/gh/CRCNS/src/motor_cortex/data/data/Ipsilateral/2018-05-10_(S7)/X.npy',\n",
       "  '/home/linux-pc/gh/CRCNS/src/motor_cortex/data/data/Ipsilateral/2018-05-24_(S10)/X.npy',\n",
       "  '/home/linux-pc/gh/CRCNS/src/motor_cortex/data/data/Ipsilateral/2018-04-29_(S1)/X.npy',\n",
       "  '/home/linux-pc/gh/CRCNS/src/motor_cortex/data/data/Ipsilateral/2018-05-06_(S6)/X.npy',\n",
       "  '/home/linux-pc/gh/CRCNS/src/motor_cortex/data/data/Ipsilateral/2018-05-03_(S5)/X.npy',\n",
       "  '/home/linux-pc/gh/CRCNS/src/motor_cortex/data/data/Ipsilateral/2018-05-03_(S3)/X.npy',\n",
       "  '/home/linux-pc/gh/CRCNS/src/motor_cortex/data/data/Ipsilateral/2018-05-03_(S4)/X.npy',\n",
       "  '/home/linux-pc/gh/CRCNS/src/motor_cortex/data/data/Ipsilateral/2018-05-17_(S9)/X.npy',\n",
       "  '/home/linux-pc/gh/CRCNS/src/motor_cortex/data/data/Ipsilateral/2018-04-29_(S2)/X.npy'],\n",
       " ['/home/linux-pc/gh/CRCNS/src/motor_cortex/data/data/Ipsilateral/2018-05-10_(S7)/X.npy',\n",
       "  '/home/linux-pc/gh/CRCNS/src/motor_cortex/data/data/Ipsilateral/2018-05-24_(S10)/X.npy',\n",
       "  '/home/linux-pc/gh/CRCNS/src/motor_cortex/data/data/Ipsilateral/2018-04-29_(S1)/X.npy',\n",
       "  '/home/linux-pc/gh/CRCNS/src/motor_cortex/data/data/Ipsilateral/2018-05-06_(S6)/X.npy',\n",
       "  '/home/linux-pc/gh/CRCNS/src/motor_cortex/data/data/Ipsilateral/2018-05-03_(S5)/X.npy',\n",
       "  '/home/linux-pc/gh/CRCNS/src/motor_cortex/data/data/Ipsilateral/2018-05-03_(S3)/X.npy',\n",
       "  '/home/linux-pc/gh/CRCNS/src/motor_cortex/data/data/Ipsilateral/2018-05-03_(S4)/X.npy',\n",
       "  '/home/linux-pc/gh/CRCNS/src/motor_cortex/data/data/Ipsilateral/2018-05-10_(S8)/X.npy',\n",
       "  '/home/linux-pc/gh/CRCNS/src/motor_cortex/data/data/Ipsilateral/2018-04-29_(S2)/X.npy'],\n",
       " ['/home/linux-pc/gh/CRCNS/src/motor_cortex/data/data/Ipsilateral/2018-05-10_(S7)/X.npy',\n",
       "  '/home/linux-pc/gh/CRCNS/src/motor_cortex/data/data/Ipsilateral/2018-05-24_(S10)/X.npy',\n",
       "  '/home/linux-pc/gh/CRCNS/src/motor_cortex/data/data/Ipsilateral/2018-04-29_(S1)/X.npy',\n",
       "  '/home/linux-pc/gh/CRCNS/src/motor_cortex/data/data/Ipsilateral/2018-05-06_(S6)/X.npy',\n",
       "  '/home/linux-pc/gh/CRCNS/src/motor_cortex/data/data/Ipsilateral/2018-05-03_(S5)/X.npy',\n",
       "  '/home/linux-pc/gh/CRCNS/src/motor_cortex/data/data/Ipsilateral/2018-05-03_(S3)/X.npy',\n",
       "  '/home/linux-pc/gh/CRCNS/src/motor_cortex/data/data/Ipsilateral/2018-05-03_(S4)/X.npy',\n",
       "  '/home/linux-pc/gh/CRCNS/src/motor_cortex/data/data/Ipsilateral/2018-05-10_(S8)/X.npy',\n",
       "  '/home/linux-pc/gh/CRCNS/src/motor_cortex/data/data/Ipsilateral/2018-05-17_(S9)/X.npy']]"
      ]
     },
     "execution_count": 42,
     "metadata": {},
     "output_type": "execute_result"
    }
   ],
   "source": [
    "train_list_X"
   ]
  },
  {
   "cell_type": "code",
   "execution_count": 44,
   "id": "fa744ee3",
   "metadata": {},
   "outputs": [
    {
     "data": {
      "text/plain": [
       "['/home/linux-pc/gh/CRCNS/src/motor_cortex/data/data/Ipsilateral/2018-05-24_(S10)/y.npy',\n",
       " '/home/linux-pc/gh/CRCNS/src/motor_cortex/data/data/Ipsilateral/2018-04-29_(S1)/y.npy',\n",
       " '/home/linux-pc/gh/CRCNS/src/motor_cortex/data/data/Ipsilateral/2018-05-06_(S6)/y.npy',\n",
       " '/home/linux-pc/gh/CRCNS/src/motor_cortex/data/data/Ipsilateral/2018-05-03_(S5)/y.npy',\n",
       " '/home/linux-pc/gh/CRCNS/src/motor_cortex/data/data/Ipsilateral/2018-05-03_(S3)/y.npy',\n",
       " '/home/linux-pc/gh/CRCNS/src/motor_cortex/data/data/Ipsilateral/2018-05-03_(S4)/y.npy',\n",
       " '/home/linux-pc/gh/CRCNS/src/motor_cortex/data/data/Ipsilateral/2018-05-10_(S8)/y.npy',\n",
       " '/home/linux-pc/gh/CRCNS/src/motor_cortex/data/data/Ipsilateral/2018-05-17_(S9)/y.npy',\n",
       " '/home/linux-pc/gh/CRCNS/src/motor_cortex/data/data/Ipsilateral/2018-04-29_(S2)/y.npy']"
      ]
     },
     "execution_count": 44,
     "metadata": {},
     "output_type": "execute_result"
    }
   ],
   "source": [
    "train_list_y[0]"
   ]
  },
  {
   "cell_type": "code",
   "execution_count": 18,
   "id": "7a41f623",
   "metadata": {},
   "outputs": [
    {
     "data": {
      "text/plain": [
       "(44989, 20, 64)"
      ]
     },
     "execution_count": 18,
     "metadata": {},
     "output_type": "execute_result"
    }
   ],
   "source": [
    "X.shape"
   ]
  },
  {
   "cell_type": "code",
   "execution_count": 19,
   "id": "aed2b381",
   "metadata": {},
   "outputs": [
    {
     "data": {
      "text/plain": [
       "(44989, 3)"
      ]
     },
     "execution_count": 19,
     "metadata": {},
     "output_type": "execute_result"
    }
   ],
   "source": [
    "y.shape"
   ]
  },
  {
   "cell_type": "code",
   "execution_count": 20,
   "id": "480cc51a",
   "metadata": {},
   "outputs": [],
   "source": [
    "# Creating Train and Validation Sets\n",
    "dataset = EcogMotionDataset(X, y)\n",
    "train_size = int(0.8 * len(dataset))\n",
    "val_size = len(dataset) - train_size\n",
    "train_ds, val_ds = random_split(dataset, [train_size, val_size])\n",
    "\n",
    "train_loader = DataLoader(train_ds, batch_size=64, shuffle=True)\n",
    "val_loader = DataLoader(val_ds, batch_size=64)"
   ]
  },
  {
   "cell_type": "code",
   "execution_count": 21,
   "id": "066e8641",
   "metadata": {},
   "outputs": [],
   "source": [
    "# Defining the model\n",
    "\n",
    "# Train Linear Model\n",
    "input_channels = X.shape[2]\n",
    "sequence_length = X.shape[1]\n",
    "model = LinearEcogToMotionNet(input_channels, sequence_length)\n",
    "\n",
    "# Train 1D CNN\n",
    "# model = EcogToMotionNet()\n",
    "\n",
    "# Train LSTM\n",
    "# model = EcogLSTM(input_size=64, hidden_size=128, num_layers=1, output_size=3)\n"
   ]
  },
  {
   "cell_type": "markdown",
   "id": "97b6a2ff",
   "metadata": {},
   "source": [
    "## Linear Model"
   ]
  },
  {
   "cell_type": "code",
   "execution_count": 118,
   "id": "cbc6a8dd",
   "metadata": {},
   "outputs": [
    {
     "name": "stdout",
     "output_type": "stream",
     "text": [
      "Epoch 1 | Train Loss: 1.0769 | Val.Loss: 1.0425\n",
      "Epoch 2 | Train Loss: 1.0670 | Val.Loss: 1.0912\n",
      "Epoch 3 | Train Loss: 1.0628 | Val.Loss: 1.0493\n",
      "Epoch 4 | Train Loss: 1.0661 | Val.Loss: 1.0837\n",
      "Epoch 5 | Train Loss: 1.0581 | Val.Loss: 1.0499\n",
      "Epoch 6 | Train Loss: 1.0566 | Val.Loss: 1.1074\n",
      "Epoch 7 | Train Loss: 1.0686 | Val.Loss: 1.0719\n",
      "Epoch 8 | Train Loss: 1.0677 | Val.Loss: 1.0536\n",
      "Epoch 9 | Train Loss: 1.0560 | Val.Loss: 1.0878\n",
      "Epoch 10 | Train Loss: 1.0602 | Val.Loss: 1.0627\n",
      "Epoch 11 | Train Loss: 1.0574 | Val.Loss: 1.0796\n",
      "Epoch 12 | Train Loss: 1.0553 | Val.Loss: 1.0486\n",
      "Epoch 13 | Train Loss: 1.0602 | Val.Loss: 1.0814\n",
      "Epoch 14 | Train Loss: 1.0547 | Val.Loss: 1.0619\n",
      "Epoch 15 | Train Loss: 1.0564 | Val.Loss: 1.0507\n",
      "Epoch 16 | Train Loss: 1.0573 | Val.Loss: 1.0746\n",
      "Epoch 17 | Train Loss: 1.0554 | Val.Loss: 1.1448\n",
      "Epoch 18 | Train Loss: 1.0580 | Val.Loss: 1.0960\n",
      "Epoch 19 | Train Loss: 1.0553 | Val.Loss: 1.1393\n",
      "Epoch 20 | Train Loss: 1.0613 | Val.Loss: 1.0804\n"
     ]
    }
   ],
   "source": [
    "# Linear Model \n",
    "\n",
    "# Train Linear Model\n",
    "input_channels = X.shape[2]\n",
    "sequence_length = X.shape[1]\n",
    "linear_model = LinearEcogToMotionNet(input_channels, sequence_length)\n",
    "\n",
    "linear_model.to(device)\n",
    "\n",
    "criterion = nn.MSELoss()\n",
    "optimizer = torch.optim.Adam(linear_model.parameters(), lr=1e-3)\n",
    "\n",
    "# Training loop\n",
    "for epoch in range(20):\n",
    "    linear_model.train()\n",
    "    train_loss = 0.0\n",
    "    for X_batch, y_batch in train_loader:\n",
    "        X_batch = X_batch.to(device)\n",
    "        y_batch = y_batch.to(device)\n",
    "        optimizer.zero_grad()\n",
    "        preds = linear_model(X_batch)\n",
    "        loss = criterion(preds, y_batch)\n",
    "        loss.backward()\n",
    "        optimizer.step()\n",
    "        train_loss += loss.item() * X_batch.size(0)\n",
    "    train_loss /= len(train_loader.dataset)\n",
    "    linear_model.eval()\n",
    "    val_loss = 0.0\n",
    "    with torch.no_grad():\n",
    "        for X_batch, y_batch in val_loader:\n",
    "            X_batch = X_batch.to(device)\n",
    "            y_batch = y_batch.to(device)\n",
    "            preds = linear_model(X_batch)\n",
    "            loss = criterion(preds, y_batch)\n",
    "            val_loss += loss.item() * X_batch.size(0)\n",
    "        val_loss /= len(val_loader.dataset)\n",
    "    print(f\"Epoch {epoch+1} | Train Loss: {train_loss:.4f} | Val.Loss: {val_loss:.4f}\")"
   ]
  },
  {
   "cell_type": "markdown",
   "id": "b7440c29",
   "metadata": {},
   "source": [
    "## Convolutional Neural Network"
   ]
  },
  {
   "cell_type": "code",
   "execution_count": 18,
   "id": "4c143e13",
   "metadata": {},
   "outputs": [
    {
     "name": "stdout",
     "output_type": "stream",
     "text": [
      "Epoch 1 | Train Loss: 0.9920 | Val.Loss: 0.2579\n",
      "Epoch 2 | Train Loss: 0.9682 | Val.Loss: 0.2520\n",
      "Epoch 3 | Train Loss: 0.9553 | Val.Loss: 0.2561\n",
      "Epoch 4 | Train Loss: 0.9446 | Val.Loss: 0.2527\n",
      "Epoch 5 | Train Loss: 0.9353 | Val.Loss: 0.2450\n",
      "Epoch 6 | Train Loss: 0.9261 | Val.Loss: 0.2440\n",
      "Epoch 7 | Train Loss: 0.9204 | Val.Loss: 0.2439\n",
      "Epoch 8 | Train Loss: 0.9123 | Val.Loss: 0.2433\n",
      "Epoch 9 | Train Loss: 0.9097 | Val.Loss: 0.2416\n",
      "Epoch 10 | Train Loss: 0.9020 | Val.Loss: 0.2387\n",
      "Epoch 11 | Train Loss: 0.8989 | Val.Loss: 0.2417\n",
      "Epoch 12 | Train Loss: 0.8953 | Val.Loss: 0.2400\n",
      "Epoch 13 | Train Loss: 0.8896 | Val.Loss: 0.2375\n",
      "Epoch 14 | Train Loss: 0.8870 | Val.Loss: 0.2445\n",
      "Epoch 15 | Train Loss: 0.8855 | Val.Loss: 0.2390\n",
      "Epoch 16 | Train Loss: 0.8832 | Val.Loss: 0.2387\n",
      "Epoch 17 | Train Loss: 0.8792 | Val.Loss: 0.2378\n",
      "Epoch 18 | Train Loss: 0.8747 | Val.Loss: 0.2372\n",
      "Epoch 19 | Train Loss: 0.8728 | Val.Loss: 0.2359\n",
      "Epoch 20 | Train Loss: 0.8715 | Val.Loss: 0.2355\n"
     ]
    }
   ],
   "source": [
    "# Train 1D CNN\n",
    "cnn_model = EcogToMotionNet()\n",
    "\n",
    "cnn_model.to(device)\n",
    "\n",
    "criterion = nn.MSELoss()\n",
    "optimizer = torch.optim.Adam(cnn_model.parameters(), lr=1e-3)\n",
    "\n",
    "# Training loop\n",
    "for epoch in range(20):\n",
    "    cnn_model.train()\n",
    "    train_loss = 0.0\n",
    "    for X_batch, y_batch in train_loader:\n",
    "        X_batch = X_batch.to(device)\n",
    "        y_batch = y_batch.to(device)\n",
    "        optimizer.zero_grad()\n",
    "        preds = cnn_model(X_batch)\n",
    "        loss = criterion(preds, y_batch)\n",
    "        loss.backward()\n",
    "        optimizer.step()\n",
    "        train_loss += loss.item() * X_batch.size(0)\n",
    "    train_loss /= len(train_loader.dataset)\n",
    "    cnn_model.eval()\n",
    "    val_loss = 0.0\n",
    "    with torch.no_grad():\n",
    "        for X_batch, y_batch in val_loader:\n",
    "            X_batch = X_batch.to(device)\n",
    "            y_batch = y_batch.to(device)\n",
    "            preds = cnn_model(X_batch)\n",
    "            loss = criterion(preds, y_batch)\n",
    "            val_loss += loss.item() * X_batch.size(0)\n",
    "        val_loss /= len(train_loader.dataset)\n",
    "    print(f\"Epoch {epoch+1} | Train Loss: {train_loss:.4f} | Val.Loss: {val_loss:.4f}\")"
   ]
  },
  {
   "cell_type": "markdown",
   "id": "b38fc935",
   "metadata": {},
   "source": [
    "## Long Short-Term Memory Model"
   ]
  },
  {
   "cell_type": "code",
   "execution_count": 207,
   "id": "488148af",
   "metadata": {},
   "outputs": [
    {
     "name": "stdout",
     "output_type": "stream",
     "text": [
      "Epoch 1 | Train Loss: 1.0020 | Val.Loss: 0.9884\n",
      "Epoch 2 | Train Loss: 0.9697 | Val.Loss: 0.9664\n",
      "Epoch 3 | Train Loss: 0.9395 | Val.Loss: 0.9427\n",
      "Epoch 4 | Train Loss: 0.9096 | Val.Loss: 0.9568\n",
      "Epoch 5 | Train Loss: 0.8788 | Val.Loss: 0.9366\n",
      "Epoch 6 | Train Loss: 0.8429 | Val.Loss: 0.9287\n",
      "Epoch 7 | Train Loss: 0.8062 | Val.Loss: 0.9435\n",
      "Epoch 8 | Train Loss: 0.7639 | Val.Loss: 0.9770\n",
      "Epoch 9 | Train Loss: 0.7134 | Val.Loss: 0.9351\n",
      "Epoch 10 | Train Loss: 0.6753 | Val.Loss: 0.9574\n",
      "Epoch 11 | Train Loss: 0.6273 | Val.Loss: 0.9840\n",
      "Epoch 12 | Train Loss: 0.5923 | Val.Loss: 0.9928\n",
      "Epoch 13 | Train Loss: 0.5456 | Val.Loss: 0.9715\n",
      "Epoch 14 | Train Loss: 0.5127 | Val.Loss: 0.9826\n",
      "Epoch 15 | Train Loss: 0.4877 | Val.Loss: 1.0007\n",
      "Epoch 16 | Train Loss: 0.4565 | Val.Loss: 1.0444\n",
      "Epoch 17 | Train Loss: 0.4305 | Val.Loss: 1.0313\n",
      "Epoch 18 | Train Loss: 0.4180 | Val.Loss: 1.0267\n",
      "Epoch 19 | Train Loss: 0.3837 | Val.Loss: 1.0373\n",
      "Epoch 20 | Train Loss: 0.3853 | Val.Loss: 1.0555\n"
     ]
    }
   ],
   "source": [
    "lstm_model = EcogLSTM(input_size=64, hidden_size=128, num_layers=1, output_size=3)\n",
    "lstm_model.to(device)\n",
    "\n",
    "criterion = nn.MSELoss()\n",
    "optimizer = torch.optim.Adam(lstm_model.parameters(), lr=1e-3)\n",
    "\n",
    "# Training loop\n",
    "for epoch in range(20):\n",
    "    lstm_model.train()\n",
    "    train_loss = 0.0\n",
    "    for X_batch, y_batch in train_loader:\n",
    "        X_batch = X_batch.to(device)\n",
    "        y_batch = y_batch.to(device)\n",
    "        optimizer.zero_grad()\n",
    "        preds = lstm_model(X_batch)\n",
    "        loss = criterion(preds, y_batch)\n",
    "        loss.backward()\n",
    "        optimizer.step()\n",
    "        train_loss += loss.item() * X_batch.size(0)\n",
    "    train_loss /= len(train_loader.dataset)\n",
    "    lstm_model.eval()\n",
    "    val_loss = 0.0\n",
    "    with torch.no_grad():\n",
    "        for X_batch, y_batch in val_loader:\n",
    "            X_batch = X_batch.to(device)\n",
    "            y_batch = y_batch.to(device)\n",
    "            preds = lstm_model(X_batch)\n",
    "            loss = criterion(preds, y_batch)\n",
    "            val_loss += loss.item() * X_batch.size(0)\n",
    "        val_loss /= len(val_loader.dataset)\n",
    "    print(f\"Epoch {epoch+1} | Train Loss: {train_loss:.4f} | Val.Loss: {val_loss:.4f}\")"
   ]
  },
  {
   "cell_type": "markdown",
   "id": "c3d28eef",
   "metadata": {},
   "source": [
    "## Training All Models"
   ]
  },
  {
   "cell_type": "code",
   "execution_count": 46,
   "id": "bc2383d9",
   "metadata": {},
   "outputs": [
    {
     "data": {
      "text/plain": [
       "['/home/linux-pc/gh/CRCNS/src/motor_cortex/data/data/Ipsilateral/2018-05-24_(S10)/X.npy',\n",
       " '/home/linux-pc/gh/CRCNS/src/motor_cortex/data/data/Ipsilateral/2018-04-29_(S1)/X.npy',\n",
       " '/home/linux-pc/gh/CRCNS/src/motor_cortex/data/data/Ipsilateral/2018-05-06_(S6)/X.npy',\n",
       " '/home/linux-pc/gh/CRCNS/src/motor_cortex/data/data/Ipsilateral/2018-05-03_(S5)/X.npy',\n",
       " '/home/linux-pc/gh/CRCNS/src/motor_cortex/data/data/Ipsilateral/2018-05-03_(S3)/X.npy',\n",
       " '/home/linux-pc/gh/CRCNS/src/motor_cortex/data/data/Ipsilateral/2018-05-03_(S4)/X.npy',\n",
       " '/home/linux-pc/gh/CRCNS/src/motor_cortex/data/data/Ipsilateral/2018-05-10_(S8)/X.npy',\n",
       " '/home/linux-pc/gh/CRCNS/src/motor_cortex/data/data/Ipsilateral/2018-05-17_(S9)/X.npy',\n",
       " '/home/linux-pc/gh/CRCNS/src/motor_cortex/data/data/Ipsilateral/2018-04-29_(S2)/X.npy']"
      ]
     },
     "execution_count": 46,
     "metadata": {},
     "output_type": "execute_result"
    }
   ],
   "source": [
    "train_list_X[0]"
   ]
  },
  {
   "cell_type": "code",
   "execution_count": 16,
   "id": "a54b252d",
   "metadata": {},
   "outputs": [
    {
     "data": {
      "text/plain": [
       "'/home/linux-pc/gh/CRCNS/src/motor_cortex/data/data/Ipsilateral/2018-05-10_(S7)/X.npy'"
      ]
     },
     "execution_count": 16,
     "metadata": {},
     "output_type": "execute_result"
    }
   ],
   "source": [
    "test_list_X[0]"
   ]
  },
  {
   "cell_type": "code",
   "execution_count": 27,
   "id": "a16d254c",
   "metadata": {},
   "outputs": [
    {
     "name": "stdout",
     "output_type": "stream",
     "text": [
      "CNN Epoch 1/100 | Train Loss: 0.785687 | Val Loss: 0.722110 | R2: 0.299836\n",
      "Model Checkpoint | epoch: 0 | best_val_loss: 0.7221096145111874\n",
      "CNN Epoch 2/100 | Train Loss: 0.714089 | Val Loss: 0.684323 | R2: 0.336406\n",
      "Model Checkpoint | epoch: 1 | best_val_loss: 0.6843227788148581\n",
      "CNN Epoch 3/100 | Train Loss: 0.689621 | Val Loss: 0.702854 | R2: 0.318372\n",
      "CNN Epoch 4/100 | Train Loss: 0.668353 | Val Loss: 0.694770 | R2: 0.326342\n",
      "CNN Epoch 5/100 | Train Loss: 0.658022 | Val Loss: 0.675320 | R2: 0.345082\n",
      "Model Checkpoint | epoch: 4 | best_val_loss: 0.6753198531670416\n",
      "CNN Epoch 6/100 | Train Loss: 0.654197 | Val Loss: 0.650865 | R2: 0.368813\n",
      "Model Checkpoint | epoch: 5 | best_val_loss: 0.6508649142467521\n",
      "CNN Epoch 7/100 | Train Loss: 0.640321 | Val Loss: 0.645442 | R2: 0.374132\n",
      "Model Checkpoint | epoch: 6 | best_val_loss: 0.6454422133659599\n",
      "CNN Epoch 8/100 | Train Loss: 0.630975 | Val Loss: 0.633905 | R2: 0.385319\n",
      "Model Checkpoint | epoch: 7 | best_val_loss: 0.6339045615378506\n",
      "CNN Epoch 9/100 | Train Loss: 0.625374 | Val Loss: 0.640697 | R2: 0.378647\n",
      "CNN Epoch 10/100 | Train Loss: 0.625700 | Val Loss: 0.633991 | R2: 0.385152\n",
      "CNN Epoch 11/100 | Train Loss: 0.622184 | Val Loss: 0.630824 | R2: 0.388210\n",
      "Model Checkpoint | epoch: 10 | best_val_loss: 0.6308236831108032\n",
      "CNN Epoch 12/100 | Train Loss: 0.614591 | Val Loss: 0.621682 | R2: 0.397103\n",
      "Model Checkpoint | epoch: 11 | best_val_loss: 0.6216819491607902\n",
      "CNN Epoch 13/100 | Train Loss: 0.604248 | Val Loss: 0.614454 | R2: 0.404075\n",
      "Model Checkpoint | epoch: 12 | best_val_loss: 0.6144537937907407\n",
      "CNN Epoch 14/100 | Train Loss: 0.606734 | Val Loss: 0.622531 | R2: 0.396246\n",
      "CNN Epoch 15/100 | Train Loss: 0.595567 | Val Loss: 0.607366 | R2: 0.410969\n",
      "Model Checkpoint | epoch: 14 | best_val_loss: 0.6073663604300557\n",
      "CNN Epoch 16/100 | Train Loss: 0.597207 | Val Loss: 0.612865 | R2: 0.405645\n",
      "CNN Epoch 17/100 | Train Loss: 0.594088 | Val Loss: 0.591489 | R2: 0.426325\n",
      "Model Checkpoint | epoch: 16 | best_val_loss: 0.5914886845709391\n",
      "CNN Epoch 18/100 | Train Loss: 0.585874 | Val Loss: 0.591707 | R2: 0.426167\n",
      "CNN Epoch 19/100 | Train Loss: 0.580728 | Val Loss: 0.617984 | R2: 0.400637\n",
      "CNN Epoch 20/100 | Train Loss: 0.584169 | Val Loss: 0.591534 | R2: 0.426267\n",
      "CNN Epoch 21/100 | Train Loss: 0.578106 | Val Loss: 0.665169 | R2: 0.354895\n",
      "CNN Epoch 22/100 | Train Loss: 0.577275 | Val Loss: 0.614761 | R2: 0.403758\n",
      "CNN Epoch 23/100 | Train Loss: 0.567362 | Val Loss: 0.592175 | R2: 0.425675\n",
      "CNN Epoch 24/100 | Train Loss: 0.547488 | Val Loss: 0.575388 | R2: 0.441913\n",
      "Model Checkpoint | epoch: 23 | best_val_loss: 0.5753875582307455\n",
      "CNN Epoch 25/100 | Train Loss: 0.540016 | Val Loss: 0.578582 | R2: 0.438824\n",
      "CNN Epoch 26/100 | Train Loss: 0.534201 | Val Loss: 0.553328 | R2: 0.463314\n",
      "Model Checkpoint | epoch: 25 | best_val_loss: 0.5533277462397513\n",
      "CNN Epoch 27/100 | Train Loss: 0.531266 | Val Loss: 0.561687 | R2: 0.455219\n",
      "CNN Epoch 28/100 | Train Loss: 0.528744 | Val Loss: 0.552293 | R2: 0.464320\n",
      "Model Checkpoint | epoch: 27 | best_val_loss: 0.5522931142672789\n",
      "CNN Epoch 29/100 | Train Loss: 0.527351 | Val Loss: 0.548983 | R2: 0.467528\n",
      "Model Checkpoint | epoch: 28 | best_val_loss: 0.5489834449942714\n",
      "CNN Epoch 30/100 | Train Loss: 0.525563 | Val Loss: 0.556709 | R2: 0.460033\n",
      "CNN Epoch 31/100 | Train Loss: 0.521084 | Val Loss: 0.560542 | R2: 0.456281\n",
      "CNN Epoch 32/100 | Train Loss: 0.515404 | Val Loss: 0.544638 | R2: 0.471749\n",
      "Model Checkpoint | epoch: 31 | best_val_loss: 0.5446378828115047\n",
      "CNN Epoch 33/100 | Train Loss: 0.518050 | Val Loss: 0.558361 | R2: 0.458461\n",
      "CNN Epoch 34/100 | Train Loss: 0.514126 | Val Loss: 0.565502 | R2: 0.451518\n",
      "CNN Epoch 35/100 | Train Loss: 0.510855 | Val Loss: 0.548786 | R2: 0.467724\n",
      "CNN Epoch 36/100 | Train Loss: 0.510022 | Val Loss: 0.541492 | R2: 0.474785\n",
      "Model Checkpoint | epoch: 35 | best_val_loss: 0.5414921878768227\n",
      "CNN Epoch 37/100 | Train Loss: 0.503732 | Val Loss: 0.564466 | R2: 0.452484\n",
      "CNN Epoch 38/100 | Train Loss: 0.507967 | Val Loss: 0.553350 | R2: 0.463289\n",
      "CNN Epoch 39/100 | Train Loss: 0.502333 | Val Loss: 0.559127 | R2: 0.457686\n",
      "CNN Epoch 40/100 | Train Loss: 0.497731 | Val Loss: 0.544159 | R2: 0.472219\n",
      "CNN Epoch 41/100 | Train Loss: 0.492347 | Val Loss: 0.554961 | R2: 0.461722\n",
      "CNN Epoch 42/100 | Train Loss: 0.499412 | Val Loss: 0.535942 | R2: 0.480195\n",
      "Model Checkpoint | epoch: 41 | best_val_loss: 0.5359422837592374\n",
      "CNN Epoch 43/100 | Train Loss: 0.491754 | Val Loss: 0.536342 | R2: 0.479778\n",
      "CNN Epoch 44/100 | Train Loss: 0.489402 | Val Loss: 0.547914 | R2: 0.468552\n",
      "CNN Epoch 45/100 | Train Loss: 0.488400 | Val Loss: 0.525820 | R2: 0.489999\n",
      "Model Checkpoint | epoch: 44 | best_val_loss: 0.5258195754925084\n",
      "CNN Epoch 46/100 | Train Loss: 0.486918 | Val Loss: 0.547723 | R2: 0.468735\n",
      "CNN Epoch 47/100 | Train Loss: 0.485143 | Val Loss: 0.536435 | R2: 0.479685\n",
      "CNN Epoch 48/100 | Train Loss: 0.483028 | Val Loss: 0.527058 | R2: 0.488789\n",
      "CNN Epoch 49/100 | Train Loss: 0.481054 | Val Loss: 0.544878 | R2: 0.471507\n",
      "CNN Epoch 50/100 | Train Loss: 0.474401 | Val Loss: 0.533267 | R2: 0.482772\n",
      "CNN Epoch 51/100 | Train Loss: 0.473058 | Val Loss: 0.526875 | R2: 0.488981\n",
      "CNN Epoch 52/100 | Train Loss: 0.455334 | Val Loss: 0.520785 | R2: 0.494863\n",
      "Model Checkpoint | epoch: 51 | best_val_loss: 0.5207849797480291\n",
      "CNN Epoch 53/100 | Train Loss: 0.449492 | Val Loss: 0.520181 | R2: 0.495470\n",
      "Model Checkpoint | epoch: 52 | best_val_loss: 0.5201805026806227\n",
      "CNN Epoch 54/100 | Train Loss: 0.446989 | Val Loss: 0.520878 | R2: 0.494798\n",
      "CNN Epoch 55/100 | Train Loss: 0.447917 | Val Loss: 0.512048 | R2: 0.503347\n",
      "Model Checkpoint | epoch: 54 | best_val_loss: 0.5120480615094657\n",
      "CNN Epoch 56/100 | Train Loss: 0.443784 | Val Loss: 0.527301 | R2: 0.488545\n",
      "CNN Epoch 57/100 | Train Loss: 0.436272 | Val Loss: 0.524044 | R2: 0.491721\n",
      "CNN Epoch 58/100 | Train Loss: 0.439695 | Val Loss: 0.514770 | R2: 0.500716\n",
      "CNN Epoch 59/100 | Train Loss: 0.432799 | Val Loss: 0.568063 | R2: 0.449023\n",
      "CNN Epoch 60/100 | Train Loss: 0.436113 | Val Loss: 0.516780 | R2: 0.498760\n",
      "CNN Epoch 61/100 | Train Loss: 0.430296 | Val Loss: 0.516269 | R2: 0.499257\n",
      "CNN Epoch 62/100 | Train Loss: 0.423696 | Val Loss: 0.508113 | R2: 0.507163\n",
      "Model Checkpoint | epoch: 61 | best_val_loss: 0.5081129214713038\n",
      "CNN Epoch 63/100 | Train Loss: 0.413767 | Val Loss: 0.510818 | R2: 0.504544\n",
      "CNN Epoch 64/100 | Train Loss: 0.413127 | Val Loss: 0.514291 | R2: 0.501165\n",
      "CNN Epoch 65/100 | Train Loss: 0.417245 | Val Loss: 0.512158 | R2: 0.503233\n",
      "CNN Epoch 66/100 | Train Loss: 0.415431 | Val Loss: 0.519200 | R2: 0.496409\n",
      "CNN Epoch 67/100 | Train Loss: 0.414147 | Val Loss: 0.513242 | R2: 0.502172\n",
      "CNN Epoch 68/100 | Train Loss: 0.414717 | Val Loss: 0.515141 | R2: 0.500330\n",
      "CNN Epoch 69/100 | Train Loss: 0.404813 | Val Loss: 0.509669 | R2: 0.505642\n",
      "CNN Epoch 70/100 | Train Loss: 0.405339 | Val Loss: 0.510777 | R2: 0.504578\n",
      "CNN Epoch 71/100 | Train Loss: 0.401425 | Val Loss: 0.512100 | R2: 0.503294\n",
      "CNN Epoch 72/100 | Train Loss: 0.400314 | Val Loss: 0.504629 | R2: 0.510538\n",
      "Model Checkpoint | epoch: 71 | best_val_loss: 0.5046287964835328\n",
      "CNN Epoch 73/100 | Train Loss: 0.400933 | Val Loss: 0.516032 | R2: 0.499475\n",
      "CNN Epoch 74/100 | Train Loss: 0.397857 | Val Loss: 0.510878 | R2: 0.504479\n",
      "CNN Epoch 75/100 | Train Loss: 0.394655 | Val Loss: 0.515439 | R2: 0.500052\n",
      "CNN Epoch 76/100 | Train Loss: 0.395452 | Val Loss: 0.510455 | R2: 0.504881\n",
      "CNN Epoch 77/100 | Train Loss: 0.395113 | Val Loss: 0.507336 | R2: 0.507917\n",
      "CNN Epoch 78/100 | Train Loss: 0.393921 | Val Loss: 0.509281 | R2: 0.506020\n",
      "CNN Epoch 79/100 | Train Loss: 0.388368 | Val Loss: 0.511042 | R2: 0.504315\n",
      "CNN Epoch 80/100 | Train Loss: 0.388950 | Val Loss: 0.506203 | R2: 0.509012\n",
      "CNN Epoch 81/100 | Train Loss: 0.393577 | Val Loss: 0.504893 | R2: 0.510282\n",
      "CNN Epoch 82/100 | Train Loss: 0.392408 | Val Loss: 0.504778 | R2: 0.510395\n",
      "Early stopping at epoch 82\n"
     ]
    },
    {
     "data": {
      "image/png": "[encoded data removed]",
      "text/plain": [
       "<Figure size 1000x600 with 1 Axes>"
      ]
     },
     "metadata": {},
     "output_type": "display_data"
    }
   ],
   "source": [
    "# Example usage:\n",
    "device = torch.device(\"cuda\" if torch.cuda.is_available() else \"cpu\")\n",
    "\n",
    "# Define Training and Test data\n",
    "# Read in the data\n",
    "processed_data_l_X = glob(os.path.join('/home/linux-pc/gh/CRCNS/src/motor_cortex/data/data/', '**', \"**\", \"X.npy\"))\n",
    "processed_data_l_y = glob(os.path.join('/home/linux-pc/gh/CRCNS/src/motor_cortex/data/data/', '**', \"**\", \"y.npy\"))\n",
    "# Define K-fold sets\n",
    "test_list_X = []\n",
    "train_list_X = []\n",
    "test_list_y = []\n",
    "train_list_y = []\n",
    "\n",
    "for i in range(len(processed_data_l_X)):\n",
    "    test_list_X.append(processed_data_l_X[i])\n",
    "    test_list_y.append(processed_data_l_y[i])\n",
    "    train_X = [x for idx, x in enumerate(processed_data_l_X) if idx != i]\n",
    "    train_y = [y for idx, y in enumerate(processed_data_l_y) if idx != i]\n",
    "    train_list_X.append(train_X)\n",
    "    train_list_y.append(train_y)\n",
    "\n",
    "\n",
    "# Load a single specific dataset\n",
    "# K-Fold 0 uses session 7 as the test set:\n",
    "KFOLD = 0\n",
    "SESSION_SET = 6\n",
    "\n",
    "\"\"\"\n",
    "['/home/linux-pc/gh/CRCNS/src/motor_cortex/data/data/Ipsilateral/2018-05-24_(S10)/X.npy', 0\n",
    " '/home/linux-pc/gh/CRCNS/src/motor_cortex/data/data/Ipsilateral/2018-04-29_(S1)/X.npy', 1\n",
    " '/home/linux-pc/gh/CRCNS/src/motor_cortex/data/data/Ipsilateral/2018-05-06_(S6)/X.npy', 2\n",
    " '/home/linux-pc/gh/CRCNS/src/motor_cortex/data/data/Ipsilateral/2018-05-03_(S5)/X.npy', 3\n",
    " '/home/linux-pc/gh/CRCNS/src/motor_cortex/data/data/Ipsilateral/2018-05-03_(S3)/X.npy', 4\n",
    " '/home/linux-pc/gh/CRCNS/src/motor_cortex/data/data/Ipsilateral/2018-05-03_(S4)/X.npy', 5\n",
    " '/home/linux-pc/gh/CRCNS/src/motor_cortex/data/data/Ipsilateral/2018-05-10_(S8)/X.npy', 6 \n",
    " '/home/linux-pc/gh/CRCNS/src/motor_cortex/data/data/Ipsilateral/2018-05-17_(S9)/X.npy', 7\n",
    " '/home/linux-pc/gh/CRCNS/src/motor_cortex/data/data/Ipsilateral/2018-04-29_(S2)/X.npy'] 8\n",
    "\"\"\"\n",
    "\n",
    "X = np.load(train_list_X[KFOLD][SESSION_SET])\n",
    "y = np.load(train_list_y[KFOLD][SESSION_SET])\n",
    "\n",
    "# X = np.load(test_list_X[0]) # Identify the test set\n",
    "# y = np.load(test_list_y[0]) # Identify the test set\n",
    "\n",
    "# Creating Train and Validation Sets\n",
    "dataset = EcogMotionDataset(X, y)\n",
    "train_size = int(0.8 * len(dataset))\n",
    "val_size = len(dataset) - train_size\n",
    "train_ds, val_ds = random_split(dataset, [train_size, val_size])\n",
    "\n",
    "train_loader = DataLoader(train_ds, batch_size=64, shuffle=True)\n",
    "val_loader = DataLoader(val_ds, batch_size=64)\n",
    "\n",
    "# Assuming train_loader, val_loader, criterion are defined\n",
    "\n",
    "# 1. LSTM\n",
    "# lstm_model = EcogLSTM(input_size=64, hidden_size=128, num_layers=1, output_size=3)\n",
    "# lstm_optimizer = torch.optim.Adam(lstm_model.parameters(), lr=1e-3)\n",
    "# lstm_train_losses, lstm_val_losses = train_model(lstm_model, train_loader, val_loader, criterion, lstm_optimizer, device, epochs=20, model_name=\"LSTM\")\n",
    "\n",
    "# 2. CNN\n",
    "cnn_model = EcogToMotionNet()\n",
    "criterion = nn.MSELoss()\n",
    "cnn_train_losses, cnn_val_losses = train_model(cnn_model, train_loader, val_loader,device, epochs=100, model_name=\"CNN\")\n",
    "\n",
    "# 3. Linear\n",
    "# input_channels = X.shape[2]\n",
    "# sequence_length = X.shape[1]\n",
    "# linear_model = LinearEcogToMotionNet(input_channels, sequence_length)\n",
    "# linear_optimizer = torch.optim.Adam(linear_model.parameters(), lr=1e-3)\n",
    "# linear_train_losses, linear_val_losses = train_model(linear_model, train_loader, val_loader, criterion, linear_optimizer, device, epochs=20, model_name=\"Linear\")\n",
    "\n",
    "# Plot all losses together\n",
    "plot_losses({\n",
    "    # \"LSTM\": (lstm_train_losses, lstm_val_losses),\n",
    "    \"CNN\": (cnn_train_losses, cnn_val_losses),\n",
    "    # \"Linear\": (linear_train_losses, linear_val_losses)\n",
    "})\n",
    "\n"
   ]
  },
  {
   "cell_type": "markdown",
   "id": "892acd38",
   "metadata": {},
   "source": [
    "## Loading the model and making predictions"
   ]
  },
  {
   "cell_type": "code",
   "execution_count": 2,
   "id": "f7a1c0ec",
   "metadata": {},
   "outputs": [
    {
     "ename": "NameError",
     "evalue": "name 'EcogToMotionNet' is not defined",
     "output_type": "error",
     "traceback": [
      "\u001b[0;31m---------------------------------------------------------------------------\u001b[0m",
      "\u001b[0;31mNameError\u001b[0m                                 Traceback (most recent call last)",
      "Cell \u001b[0;32mIn[2], line 2\u001b[0m\n\u001b[1;32m      1\u001b[0m \u001b[38;5;66;03m# Recreate the model structure\u001b[39;00m\n\u001b[0;32m----> 2\u001b[0m cnn_model \u001b[38;5;241m=\u001b[39m \u001b[43mEcogToMotionNet\u001b[49m()\n\u001b[1;32m      3\u001b[0m cnn_model\u001b[38;5;241m.\u001b[39mload_state_dict(torch\u001b[38;5;241m.\u001b[39mload(\u001b[38;5;124m\"\u001b[39m\u001b[38;5;124mHybrid_best_model_session_8_ipsilateral_2018_05_10.pth\u001b[39m\u001b[38;5;124m\"\u001b[39m))\n\u001b[1;32m      4\u001b[0m cnn_model\u001b[38;5;241m.\u001b[39mto(device)\n",
      "\u001b[0;31mNameError\u001b[0m: name 'EcogToMotionNet' is not defined"
     ]
    }
   ],
   "source": [
    "# Recreate the model structure\n",
    "cnn_model = EcogToMotionNet()\n",
    "cnn_model.load_state_dict(torch.load(\"Hybrid_best_model_session_8_ipsilateral_2018_05_10.pth\"))\n",
    "cnn_model.to(device)\n",
    "cnn_model.eval()"
   ]
  },
  {
   "cell_type": "code",
   "execution_count": 21,
   "id": "4044352d",
   "metadata": {},
   "outputs": [],
   "source": [
    "# Define K-fold sets\n",
    "test_list_X = []\n",
    "train_list_X = []\n",
    "test_list_y = []\n",
    "train_list_y = []\n",
    "\n",
    "for i in range(len(processed_data_l_X)):\n",
    "    test_list_X.append(processed_data_l_X[i])\n",
    "    test_list_y.append(processed_data_l_y[i])\n",
    "    train_X = [x for idx, x in enumerate(processed_data_l_X) if idx != i]\n",
    "    train_y = [y for idx, y in enumerate(processed_data_l_y) if idx != i]\n",
    "    train_list_X.append(train_X)\n",
    "    train_list_y.append(train_y)"
   ]
  },
  {
   "cell_type": "code",
   "execution_count": 22,
   "id": "c38d2a52",
   "metadata": {},
   "outputs": [
    {
     "data": {
      "text/plain": [
       "'/home/linux-pc/gh/CRCNS/src/motor_cortex/data/data/Ipsilateral/2018-05-24_(S10)/X.npy'"
      ]
     },
     "execution_count": 22,
     "metadata": {},
     "output_type": "execute_result"
    }
   ],
   "source": [
    "test_list_X[1]"
   ]
  },
  {
   "cell_type": "code",
   "execution_count": 38,
   "id": "f0851377",
   "metadata": {},
   "outputs": [
    {
     "data": {
      "text/plain": [
       "'/home/linux-pc/gh/CRCNS/src/motor_cortex/data/data/Ipsilateral/2018-05-24_(S10)/y.npy'"
      ]
     },
     "execution_count": 38,
     "metadata": {},
     "output_type": "execute_result"
    }
   ],
   "source": [
    "test_list_y[1]"
   ]
  },
  {
   "cell_type": "code",
   "execution_count": 63,
   "id": "58814ed4",
   "metadata": {},
   "outputs": [
    {
     "data": {
      "text/plain": [
       "'/home/linux-pc/gh/CRCNS/src/motor_cortex/data/data/Ipsilateral/2018-04-29_(S1)/X.npy'"
      ]
     },
     "execution_count": 63,
     "metadata": {},
     "output_type": "execute_result"
    }
   ],
   "source": [
    "train_list_X[0][1]"
   ]
  },
  {
   "cell_type": "code",
   "execution_count": null,
   "id": "9a383535",
   "metadata": {},
   "outputs": [],
   "source": [
    "# Trained on the 8th session and predicting on the first session"
   ]
  },
  {
   "cell_type": "code",
   "execution_count": 70,
   "id": "2548d318",
   "metadata": {},
   "outputs": [
    {
     "name": "stdout",
     "output_type": "stream",
     "text": [
      "(920498, 64)\n",
      "(44982, 20, 64)\n",
      "(44982, 3)\n"
     ]
    }
   ],
   "source": [
    "current_ecog_data_file = ecog_data_file_l[8]\n",
    "current_motion_data_file = motion_data_file_l[8]\n",
    "preprocessor = PreprocessData(current_ecog_data_file, current_motion_data_file)\n",
    "X, y = preprocessor.process()\n",
    "preprocessor.save()"
   ]
  },
  {
   "cell_type": "code",
   "execution_count": 71,
   "id": "b0098217",
   "metadata": {},
   "outputs": [],
   "source": [
    "# Trained using data from session 8; Testing using data from session 1\n",
    "X = np.load(train_list_X[0][1])\n",
    "y = np.load(train_list_y[0][1])\n",
    "scaler = joblib.load(train_list_X[0][1].strip(\"X.npy\") + \"scaler_ecog.pkl\")"
   ]
  },
  {
   "cell_type": "code",
   "execution_count": null,
   "id": "3678f2f6",
   "metadata": {},
   "outputs": [],
   "source": [
    "# Creating Train and Validation Sets\n",
    "dataset = EcogMotionDataset(X, y)\n",
    "test_loader = DataLoader(dataset, batch_size=64, shuffle = True)"
   ]
  },
  {
   "cell_type": "code",
   "execution_count": 75,
   "id": "dd975664",
   "metadata": {},
   "outputs": [],
   "source": [
    "def predict_and_export(model, data_loader, device, output_file_path):\n",
    "    model.eval()\n",
    "    all_preds, all_targets = [], []\n",
    "\n",
    "    with torch.no_grad():\n",
    "        for inputs, targets in data_loader:\n",
    "            inputs, targets = inputs.to(device), targets.to(device)\n",
    "            outputs = model(inputs)\n",
    "            all_preds.append(outputs.cpu().numpy())\n",
    "            all_targets.append(targets.cpu().numpy())\n",
    "    predictions = np.concatenate(all_preds, axis=0)\n",
    "    targets = np.concatenate(all_targets, axis=0)\n",
    "    \n",
    "    # Save as .mat file for visualization\n",
    "    savemat(output_file_path, {\n",
    "        \"predictions\":predictions,\n",
    "        \"targets\": targets\n",
    "    })\n",
    "    print(\"Saved predictions to ecog_predictions.mat\")\n",
    "\n",
    "    return predictions, targets\n"
   ]
  },
  {
   "cell_type": "code",
   "execution_count": null,
   "id": "a0418427",
   "metadata": {},
   "outputs": [
    {
     "name": "stdout",
     "output_type": "stream",
     "text": [
      "Saved predictions to ecog_predictions.mat\n"
     ]
    }
   ],
   "source": [
    "# Example Call\n",
    "cnn_model.to(device)\n",
    "output_file_path = train_list_X[0][1].strip(\"X.npy\") + \"ecog_predictions.mat\"\n",
    "predictions, targets = predict_and_export(cnn_model, test_loader, device, output_file_path)"
   ]
  },
  {
   "cell_type": "code",
   "execution_count": 1,
   "id": "b2ea270e",
   "metadata": {},
   "outputs": [
    {
     "ename": "NameError",
     "evalue": "name 'X' is not defined",
     "output_type": "error",
     "traceback": [
      "\u001b[0;31m---------------------------------------------------------------------------\u001b[0m",
      "\u001b[0;31mNameError\u001b[0m                                 Traceback (most recent call last)",
      "Cell \u001b[0;32mIn[1], line 1\u001b[0m\n\u001b[0;32m----> 1\u001b[0m \u001b[43mX\u001b[49m\n",
      "\u001b[0;31mNameError\u001b[0m: name 'X' is not defined"
     ]
    }
   ],
   "source": [
    "X"
   ]
  }
 ],
 "metadata": {
  "kernelspec": {
   "display_name": "torch",
   "language": "python",
   "name": "python3"
  },
  "language_info": {
   "codemirror_mode": {
    "name": "ipython",
    "version": 3
   },
   "file_extension": ".py",
   "mimetype": "text/x-python",
   "name": "python",
   "nbconvert_exporter": "python",
   "pygments_lexer": "ipython3",
   "version": "3.10.16"
  }
 },
 "nbformat": 4,
 "nbformat_minor": 5
}
