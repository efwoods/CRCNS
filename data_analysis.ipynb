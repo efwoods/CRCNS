{
 "cells": [
  {
   "cell_type": "code",
   "execution_count": 1,
   "id": "854f15c9",
   "metadata": {},
   "outputs": [],
   "source": [
    "import os\n",
    "import numpy as np\n",
    "import torch\n",
    "import pandas as pd\n",
    "from glob import glob\n",
    "from scipy.io import loadmat\n",
    "import matplotlib.pyplot as plt"
   ]
  },
  {
   "cell_type": "code",
   "execution_count": 2,
   "id": "283cc29d",
   "metadata": {},
   "outputs": [
    {
     "data": {
      "text/plain": [
       "'/home/linux-pc/gh/CRCNS/src/motor_cortex/data/'"
      ]
     },
     "execution_count": 2,
     "metadata": {},
     "output_type": "execute_result"
    }
   ],
   "source": [
    "os.path.join(os.getcwd(), \"src/\", \"motor_cortex/data/\")"
   ]
  },
  {
   "cell_type": "code",
   "execution_count": 3,
   "id": "6729e9a1",
   "metadata": {},
   "outputs": [],
   "source": [
    "motion_data_file_l = glob(os.path.join(os.getcwd(), \"src/\", \"motor_cortex/data/data/\", \"**\", \"motion*.csv\"), recursive=True)\n",
    "ecog_data_file_l = glob(os.path.join(os.getcwd(), \"src/\", \"motor_cortex/data/data/\", \"**\", \"ecog*.csv\"), recursive=True)"
   ]
  },
  {
   "cell_type": "markdown",
   "id": "3c26f274",
   "metadata": {},
   "source": [
    "# Reading only the Left Wrist data and training to detect depending on the Left Wrist"
   ]
  },
  {
   "cell_type": "code",
   "execution_count": 4,
   "id": "4ded4913",
   "metadata": {},
   "outputs": [
    {
     "data": {
      "text/plain": [
       "['/home/linux-pc/gh/CRCNS/src/motor_cortex/data/data/Bilateral/2018-07-12_(S1)/motion_data.csv',\n",
       " '/home/linux-pc/gh/CRCNS/src/motor_cortex/data/data/Bilateral/2018-10-04_(S6)/motion_data.csv',\n",
       " '/home/linux-pc/gh/CRCNS/src/motor_cortex/data/data/Bilateral/2018-09-27_(S5)/motion_data.csv',\n",
       " '/home/linux-pc/gh/CRCNS/src/motor_cortex/data/data/Bilateral/2018-07-19_(S2)/motion_data.csv',\n",
       " '/home/linux-pc/gh/CRCNS/src/motor_cortex/data/data/Bilateral/2018-08-14_(S4)/motion_data.csv',\n",
       " '/home/linux-pc/gh/CRCNS/src/motor_cortex/data/data/Bilateral/2018-07-26_(S3)/motion_data.csv',\n",
       " '/home/linux-pc/gh/CRCNS/src/motor_cortex/data/data/Ipsilateral/2018-05-10_(S7)/motion_data.csv',\n",
       " '/home/linux-pc/gh/CRCNS/src/motor_cortex/data/data/Ipsilateral/2018-05-24_(S10)/motion_data.csv',\n",
       " '/home/linux-pc/gh/CRCNS/src/motor_cortex/data/data/Ipsilateral/2018-04-29_(S1)/motion_data.csv',\n",
       " '/home/linux-pc/gh/CRCNS/src/motor_cortex/data/data/Ipsilateral/2018-05-06_(S6)/motion_data.csv',\n",
       " '/home/linux-pc/gh/CRCNS/src/motor_cortex/data/data/Ipsilateral/2018-05-03_(S5)/motion_data.csv',\n",
       " '/home/linux-pc/gh/CRCNS/src/motor_cortex/data/data/Ipsilateral/2018-05-03_(S3)/motion_data.csv',\n",
       " '/home/linux-pc/gh/CRCNS/src/motor_cortex/data/data/Ipsilateral/2018-05-03_(S4)/motion_data.csv',\n",
       " '/home/linux-pc/gh/CRCNS/src/motor_cortex/data/data/Ipsilateral/2018-05-10_(S8)/motion_data.csv',\n",
       " '/home/linux-pc/gh/CRCNS/src/motor_cortex/data/data/Ipsilateral/2018-05-17_(S9)/motion_data.csv',\n",
       " '/home/linux-pc/gh/CRCNS/src/motor_cortex/data/data/Ipsilateral/2018-04-29_(S2)/motion_data.csv',\n",
       " '/home/linux-pc/gh/CRCNS/src/motor_cortex/data/data/Contralateral/2018-03-15_(S1)/motion_data.csv',\n",
       " '/home/linux-pc/gh/CRCNS/src/motor_cortex/data/data/Contralateral/2018-04-12_(S3)/motion_data.csv',\n",
       " '/home/linux-pc/gh/CRCNS/src/motor_cortex/data/data/Contralateral/2018-04-08_(S2)/motion_data.csv',\n",
       " '/home/linux-pc/gh/CRCNS/src/motor_cortex/data/data/Contralateral/2018-04-22_(S7)/motion_data.csv',\n",
       " '/home/linux-pc/gh/CRCNS/src/motor_cortex/data/data/Contralateral/2018-04-12_(S4)/motion_data.csv',\n",
       " '/home/linux-pc/gh/CRCNS/src/motor_cortex/data/data/Contralateral/2018-04-22_(S9)/motion_data.csv',\n",
       " '/home/linux-pc/gh/CRCNS/src/motor_cortex/data/data/Contralateral/2018-04-12_(S5)/motion_data.csv',\n",
       " '/home/linux-pc/gh/CRCNS/src/motor_cortex/data/data/Contralateral/2018-04-22_(S8)/motion_data.csv',\n",
       " '/home/linux-pc/gh/CRCNS/src/motor_cortex/data/data/Contralateral/2018-05-31_(S10)/motion_data.csv',\n",
       " '/home/linux-pc/gh/CRCNS/src/motor_cortex/data/data/Contralateral/2018-04-15_(S6)/motion_data.csv']"
      ]
     },
     "execution_count": 4,
     "metadata": {},
     "output_type": "execute_result"
    }
   ],
   "source": [
    "motion_data_file_l"
   ]
  },
  {
   "cell_type": "code",
   "execution_count": 5,
   "id": "a3490a99",
   "metadata": {},
   "outputs": [
    {
     "data": {
      "text/plain": [
       "'/home/linux-pc/gh/CRCNS/src/motor_cortex/data/data/Bilateral/2018-07-12_(S1)/motion_data.csv'"
      ]
     },
     "execution_count": 5,
     "metadata": {},
     "output_type": "execute_result"
    }
   ],
   "source": [
    "motion_data_file_l[0]"
   ]
  },
  {
   "cell_type": "code",
   "execution_count": 6,
   "id": "5fe4bdef",
   "metadata": {},
   "outputs": [
    {
     "data": {
      "text/plain": [
       "'/home/linux-pc/gh/CRCNS/src/motor_cortex/data/data/Ipsilateral/2018-05-10_(S7)/motion_data.csv'"
      ]
     },
     "execution_count": 6,
     "metadata": {},
     "output_type": "execute_result"
    }
   ],
   "source": [
    "motion_data_file_l[6]"
   ]
  },
  {
   "cell_type": "code",
   "execution_count": 7,
   "id": "9ed4c084",
   "metadata": {},
   "outputs": [
    {
     "data": {
      "text/plain": [
       "'/home/linux-pc/gh/CRCNS/src/motor_cortex/data/data/Contralateral/2018-03-15_(S1)/motion_data.csv'"
      ]
     },
     "execution_count": 7,
     "metadata": {},
     "output_type": "execute_result"
    }
   ],
   "source": [
    "motion_data_file_l[16]"
   ]
  },
  {
   "cell_type": "code",
   "execution_count": 8,
   "id": "0ef8451a",
   "metadata": {},
   "outputs": [
    {
     "data": {
      "text/plain": [
       "'/home/linux-pc/gh/CRCNS/src/motor_cortex/data/data/Bilateral/2018-07-12_(S1)/ecog_data.csv'"
      ]
     },
     "execution_count": 8,
     "metadata": {},
     "output_type": "execute_result"
    }
   ],
   "source": [
    "ecog_data_file_l[0]"
   ]
  },
  {
   "cell_type": "code",
   "execution_count": 9,
   "id": "398affbd",
   "metadata": {},
   "outputs": [
    {
     "data": {
      "text/plain": [
       "'/home/linux-pc/gh/CRCNS/src/motor_cortex/data/data/Ipsilateral/2018-05-10_(S7)/ecog_data.csv'"
      ]
     },
     "execution_count": 9,
     "metadata": {},
     "output_type": "execute_result"
    }
   ],
   "source": [
    "ecog_data_file_l[6]"
   ]
  },
  {
   "cell_type": "code",
   "execution_count": 10,
   "id": "d4ef6433",
   "metadata": {},
   "outputs": [
    {
     "data": {
      "text/plain": [
       "'/home/linux-pc/gh/CRCNS/src/motor_cortex/data/data/Contralateral/2018-03-15_(S1)/ecog_data.csv'"
      ]
     },
     "execution_count": 10,
     "metadata": {},
     "output_type": "execute_result"
    }
   ],
   "source": [
    "ecog_data_file_l[16]"
   ]
  },
  {
   "cell_type": "markdown",
   "id": "fc74d3e4",
   "metadata": {},
   "source": [
    "## Bilateral Data"
   ]
  },
  {
   "cell_type": "code",
   "execution_count": null,
   "id": "2ff3bfa1",
   "metadata": {},
   "outputs": [],
   "source": [
    "motion_data_file_l[0]"
   ]
  },
  {
   "cell_type": "code",
   "execution_count": null,
   "id": "907f36ad",
   "metadata": {},
   "outputs": [],
   "source": [
    "motion_data_file = motion_data_file_l[0]"
   ]
  },
  {
   "cell_type": "code",
   "execution_count": null,
   "id": "c3a5a011",
   "metadata": {},
   "outputs": [],
   "source": [
    "ecog_data_file = ecog_data_file_l[0]"
   ]
  },
  {
   "cell_type": "code",
   "execution_count": null,
   "id": "c07bc434",
   "metadata": {},
   "outputs": [],
   "source": [
    "motion_data_file"
   ]
  },
  {
   "cell_type": "code",
   "execution_count": null,
   "id": "6cfec741",
   "metadata": {},
   "outputs": [],
   "source": [
    "ecog_data_file"
   ]
  },
  {
   "cell_type": "code",
   "execution_count": null,
   "id": "12b3a041",
   "metadata": {},
   "outputs": [],
   "source": [
    "motion_data_bilateral_2018_07_12_S1 = pd.read_csv(motion_data_file)"
   ]
  },
  {
   "cell_type": "code",
   "execution_count": null,
   "id": "23d41fbe",
   "metadata": {},
   "outputs": [],
   "source": [
    "motion_data_bilateral_2018_07_12_S1[\"Motion_time\"]"
   ]
  },
  {
   "cell_type": "code",
   "execution_count": null,
   "id": "dafb318b",
   "metadata": {},
   "outputs": [],
   "source": [
    "ecog_data_bilateral_2018_07_12_S1 = pd.read_csv(ecog_data_file)\n",
    "channel_data = ecog_data_bilateral_2018_07_12_S1.columns[1:-1].values\n",
    "ecog_data_bilateral_2018_07_12_S1[channel_data].values"
   ]
  },
  {
   "cell_type": "code",
   "execution_count": null,
   "id": "9e4ad7e4",
   "metadata": {},
   "outputs": [],
   "source": [
    "ecog_data_bilateral_2018_07_12_S1[\"Time\"]"
   ]
  },
  {
   "cell_type": "code",
   "execution_count": null,
   "id": "4d811d58",
   "metadata": {},
   "outputs": [],
   "source": [
    "plt.plot(ecog_data_bilateral_2018_07_12_S1[\"Time\"], ecog_data_bilateral_2018_07_12_S1[channel_data].values)"
   ]
  },
  {
   "cell_type": "code",
   "execution_count": null,
   "id": "a5ef02ce",
   "metadata": {},
   "outputs": [],
   "source": [
    "ecog_channels = ecog_data_bilateral_2018_07_12_S1.columns[1:-1]"
   ]
  },
  {
   "cell_type": "code",
   "execution_count": null,
   "id": "7c7fda74",
   "metadata": {},
   "outputs": [],
   "source": [
    "ecog_data_bilateral_2018_07_12_S1[ecog_channels].values"
   ]
  },
  {
   "cell_type": "code",
   "execution_count": null,
   "id": "806049ef",
   "metadata": {},
   "outputs": [],
   "source": [
    "motion_data_bilateral_2018_07_12_S1_left_wrist = motion_data_bilateral_2018_07_12_S1[motion_data_bilateral_2018_07_12_S1.columns[1:4]]"
   ]
  },
  {
   "cell_type": "code",
   "execution_count": null,
   "id": "e925d624",
   "metadata": {},
   "outputs": [],
   "source": [
    "motion_data_bilateral_2018_07_12_S1_left_wrist"
   ]
  },
  {
   "cell_type": "code",
   "execution_count": null,
   "id": "b5a05342",
   "metadata": {},
   "outputs": [],
   "source": [
    "motion_data_bilateral_2018_07_12_S1_left_wrist"
   ]
  },
  {
   "cell_type": "code",
   "execution_count": null,
   "id": "ec8b2f1e",
   "metadata": {},
   "outputs": [],
   "source": [
    "ecog_data_bilateral_2018_07_12_S1[channel_data]"
   ]
  },
  {
   "cell_type": "code",
   "execution_count": null,
   "id": "da53d06f",
   "metadata": {},
   "outputs": [],
   "source": [
    "del ecog_data_bilateral_2018_07_12_S1"
   ]
  },
  {
   "cell_type": "markdown",
   "id": "59e491bb",
   "metadata": {},
   "source": [
    "## Ipsilateral Data (Right Wrist)"
   ]
  },
  {
   "cell_type": "code",
   "execution_count": 11,
   "id": "f053f0e2",
   "metadata": {},
   "outputs": [],
   "source": [
    "ecog_data_ipsilateral = pd.read_csv(ecog_data_file_l[6])"
   ]
  },
  {
   "cell_type": "code",
   "execution_count": 12,
   "id": "04782965",
   "metadata": {},
   "outputs": [],
   "source": [
    "ecog_data_ipsilateral_channel_only = ecog_data_ipsilateral[ecog_data_ipsilateral.columns[1:-1]]"
   ]
  },
  {
   "cell_type": "code",
   "execution_count": 13,
   "id": "c1a1eed4",
   "metadata": {},
   "outputs": [
    {
     "data": {
      "text/html": [
       "<div>\n",
       "<style scoped>\n",
       "    .dataframe tbody tr th:only-of-type {\n",
       "        vertical-align: middle;\n",
       "    }\n",
       "\n",
       "    .dataframe tbody tr th {\n",
       "        vertical-align: top;\n",
       "    }\n",
       "\n",
       "    .dataframe thead th {\n",
       "        text-align: right;\n",
       "    }\n",
       "</style>\n",
       "<table border=\"1\" class=\"dataframe\">\n",
       "  <thead>\n",
       "    <tr style=\"text-align: right;\">\n",
       "      <th></th>\n",
       "      <th>Channel 1</th>\n",
       "      <th>Channel 2</th>\n",
       "      <th>Channel 3</th>\n",
       "      <th>Channel 4</th>\n",
       "      <th>Channel 5</th>\n",
       "      <th>Channel 6</th>\n",
       "      <th>Channel 7</th>\n",
       "      <th>Channel 8</th>\n",
       "      <th>Channel 9</th>\n",
       "      <th>Channel 10</th>\n",
       "      <th>...</th>\n",
       "      <th>Channel 55</th>\n",
       "      <th>Channel 56</th>\n",
       "      <th>Channel 57</th>\n",
       "      <th>Channel 58</th>\n",
       "      <th>Channel 59</th>\n",
       "      <th>Channel 60</th>\n",
       "      <th>Channel 61</th>\n",
       "      <th>Channel 62</th>\n",
       "      <th>Channel 63</th>\n",
       "      <th>Channel 64</th>\n",
       "    </tr>\n",
       "  </thead>\n",
       "  <tbody>\n",
       "    <tr>\n",
       "      <th>0</th>\n",
       "      <td>-57.40</td>\n",
       "      <td>-150.63</td>\n",
       "      <td>-365.63</td>\n",
       "      <td>201.56</td>\n",
       "      <td>-0.63</td>\n",
       "      <td>-185.73</td>\n",
       "      <td>193.33</td>\n",
       "      <td>144.38</td>\n",
       "      <td>-116.25</td>\n",
       "      <td>-350.94</td>\n",
       "      <td>...</td>\n",
       "      <td>160.42</td>\n",
       "      <td>53.44</td>\n",
       "      <td>138.44</td>\n",
       "      <td>264.90</td>\n",
       "      <td>138.44</td>\n",
       "      <td>31.35</td>\n",
       "      <td>60.73</td>\n",
       "      <td>392.60</td>\n",
       "      <td>102.81</td>\n",
       "      <td>218.13</td>\n",
       "    </tr>\n",
       "    <tr>\n",
       "      <th>1</th>\n",
       "      <td>-111.56</td>\n",
       "      <td>-309.17</td>\n",
       "      <td>-438.23</td>\n",
       "      <td>12.60</td>\n",
       "      <td>-115.83</td>\n",
       "      <td>-290.83</td>\n",
       "      <td>49.79</td>\n",
       "      <td>-40.83</td>\n",
       "      <td>-198.65</td>\n",
       "      <td>-474.17</td>\n",
       "      <td>...</td>\n",
       "      <td>149.17</td>\n",
       "      <td>15.73</td>\n",
       "      <td>141.77</td>\n",
       "      <td>177.08</td>\n",
       "      <td>98.33</td>\n",
       "      <td>-4.69</td>\n",
       "      <td>21.77</td>\n",
       "      <td>352.60</td>\n",
       "      <td>60.73</td>\n",
       "      <td>112.50</td>\n",
       "    </tr>\n",
       "    <tr>\n",
       "      <th>2</th>\n",
       "      <td>-98.54</td>\n",
       "      <td>-358.33</td>\n",
       "      <td>-509.06</td>\n",
       "      <td>-35.00</td>\n",
       "      <td>-68.65</td>\n",
       "      <td>-333.23</td>\n",
       "      <td>-20.42</td>\n",
       "      <td>-84.90</td>\n",
       "      <td>-218.23</td>\n",
       "      <td>-423.65</td>\n",
       "      <td>...</td>\n",
       "      <td>65.73</td>\n",
       "      <td>1.46</td>\n",
       "      <td>116.35</td>\n",
       "      <td>151.88</td>\n",
       "      <td>77.60</td>\n",
       "      <td>25.52</td>\n",
       "      <td>-60.63</td>\n",
       "      <td>334.06</td>\n",
       "      <td>-22.08</td>\n",
       "      <td>72.60</td>\n",
       "    </tr>\n",
       "    <tr>\n",
       "      <th>3</th>\n",
       "      <td>-50.21</td>\n",
       "      <td>-389.06</td>\n",
       "      <td>-505.73</td>\n",
       "      <td>-91.46</td>\n",
       "      <td>-66.98</td>\n",
       "      <td>-299.90</td>\n",
       "      <td>-47.40</td>\n",
       "      <td>-148.23</td>\n",
       "      <td>-295.21</td>\n",
       "      <td>-392.08</td>\n",
       "      <td>...</td>\n",
       "      <td>-6.77</td>\n",
       "      <td>-7.50</td>\n",
       "      <td>37.81</td>\n",
       "      <td>44.06</td>\n",
       "      <td>1.77</td>\n",
       "      <td>38.13</td>\n",
       "      <td>-65.73</td>\n",
       "      <td>302.19</td>\n",
       "      <td>-106.46</td>\n",
       "      <td>36.25</td>\n",
       "    </tr>\n",
       "    <tr>\n",
       "      <th>4</th>\n",
       "      <td>-170.73</td>\n",
       "      <td>-483.02</td>\n",
       "      <td>-521.04</td>\n",
       "      <td>-164.27</td>\n",
       "      <td>-110.10</td>\n",
       "      <td>-337.60</td>\n",
       "      <td>-107.81</td>\n",
       "      <td>-243.85</td>\n",
       "      <td>-248.54</td>\n",
       "      <td>-432.81</td>\n",
       "      <td>...</td>\n",
       "      <td>-50.52</td>\n",
       "      <td>-91.46</td>\n",
       "      <td>7.81</td>\n",
       "      <td>-13.54</td>\n",
       "      <td>-48.65</td>\n",
       "      <td>-10.94</td>\n",
       "      <td>-128.02</td>\n",
       "      <td>203.02</td>\n",
       "      <td>-149.48</td>\n",
       "      <td>-16.15</td>\n",
       "    </tr>\n",
       "    <tr>\n",
       "      <th>...</th>\n",
       "      <td>...</td>\n",
       "      <td>...</td>\n",
       "      <td>...</td>\n",
       "      <td>...</td>\n",
       "      <td>...</td>\n",
       "      <td>...</td>\n",
       "      <td>...</td>\n",
       "      <td>...</td>\n",
       "      <td>...</td>\n",
       "      <td>...</td>\n",
       "      <td>...</td>\n",
       "      <td>...</td>\n",
       "      <td>...</td>\n",
       "      <td>...</td>\n",
       "      <td>...</td>\n",
       "      <td>...</td>\n",
       "      <td>...</td>\n",
       "      <td>...</td>\n",
       "      <td>...</td>\n",
       "      <td>...</td>\n",
       "      <td>...</td>\n",
       "    </tr>\n",
       "    <tr>\n",
       "      <th>939693</th>\n",
       "      <td>1662.60</td>\n",
       "      <td>2705.94</td>\n",
       "      <td>2607.71</td>\n",
       "      <td>2160.10</td>\n",
       "      <td>1632.08</td>\n",
       "      <td>2062.71</td>\n",
       "      <td>2649.58</td>\n",
       "      <td>2356.56</td>\n",
       "      <td>2105.83</td>\n",
       "      <td>2160.10</td>\n",
       "      <td>...</td>\n",
       "      <td>317.81</td>\n",
       "      <td>269.17</td>\n",
       "      <td>220.00</td>\n",
       "      <td>519.27</td>\n",
       "      <td>318.13</td>\n",
       "      <td>-53.13</td>\n",
       "      <td>472.08</td>\n",
       "      <td>347.81</td>\n",
       "      <td>850.21</td>\n",
       "      <td>386.56</td>\n",
       "    </tr>\n",
       "    <tr>\n",
       "      <th>939694</th>\n",
       "      <td>2086.04</td>\n",
       "      <td>3413.23</td>\n",
       "      <td>3413.23</td>\n",
       "      <td>2701.98</td>\n",
       "      <td>1893.23</td>\n",
       "      <td>2528.96</td>\n",
       "      <td>3413.23</td>\n",
       "      <td>3218.02</td>\n",
       "      <td>2623.13</td>\n",
       "      <td>2848.33</td>\n",
       "      <td>...</td>\n",
       "      <td>636.35</td>\n",
       "      <td>549.58</td>\n",
       "      <td>665.21</td>\n",
       "      <td>930.42</td>\n",
       "      <td>638.02</td>\n",
       "      <td>-69.17</td>\n",
       "      <td>1000.63</td>\n",
       "      <td>608.02</td>\n",
       "      <td>1551.25</td>\n",
       "      <td>707.29</td>\n",
       "    </tr>\n",
       "    <tr>\n",
       "      <th>939695</th>\n",
       "      <td>1973.23</td>\n",
       "      <td>3413.23</td>\n",
       "      <td>3413.23</td>\n",
       "      <td>2788.33</td>\n",
       "      <td>1724.27</td>\n",
       "      <td>2439.17</td>\n",
       "      <td>3413.23</td>\n",
       "      <td>3389.79</td>\n",
       "      <td>2674.38</td>\n",
       "      <td>2990.21</td>\n",
       "      <td>...</td>\n",
       "      <td>810.10</td>\n",
       "      <td>739.69</td>\n",
       "      <td>848.33</td>\n",
       "      <td>1256.35</td>\n",
       "      <td>731.56</td>\n",
       "      <td>-84.90</td>\n",
       "      <td>1252.60</td>\n",
       "      <td>753.02</td>\n",
       "      <td>1966.15</td>\n",
       "      <td>897.40</td>\n",
       "    </tr>\n",
       "    <tr>\n",
       "      <th>939696</th>\n",
       "      <td>1495.21</td>\n",
       "      <td>2951.25</td>\n",
       "      <td>3046.88</td>\n",
       "      <td>2151.35</td>\n",
       "      <td>1133.44</td>\n",
       "      <td>1771.25</td>\n",
       "      <td>3413.23</td>\n",
       "      <td>2804.27</td>\n",
       "      <td>2056.25</td>\n",
       "      <td>2352.40</td>\n",
       "      <td>...</td>\n",
       "      <td>896.77</td>\n",
       "      <td>798.13</td>\n",
       "      <td>974.58</td>\n",
       "      <td>1311.56</td>\n",
       "      <td>805.10</td>\n",
       "      <td>22.81</td>\n",
       "      <td>1270.21</td>\n",
       "      <td>778.96</td>\n",
       "      <td>2010.42</td>\n",
       "      <td>976.77</td>\n",
       "    </tr>\n",
       "    <tr>\n",
       "      <th>939697</th>\n",
       "      <td>1205.42</td>\n",
       "      <td>2446.35</td>\n",
       "      <td>2597.40</td>\n",
       "      <td>1869.17</td>\n",
       "      <td>855.00</td>\n",
       "      <td>1299.27</td>\n",
       "      <td>3280.63</td>\n",
       "      <td>2324.79</td>\n",
       "      <td>1660.94</td>\n",
       "      <td>1882.29</td>\n",
       "      <td>...</td>\n",
       "      <td>746.25</td>\n",
       "      <td>627.19</td>\n",
       "      <td>774.06</td>\n",
       "      <td>1143.85</td>\n",
       "      <td>643.75</td>\n",
       "      <td>-104.58</td>\n",
       "      <td>1095.52</td>\n",
       "      <td>642.71</td>\n",
       "      <td>1829.79</td>\n",
       "      <td>750.73</td>\n",
       "    </tr>\n",
       "  </tbody>\n",
       "</table>\n",
       "<p>939698 rows × 64 columns</p>\n",
       "</div>"
      ],
      "text/plain": [
       "        Channel 1  Channel 2  Channel 3  Channel 4  Channel 5  Channel 6  \\\n",
       "0          -57.40    -150.63    -365.63     201.56      -0.63    -185.73   \n",
       "1         -111.56    -309.17    -438.23      12.60    -115.83    -290.83   \n",
       "2          -98.54    -358.33    -509.06     -35.00     -68.65    -333.23   \n",
       "3          -50.21    -389.06    -505.73     -91.46     -66.98    -299.90   \n",
       "4         -170.73    -483.02    -521.04    -164.27    -110.10    -337.60   \n",
       "...           ...        ...        ...        ...        ...        ...   \n",
       "939693    1662.60    2705.94    2607.71    2160.10    1632.08    2062.71   \n",
       "939694    2086.04    3413.23    3413.23    2701.98    1893.23    2528.96   \n",
       "939695    1973.23    3413.23    3413.23    2788.33    1724.27    2439.17   \n",
       "939696    1495.21    2951.25    3046.88    2151.35    1133.44    1771.25   \n",
       "939697    1205.42    2446.35    2597.40    1869.17     855.00    1299.27   \n",
       "\n",
       "        Channel 7  Channel 8  Channel 9  Channel 10  ...  Channel 55  \\\n",
       "0          193.33     144.38    -116.25     -350.94  ...      160.42   \n",
       "1           49.79     -40.83    -198.65     -474.17  ...      149.17   \n",
       "2          -20.42     -84.90    -218.23     -423.65  ...       65.73   \n",
       "3          -47.40    -148.23    -295.21     -392.08  ...       -6.77   \n",
       "4         -107.81    -243.85    -248.54     -432.81  ...      -50.52   \n",
       "...           ...        ...        ...         ...  ...         ...   \n",
       "939693    2649.58    2356.56    2105.83     2160.10  ...      317.81   \n",
       "939694    3413.23    3218.02    2623.13     2848.33  ...      636.35   \n",
       "939695    3413.23    3389.79    2674.38     2990.21  ...      810.10   \n",
       "939696    3413.23    2804.27    2056.25     2352.40  ...      896.77   \n",
       "939697    3280.63    2324.79    1660.94     1882.29  ...      746.25   \n",
       "\n",
       "        Channel 56  Channel 57  Channel 58  Channel 59  Channel 60  \\\n",
       "0            53.44      138.44      264.90      138.44       31.35   \n",
       "1            15.73      141.77      177.08       98.33       -4.69   \n",
       "2             1.46      116.35      151.88       77.60       25.52   \n",
       "3            -7.50       37.81       44.06        1.77       38.13   \n",
       "4           -91.46        7.81      -13.54      -48.65      -10.94   \n",
       "...            ...         ...         ...         ...         ...   \n",
       "939693      269.17      220.00      519.27      318.13      -53.13   \n",
       "939694      549.58      665.21      930.42      638.02      -69.17   \n",
       "939695      739.69      848.33     1256.35      731.56      -84.90   \n",
       "939696      798.13      974.58     1311.56      805.10       22.81   \n",
       "939697      627.19      774.06     1143.85      643.75     -104.58   \n",
       "\n",
       "        Channel 61  Channel 62  Channel 63  Channel 64  \n",
       "0            60.73      392.60      102.81      218.13  \n",
       "1            21.77      352.60       60.73      112.50  \n",
       "2           -60.63      334.06      -22.08       72.60  \n",
       "3           -65.73      302.19     -106.46       36.25  \n",
       "4          -128.02      203.02     -149.48      -16.15  \n",
       "...            ...         ...         ...         ...  \n",
       "939693      472.08      347.81      850.21      386.56  \n",
       "939694     1000.63      608.02     1551.25      707.29  \n",
       "939695     1252.60      753.02     1966.15      897.40  \n",
       "939696     1270.21      778.96     2010.42      976.77  \n",
       "939697     1095.52      642.71     1829.79      750.73  \n",
       "\n",
       "[939698 rows x 64 columns]"
      ]
     },
     "execution_count": 13,
     "metadata": {},
     "output_type": "execute_result"
    }
   ],
   "source": [
    "ecog_data_ipsilateral_channel_only"
   ]
  },
  {
   "cell_type": "code",
   "execution_count": 14,
   "id": "ecbf0bf6",
   "metadata": {},
   "outputs": [],
   "source": [
    "motions_data_ipsilateral = pd.read_csv(motion_data_file_l[6])"
   ]
  },
  {
   "cell_type": "code",
   "execution_count": 15,
   "id": "49463851",
   "metadata": {},
   "outputs": [
    {
     "data": {
      "text/html": [
       "<div>\n",
       "<style scoped>\n",
       "    .dataframe tbody tr th:only-of-type {\n",
       "        vertical-align: middle;\n",
       "    }\n",
       "\n",
       "    .dataframe tbody tr th {\n",
       "        vertical-align: top;\n",
       "    }\n",
       "\n",
       "    .dataframe thead th {\n",
       "        text-align: right;\n",
       "    }\n",
       "</style>\n",
       "<table border=\"1\" class=\"dataframe\">\n",
       "  <thead>\n",
       "    <tr style=\"text-align: right;\">\n",
       "      <th></th>\n",
       "      <th>Fsm</th>\n",
       "      <th>Motion_time</th>\n",
       "      <th>Right_Wrist_X</th>\n",
       "      <th>Right_Wrist_Y</th>\n",
       "      <th>Right_Wrist_Z</th>\n",
       "    </tr>\n",
       "  </thead>\n",
       "  <tbody>\n",
       "    <tr>\n",
       "      <th>0</th>\n",
       "      <td>50</td>\n",
       "      <td>0.000</td>\n",
       "      <td>-0.381382</td>\n",
       "      <td>0.572019</td>\n",
       "      <td>-0.300483</td>\n",
       "    </tr>\n",
       "    <tr>\n",
       "      <th>1</th>\n",
       "      <td>50</td>\n",
       "      <td>0.020</td>\n",
       "      <td>-0.382611</td>\n",
       "      <td>0.576180</td>\n",
       "      <td>-0.301025</td>\n",
       "    </tr>\n",
       "    <tr>\n",
       "      <th>2</th>\n",
       "      <td>50</td>\n",
       "      <td>0.040</td>\n",
       "      <td>-0.387695</td>\n",
       "      <td>0.585411</td>\n",
       "      <td>-0.300829</td>\n",
       "    </tr>\n",
       "    <tr>\n",
       "      <th>3</th>\n",
       "      <td>50</td>\n",
       "      <td>0.060</td>\n",
       "      <td>-0.388635</td>\n",
       "      <td>0.582860</td>\n",
       "      <td>-0.301047</td>\n",
       "    </tr>\n",
       "    <tr>\n",
       "      <th>4</th>\n",
       "      <td>50</td>\n",
       "      <td>0.080</td>\n",
       "      <td>-0.391379</td>\n",
       "      <td>0.589105</td>\n",
       "      <td>-0.300799</td>\n",
       "    </tr>\n",
       "    <tr>\n",
       "      <th>...</th>\n",
       "      <td>...</td>\n",
       "      <td>...</td>\n",
       "      <td>...</td>\n",
       "      <td>...</td>\n",
       "      <td>...</td>\n",
       "    </tr>\n",
       "    <tr>\n",
       "      <th>47272</th>\n",
       "      <td>50</td>\n",
       "      <td>945.803</td>\n",
       "      <td>-0.824160</td>\n",
       "      <td>0.799680</td>\n",
       "      <td>-0.304289</td>\n",
       "    </tr>\n",
       "    <tr>\n",
       "      <th>47273</th>\n",
       "      <td>50</td>\n",
       "      <td>945.823</td>\n",
       "      <td>-0.829425</td>\n",
       "      <td>0.804616</td>\n",
       "      <td>-0.304512</td>\n",
       "    </tr>\n",
       "    <tr>\n",
       "      <th>47274</th>\n",
       "      <td>50</td>\n",
       "      <td>945.843</td>\n",
       "      <td>-0.829667</td>\n",
       "      <td>0.804960</td>\n",
       "      <td>-0.304857</td>\n",
       "    </tr>\n",
       "    <tr>\n",
       "      <th>47275</th>\n",
       "      <td>50</td>\n",
       "      <td>945.862</td>\n",
       "      <td>-0.834612</td>\n",
       "      <td>0.807464</td>\n",
       "      <td>-0.305252</td>\n",
       "    </tr>\n",
       "    <tr>\n",
       "      <th>47276</th>\n",
       "      <td>50</td>\n",
       "      <td>945.887</td>\n",
       "      <td>-0.826550</td>\n",
       "      <td>0.802856</td>\n",
       "      <td>-0.304969</td>\n",
       "    </tr>\n",
       "  </tbody>\n",
       "</table>\n",
       "<p>47277 rows × 5 columns</p>\n",
       "</div>"
      ],
      "text/plain": [
       "       Fsm  Motion_time  Right_Wrist_X  Right_Wrist_Y  Right_Wrist_Z\n",
       "0       50        0.000      -0.381382       0.572019      -0.300483\n",
       "1       50        0.020      -0.382611       0.576180      -0.301025\n",
       "2       50        0.040      -0.387695       0.585411      -0.300829\n",
       "3       50        0.060      -0.388635       0.582860      -0.301047\n",
       "4       50        0.080      -0.391379       0.589105      -0.300799\n",
       "...    ...          ...            ...            ...            ...\n",
       "47272   50      945.803      -0.824160       0.799680      -0.304289\n",
       "47273   50      945.823      -0.829425       0.804616      -0.304512\n",
       "47274   50      945.843      -0.829667       0.804960      -0.304857\n",
       "47275   50      945.862      -0.834612       0.807464      -0.305252\n",
       "47276   50      945.887      -0.826550       0.802856      -0.304969\n",
       "\n",
       "[47277 rows x 5 columns]"
      ]
     },
     "execution_count": 15,
     "metadata": {},
     "output_type": "execute_result"
    }
   ],
   "source": [
    "motions_data_ipsilateral"
   ]
  },
  {
   "cell_type": "code",
   "execution_count": 16,
   "id": "7dd26550",
   "metadata": {},
   "outputs": [
    {
     "data": {
      "text/html": [
       "<div>\n",
       "<style scoped>\n",
       "    .dataframe tbody tr th:only-of-type {\n",
       "        vertical-align: middle;\n",
       "    }\n",
       "\n",
       "    .dataframe tbody tr th {\n",
       "        vertical-align: top;\n",
       "    }\n",
       "\n",
       "    .dataframe thead th {\n",
       "        text-align: right;\n",
       "    }\n",
       "</style>\n",
       "<table border=\"1\" class=\"dataframe\">\n",
       "  <thead>\n",
       "    <tr style=\"text-align: right;\">\n",
       "      <th></th>\n",
       "      <th>Channel 1</th>\n",
       "      <th>Channel 2</th>\n",
       "      <th>Channel 3</th>\n",
       "      <th>Channel 4</th>\n",
       "      <th>Channel 5</th>\n",
       "      <th>Channel 6</th>\n",
       "      <th>Channel 7</th>\n",
       "      <th>Channel 8</th>\n",
       "      <th>Channel 9</th>\n",
       "      <th>Channel 10</th>\n",
       "      <th>...</th>\n",
       "      <th>Channel 55</th>\n",
       "      <th>Channel 56</th>\n",
       "      <th>Channel 57</th>\n",
       "      <th>Channel 58</th>\n",
       "      <th>Channel 59</th>\n",
       "      <th>Channel 60</th>\n",
       "      <th>Channel 61</th>\n",
       "      <th>Channel 62</th>\n",
       "      <th>Channel 63</th>\n",
       "      <th>Channel 64</th>\n",
       "    </tr>\n",
       "  </thead>\n",
       "  <tbody>\n",
       "    <tr>\n",
       "      <th>0</th>\n",
       "      <td>-57.40</td>\n",
       "      <td>-150.63</td>\n",
       "      <td>-365.63</td>\n",
       "      <td>201.56</td>\n",
       "      <td>-0.63</td>\n",
       "      <td>-185.73</td>\n",
       "      <td>193.33</td>\n",
       "      <td>144.38</td>\n",
       "      <td>-116.25</td>\n",
       "      <td>-350.94</td>\n",
       "      <td>...</td>\n",
       "      <td>160.42</td>\n",
       "      <td>53.44</td>\n",
       "      <td>138.44</td>\n",
       "      <td>264.90</td>\n",
       "      <td>138.44</td>\n",
       "      <td>31.35</td>\n",
       "      <td>60.73</td>\n",
       "      <td>392.60</td>\n",
       "      <td>102.81</td>\n",
       "      <td>218.13</td>\n",
       "    </tr>\n",
       "    <tr>\n",
       "      <th>1</th>\n",
       "      <td>-111.56</td>\n",
       "      <td>-309.17</td>\n",
       "      <td>-438.23</td>\n",
       "      <td>12.60</td>\n",
       "      <td>-115.83</td>\n",
       "      <td>-290.83</td>\n",
       "      <td>49.79</td>\n",
       "      <td>-40.83</td>\n",
       "      <td>-198.65</td>\n",
       "      <td>-474.17</td>\n",
       "      <td>...</td>\n",
       "      <td>149.17</td>\n",
       "      <td>15.73</td>\n",
       "      <td>141.77</td>\n",
       "      <td>177.08</td>\n",
       "      <td>98.33</td>\n",
       "      <td>-4.69</td>\n",
       "      <td>21.77</td>\n",
       "      <td>352.60</td>\n",
       "      <td>60.73</td>\n",
       "      <td>112.50</td>\n",
       "    </tr>\n",
       "    <tr>\n",
       "      <th>2</th>\n",
       "      <td>-98.54</td>\n",
       "      <td>-358.33</td>\n",
       "      <td>-509.06</td>\n",
       "      <td>-35.00</td>\n",
       "      <td>-68.65</td>\n",
       "      <td>-333.23</td>\n",
       "      <td>-20.42</td>\n",
       "      <td>-84.90</td>\n",
       "      <td>-218.23</td>\n",
       "      <td>-423.65</td>\n",
       "      <td>...</td>\n",
       "      <td>65.73</td>\n",
       "      <td>1.46</td>\n",
       "      <td>116.35</td>\n",
       "      <td>151.88</td>\n",
       "      <td>77.60</td>\n",
       "      <td>25.52</td>\n",
       "      <td>-60.63</td>\n",
       "      <td>334.06</td>\n",
       "      <td>-22.08</td>\n",
       "      <td>72.60</td>\n",
       "    </tr>\n",
       "    <tr>\n",
       "      <th>3</th>\n",
       "      <td>-50.21</td>\n",
       "      <td>-389.06</td>\n",
       "      <td>-505.73</td>\n",
       "      <td>-91.46</td>\n",
       "      <td>-66.98</td>\n",
       "      <td>-299.90</td>\n",
       "      <td>-47.40</td>\n",
       "      <td>-148.23</td>\n",
       "      <td>-295.21</td>\n",
       "      <td>-392.08</td>\n",
       "      <td>...</td>\n",
       "      <td>-6.77</td>\n",
       "      <td>-7.50</td>\n",
       "      <td>37.81</td>\n",
       "      <td>44.06</td>\n",
       "      <td>1.77</td>\n",
       "      <td>38.13</td>\n",
       "      <td>-65.73</td>\n",
       "      <td>302.19</td>\n",
       "      <td>-106.46</td>\n",
       "      <td>36.25</td>\n",
       "    </tr>\n",
       "    <tr>\n",
       "      <th>4</th>\n",
       "      <td>-170.73</td>\n",
       "      <td>-483.02</td>\n",
       "      <td>-521.04</td>\n",
       "      <td>-164.27</td>\n",
       "      <td>-110.10</td>\n",
       "      <td>-337.60</td>\n",
       "      <td>-107.81</td>\n",
       "      <td>-243.85</td>\n",
       "      <td>-248.54</td>\n",
       "      <td>-432.81</td>\n",
       "      <td>...</td>\n",
       "      <td>-50.52</td>\n",
       "      <td>-91.46</td>\n",
       "      <td>7.81</td>\n",
       "      <td>-13.54</td>\n",
       "      <td>-48.65</td>\n",
       "      <td>-10.94</td>\n",
       "      <td>-128.02</td>\n",
       "      <td>203.02</td>\n",
       "      <td>-149.48</td>\n",
       "      <td>-16.15</td>\n",
       "    </tr>\n",
       "    <tr>\n",
       "      <th>...</th>\n",
       "      <td>...</td>\n",
       "      <td>...</td>\n",
       "      <td>...</td>\n",
       "      <td>...</td>\n",
       "      <td>...</td>\n",
       "      <td>...</td>\n",
       "      <td>...</td>\n",
       "      <td>...</td>\n",
       "      <td>...</td>\n",
       "      <td>...</td>\n",
       "      <td>...</td>\n",
       "      <td>...</td>\n",
       "      <td>...</td>\n",
       "      <td>...</td>\n",
       "      <td>...</td>\n",
       "      <td>...</td>\n",
       "      <td>...</td>\n",
       "      <td>...</td>\n",
       "      <td>...</td>\n",
       "      <td>...</td>\n",
       "      <td>...</td>\n",
       "    </tr>\n",
       "    <tr>\n",
       "      <th>939693</th>\n",
       "      <td>1662.60</td>\n",
       "      <td>2705.94</td>\n",
       "      <td>2607.71</td>\n",
       "      <td>2160.10</td>\n",
       "      <td>1632.08</td>\n",
       "      <td>2062.71</td>\n",
       "      <td>2649.58</td>\n",
       "      <td>2356.56</td>\n",
       "      <td>2105.83</td>\n",
       "      <td>2160.10</td>\n",
       "      <td>...</td>\n",
       "      <td>317.81</td>\n",
       "      <td>269.17</td>\n",
       "      <td>220.00</td>\n",
       "      <td>519.27</td>\n",
       "      <td>318.13</td>\n",
       "      <td>-53.13</td>\n",
       "      <td>472.08</td>\n",
       "      <td>347.81</td>\n",
       "      <td>850.21</td>\n",
       "      <td>386.56</td>\n",
       "    </tr>\n",
       "    <tr>\n",
       "      <th>939694</th>\n",
       "      <td>2086.04</td>\n",
       "      <td>3413.23</td>\n",
       "      <td>3413.23</td>\n",
       "      <td>2701.98</td>\n",
       "      <td>1893.23</td>\n",
       "      <td>2528.96</td>\n",
       "      <td>3413.23</td>\n",
       "      <td>3218.02</td>\n",
       "      <td>2623.13</td>\n",
       "      <td>2848.33</td>\n",
       "      <td>...</td>\n",
       "      <td>636.35</td>\n",
       "      <td>549.58</td>\n",
       "      <td>665.21</td>\n",
       "      <td>930.42</td>\n",
       "      <td>638.02</td>\n",
       "      <td>-69.17</td>\n",
       "      <td>1000.63</td>\n",
       "      <td>608.02</td>\n",
       "      <td>1551.25</td>\n",
       "      <td>707.29</td>\n",
       "    </tr>\n",
       "    <tr>\n",
       "      <th>939695</th>\n",
       "      <td>1973.23</td>\n",
       "      <td>3413.23</td>\n",
       "      <td>3413.23</td>\n",
       "      <td>2788.33</td>\n",
       "      <td>1724.27</td>\n",
       "      <td>2439.17</td>\n",
       "      <td>3413.23</td>\n",
       "      <td>3389.79</td>\n",
       "      <td>2674.38</td>\n",
       "      <td>2990.21</td>\n",
       "      <td>...</td>\n",
       "      <td>810.10</td>\n",
       "      <td>739.69</td>\n",
       "      <td>848.33</td>\n",
       "      <td>1256.35</td>\n",
       "      <td>731.56</td>\n",
       "      <td>-84.90</td>\n",
       "      <td>1252.60</td>\n",
       "      <td>753.02</td>\n",
       "      <td>1966.15</td>\n",
       "      <td>897.40</td>\n",
       "    </tr>\n",
       "    <tr>\n",
       "      <th>939696</th>\n",
       "      <td>1495.21</td>\n",
       "      <td>2951.25</td>\n",
       "      <td>3046.88</td>\n",
       "      <td>2151.35</td>\n",
       "      <td>1133.44</td>\n",
       "      <td>1771.25</td>\n",
       "      <td>3413.23</td>\n",
       "      <td>2804.27</td>\n",
       "      <td>2056.25</td>\n",
       "      <td>2352.40</td>\n",
       "      <td>...</td>\n",
       "      <td>896.77</td>\n",
       "      <td>798.13</td>\n",
       "      <td>974.58</td>\n",
       "      <td>1311.56</td>\n",
       "      <td>805.10</td>\n",
       "      <td>22.81</td>\n",
       "      <td>1270.21</td>\n",
       "      <td>778.96</td>\n",
       "      <td>2010.42</td>\n",
       "      <td>976.77</td>\n",
       "    </tr>\n",
       "    <tr>\n",
       "      <th>939697</th>\n",
       "      <td>1205.42</td>\n",
       "      <td>2446.35</td>\n",
       "      <td>2597.40</td>\n",
       "      <td>1869.17</td>\n",
       "      <td>855.00</td>\n",
       "      <td>1299.27</td>\n",
       "      <td>3280.63</td>\n",
       "      <td>2324.79</td>\n",
       "      <td>1660.94</td>\n",
       "      <td>1882.29</td>\n",
       "      <td>...</td>\n",
       "      <td>746.25</td>\n",
       "      <td>627.19</td>\n",
       "      <td>774.06</td>\n",
       "      <td>1143.85</td>\n",
       "      <td>643.75</td>\n",
       "      <td>-104.58</td>\n",
       "      <td>1095.52</td>\n",
       "      <td>642.71</td>\n",
       "      <td>1829.79</td>\n",
       "      <td>750.73</td>\n",
       "    </tr>\n",
       "  </tbody>\n",
       "</table>\n",
       "<p>939698 rows × 64 columns</p>\n",
       "</div>"
      ],
      "text/plain": [
       "        Channel 1  Channel 2  Channel 3  Channel 4  Channel 5  Channel 6  \\\n",
       "0          -57.40    -150.63    -365.63     201.56      -0.63    -185.73   \n",
       "1         -111.56    -309.17    -438.23      12.60    -115.83    -290.83   \n",
       "2          -98.54    -358.33    -509.06     -35.00     -68.65    -333.23   \n",
       "3          -50.21    -389.06    -505.73     -91.46     -66.98    -299.90   \n",
       "4         -170.73    -483.02    -521.04    -164.27    -110.10    -337.60   \n",
       "...           ...        ...        ...        ...        ...        ...   \n",
       "939693    1662.60    2705.94    2607.71    2160.10    1632.08    2062.71   \n",
       "939694    2086.04    3413.23    3413.23    2701.98    1893.23    2528.96   \n",
       "939695    1973.23    3413.23    3413.23    2788.33    1724.27    2439.17   \n",
       "939696    1495.21    2951.25    3046.88    2151.35    1133.44    1771.25   \n",
       "939697    1205.42    2446.35    2597.40    1869.17     855.00    1299.27   \n",
       "\n",
       "        Channel 7  Channel 8  Channel 9  Channel 10  ...  Channel 55  \\\n",
       "0          193.33     144.38    -116.25     -350.94  ...      160.42   \n",
       "1           49.79     -40.83    -198.65     -474.17  ...      149.17   \n",
       "2          -20.42     -84.90    -218.23     -423.65  ...       65.73   \n",
       "3          -47.40    -148.23    -295.21     -392.08  ...       -6.77   \n",
       "4         -107.81    -243.85    -248.54     -432.81  ...      -50.52   \n",
       "...           ...        ...        ...         ...  ...         ...   \n",
       "939693    2649.58    2356.56    2105.83     2160.10  ...      317.81   \n",
       "939694    3413.23    3218.02    2623.13     2848.33  ...      636.35   \n",
       "939695    3413.23    3389.79    2674.38     2990.21  ...      810.10   \n",
       "939696    3413.23    2804.27    2056.25     2352.40  ...      896.77   \n",
       "939697    3280.63    2324.79    1660.94     1882.29  ...      746.25   \n",
       "\n",
       "        Channel 56  Channel 57  Channel 58  Channel 59  Channel 60  \\\n",
       "0            53.44      138.44      264.90      138.44       31.35   \n",
       "1            15.73      141.77      177.08       98.33       -4.69   \n",
       "2             1.46      116.35      151.88       77.60       25.52   \n",
       "3            -7.50       37.81       44.06        1.77       38.13   \n",
       "4           -91.46        7.81      -13.54      -48.65      -10.94   \n",
       "...            ...         ...         ...         ...         ...   \n",
       "939693      269.17      220.00      519.27      318.13      -53.13   \n",
       "939694      549.58      665.21      930.42      638.02      -69.17   \n",
       "939695      739.69      848.33     1256.35      731.56      -84.90   \n",
       "939696      798.13      974.58     1311.56      805.10       22.81   \n",
       "939697      627.19      774.06     1143.85      643.75     -104.58   \n",
       "\n",
       "        Channel 61  Channel 62  Channel 63  Channel 64  \n",
       "0            60.73      392.60      102.81      218.13  \n",
       "1            21.77      352.60       60.73      112.50  \n",
       "2           -60.63      334.06      -22.08       72.60  \n",
       "3           -65.73      302.19     -106.46       36.25  \n",
       "4          -128.02      203.02     -149.48      -16.15  \n",
       "...            ...         ...         ...         ...  \n",
       "939693      472.08      347.81      850.21      386.56  \n",
       "939694     1000.63      608.02     1551.25      707.29  \n",
       "939695     1252.60      753.02     1966.15      897.40  \n",
       "939696     1270.21      778.96     2010.42      976.77  \n",
       "939697     1095.52      642.71     1829.79      750.73  \n",
       "\n",
       "[939698 rows x 64 columns]"
      ]
     },
     "execution_count": 16,
     "metadata": {},
     "output_type": "execute_result"
    }
   ],
   "source": [
    "ecog_data_ipsilateral_channel_only"
   ]
  },
  {
   "cell_type": "markdown",
   "id": "f14f3c96",
   "metadata": {},
   "source": [
    "### Creating a Pipeline to train the data"
   ]
  },
  {
   "cell_type": "code",
   "execution_count": 17,
   "id": "72b4a94f",
   "metadata": {},
   "outputs": [],
   "source": [
    "import numpy as np\n",
    "import torch\n",
    "from torch.utils.data import Dataset, DataLoader"
   ]
  },
  {
   "cell_type": "code",
   "execution_count": 18,
   "id": "086d6dac",
   "metadata": {},
   "outputs": [
    {
     "data": {
      "text/plain": [
       "939698"
      ]
     },
     "execution_count": 18,
     "metadata": {},
     "output_type": "execute_result"
    }
   ],
   "source": [
    "ecog_data_ipsilateral_channel_only.shape[0]"
   ]
  },
  {
   "cell_type": "code",
   "execution_count": 19,
   "id": "e891c01e",
   "metadata": {},
   "outputs": [],
   "source": [
    "motions_data_ipsilateral_values_only = motions_data_ipsilateral[motions_data_ipsilateral.columns[2:]]"
   ]
  },
  {
   "cell_type": "code",
   "execution_count": 20,
   "id": "40fd9120",
   "metadata": {},
   "outputs": [
    {
     "data": {
      "text/plain": [
       "47277"
      ]
     },
     "execution_count": 20,
     "metadata": {},
     "output_type": "execute_result"
    }
   ],
   "source": [
    "motions_data_ipsilateral_values_only.shape[0]"
   ]
  },
  {
   "cell_type": "code",
   "execution_count": 21,
   "id": "d0046cad",
   "metadata": {},
   "outputs": [],
   "source": [
    "# Constants\n",
    "ECOG_CHANNELS = 64\n",
    "WINDOW_SIZE = 20\n",
    "MOTION_DIMENSIONS = 3"
   ]
  },
  {
   "cell_type": "code",
   "execution_count": 22,
   "id": "940d146e",
   "metadata": {},
   "outputs": [],
   "source": [
    "ECOG_SAMPLES = ecog_data_ipsilateral_channel_only.shape[0]\n",
    "MOTION_SAMPLES = motions_data_ipsilateral_values_only.shape[0]"
   ]
  },
  {
   "cell_type": "code",
   "execution_count": 23,
   "id": "7a8cbedf",
   "metadata": {},
   "outputs": [],
   "source": [
    "ecog_data_ipsilateral_900 = ecog_data_ipsilateral[ecog_data_ipsilateral[\"Time\"] <= 900]"
   ]
  },
  {
   "cell_type": "code",
   "execution_count": 24,
   "id": "df734c90",
   "metadata": {},
   "outputs": [],
   "source": [
    "ecog_data_ipsilateral_900_channel_data = ecog_data_ipsilateral_900[ecog_data_ipsilateral_900.columns[1:-1]]"
   ]
  },
  {
   "cell_type": "code",
   "execution_count": 25,
   "id": "e1e625ef",
   "metadata": {},
   "outputs": [],
   "source": [
    "motions_data_ipsilateral_900 = motions_data_ipsilateral[motions_data_ipsilateral[\"Motion_time\"] <= 900]"
   ]
  },
  {
   "cell_type": "code",
   "execution_count": 26,
   "id": "b15a024e",
   "metadata": {},
   "outputs": [],
   "source": [
    "motions_data_ipsilateral_900_data_only = motions_data_ipsilateral_900[motions_data_ipsilateral_900.columns[2:]]"
   ]
  },
  {
   "cell_type": "code",
   "execution_count": 32,
   "id": "3da9a612",
   "metadata": {},
   "outputs": [],
   "source": [
    "MOTION_SAMPLES = motions_data_ipsilateral_900_data_only.shape[0]"
   ]
  },
  {
   "cell_type": "code",
   "execution_count": 33,
   "id": "42c6dbe2",
   "metadata": {},
   "outputs": [],
   "source": [
    "X = np.stack([ecog_data_ipsilateral_900_channel_data[i*WINDOW_SIZE:(i+1)*WINDOW_SIZE] for i in range(MOTION_SAMPLES)])"
   ]
  },
  {
   "cell_type": "code",
   "execution_count": null,
   "id": "1d5bb292",
   "metadata": {},
   "outputs": [],
   "source": []
  },
  {
   "cell_type": "code",
   "execution_count": null,
   "id": "6d3bdb49",
   "metadata": {},
   "outputs": [],
   "source": []
  }
 ],
 "metadata": {
  "kernelspec": {
   "display_name": "torch",
   "language": "python",
   "name": "python3"
  },
  "language_info": {
   "codemirror_mode": {
    "name": "ipython",
    "version": 3
   },
   "file_extension": ".py",
   "mimetype": "text/x-python",
   "name": "python",
   "nbconvert_exporter": "python",
   "pygments_lexer": "ipython3",
   "version": "3.10.16"
  }
 },
 "nbformat": 4,
 "nbformat_minor": 5
}
