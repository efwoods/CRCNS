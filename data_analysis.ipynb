{
 "cells": [
  {
   "cell_type": "code",
   "execution_count": 10,
   "id": "854f15c9",
   "metadata": {},
   "outputs": [],
   "source": [
    "import os\n",
    "import numpy as np\n",
    "import torch\n",
    "import pandas as pd\n",
    "from glob import glob\n",
    "from scipy.io import loadmat\n",
    "import matplotlib.pyplot as plt"
   ]
  },
  {
   "cell_type": "code",
   "execution_count": 11,
   "id": "283cc29d",
   "metadata": {},
   "outputs": [
    {
     "data": {
      "text/plain": [
       "'/home/linux-pc/gh/CRCNS/src/motor_cortex/data/'"
      ]
     },
     "execution_count": 11,
     "metadata": {},
     "output_type": "execute_result"
    }
   ],
   "source": [
    "os.path.join(os.getcwd(), \"src/\", \"motor_cortex/data/\")"
   ]
  },
  {
   "cell_type": "code",
   "execution_count": 13,
   "id": "23012be0",
   "metadata": {},
   "outputs": [
    {
     "data": {
      "text/plain": [
       "['/home/linux-pc/gh/CRCNS/src/motor_cortex/MATLAB/motion_data.csv',\n",
       " '/home/linux-pc/gh/CRCNS/src/motor_cortex/MATLAB/ecog_data.csv']"
      ]
     },
     "execution_count": 13,
     "metadata": {},
     "output_type": "execute_result"
    }
   ],
   "source": [
    "data_file_dir = os.path.join(os.getcwd(), \"src/\", \"motor_cortex/MATLAB/\")\n",
    "data_file_l = glob(os.path.join(data_file_dir, \"**\", \"*.csv\"), recursive=True)\n",
    "data_file_l"
   ]
  },
  {
   "cell_type": "code",
   "execution_count": 14,
   "id": "03e3be3e",
   "metadata": {},
   "outputs": [
    {
     "data": {
      "text/plain": [
       "['/home/linux-pc/gh/CRCNS/src/motor_cortex/MATLAB/motion_data.csv',\n",
       " '/home/linux-pc/gh/CRCNS/src/motor_cortex/MATLAB/ecog_data.csv']"
      ]
     },
     "execution_count": 14,
     "metadata": {},
     "output_type": "execute_result"
    }
   ],
   "source": [
    "data_file_l"
   ]
  },
  {
   "cell_type": "code",
   "execution_count": 20,
   "id": "526f45a1",
   "metadata": {},
   "outputs": [],
   "source": [
    "motion_data_file = data_file_l[0]"
   ]
  },
  {
   "cell_type": "code",
   "execution_count": 22,
   "id": "c3a5a011",
   "metadata": {},
   "outputs": [],
   "source": [
    "ecog_data_file = data_file_l[1]"
   ]
  },
  {
   "cell_type": "code",
   "execution_count": 17,
   "id": "c07bc434",
   "metadata": {},
   "outputs": [
    {
     "data": {
      "text/plain": [
       "'/home/linux-pc/gh/CRCNS/src/motor_cortex/MATLAB/motion_data.csv'"
      ]
     },
     "execution_count": 17,
     "metadata": {},
     "output_type": "execute_result"
    }
   ],
   "source": [
    "motion_data"
   ]
  },
  {
   "cell_type": "code",
   "execution_count": 18,
   "id": "6cfec741",
   "metadata": {},
   "outputs": [
    {
     "data": {
      "text/plain": [
       "'/home/linux-pc/gh/CRCNS/src/motor_cortex/MATLAB/ecog_data.csv'"
      ]
     },
     "execution_count": 18,
     "metadata": {},
     "output_type": "execute_result"
    }
   ],
   "source": [
    "ecog_data"
   ]
  },
  {
   "cell_type": "code",
   "execution_count": 28,
   "id": "12b3a041",
   "metadata": {},
   "outputs": [],
   "source": [
    "motion_data_bilateral_2018_07_12_S1 = pd.read_csv(motion_data_file)"
   ]
  },
  {
   "cell_type": "code",
   "execution_count": 31,
   "id": "23d41fbe",
   "metadata": {},
   "outputs": [
    {
     "data": {
      "text/plain": [
       "0           0.000\n",
       "1           0.024\n",
       "2           0.044\n",
       "3           0.062\n",
       "4           0.082\n",
       "           ...   \n",
       "51288    1026.151\n",
       "51289    1026.170\n",
       "51290    1026.191\n",
       "51291    1026.211\n",
       "51292    1026.241\n",
       "Name: Motion_time, Length: 51293, dtype: float64"
      ]
     },
     "execution_count": 31,
     "metadata": {},
     "output_type": "execute_result"
    }
   ],
   "source": [
    "motion_data_bilateral_2018_07_12_S1[\"Motion_time\"]"
   ]
  },
  {
   "cell_type": "code",
   "execution_count": 23,
   "id": "dafb318b",
   "metadata": {},
   "outputs": [
    {
     "data": {
      "text/plain": [
       "array([[ 548.44,  445.42,  398.44, ...,  406.98,  382.4 ,  754.9 ],\n",
       "       [ 469.38,  417.6 ,  299.79, ...,  245.42,  405.31,  654.38],\n",
       "       [ 321.88,  202.92,  220.83, ...,   97.4 ,  346.46,  533.23],\n",
       "       ...,\n",
       "       [-298.85,  -66.67,  116.15, ..., -176.35,  -57.81,  -28.02],\n",
       "       [-389.06,  -96.04,  127.29, ..., -180.  ,  -88.54,  -81.25],\n",
       "       [-288.85,   32.4 ,  161.15, ..., -138.65, -104.17, -129.58]],\n",
       "      shape=(1024398, 64))"
      ]
     },
     "execution_count": 23,
     "metadata": {},
     "output_type": "execute_result"
    }
   ],
   "source": [
    "ecog_data_bilateral_2018_07_12_S1 = pd.read_csv(ecog_data_file)\n",
    "channel_data = ecog_data_bilateral_2018_07_12_S1.columns[1:-1].values\n",
    "ecog_data_bilateral_2018_07_12_S1[channel_data].values"
   ]
  },
  {
   "cell_type": "code",
   "execution_count": 26,
   "id": "9e4ad7e4",
   "metadata": {},
   "outputs": [
    {
     "data": {
      "text/plain": [
       "0             0.000\n",
       "1             0.001\n",
       "2             0.002\n",
       "3             0.003\n",
       "4             0.004\n",
       "             ...   \n",
       "1024393    1024.393\n",
       "1024394    1024.394\n",
       "1024395    1024.395\n",
       "1024396    1024.396\n",
       "1024397    1024.397\n",
       "Name: Time, Length: 1024398, dtype: float64"
      ]
     },
     "execution_count": 26,
     "metadata": {},
     "output_type": "execute_result"
    }
   ],
   "source": [
    "ecog_data_bilateral_2018_07_12_S1[\"Time\"]"
   ]
  },
  {
   "cell_type": "code",
   "execution_count": 27,
   "id": "c857e6dc",
   "metadata": {},
   "outputs": [
    {
     "data": {
      "text/plain": [
       "0           0.000\n",
       "1           0.024\n",
       "2           0.044\n",
       "3           0.062\n",
       "4           0.082\n",
       "           ...   \n",
       "51288    1026.151\n",
       "51289    1026.170\n",
       "51290    1026.191\n",
       "51291    1026.211\n",
       "51292    1026.241\n",
       "Name: Motion_time, Length: 51293, dtype: float64"
      ]
     },
     "execution_count": 27,
     "metadata": {},
     "output_type": "execute_result"
    }
   ],
   "source": [
    "motion_data[\"Motion_time\"]"
   ]
  },
  {
   "cell_type": "code",
   "execution_count": 25,
   "id": "50e8adcc",
   "metadata": {},
   "outputs": [
    {
     "data": {
      "text/plain": [
       "19.971497085372274"
      ]
     },
     "execution_count": 25,
     "metadata": {},
     "output_type": "execute_result"
    }
   ],
   "source": [
    "1024398 / 51293"
   ]
  },
  {
   "cell_type": "code",
   "execution_count": null,
   "id": "4d811d58",
   "metadata": {},
   "outputs": [
    {
     "data": {
      "text/plain": [
       "[<matplotlib.lines.Line2D at 0x7c3310063dc0>,\n",
       " <matplotlib.lines.Line2D at 0x7c3310063d60>,\n",
       " <matplotlib.lines.Line2D at 0x7c33100621a0>,\n",
       " <matplotlib.lines.Line2D at 0x7c33100620b0>,\n",
       " <matplotlib.lines.Line2D at 0x7c331003ca60>,\n",
       " <matplotlib.lines.Line2D at 0x7c331003c1f0>,\n",
       " <matplotlib.lines.Line2D at 0x7c331003d210>,\n",
       " <matplotlib.lines.Line2D at 0x7c331003cfd0>,\n",
       " <matplotlib.lines.Line2D at 0x7c331003db10>,\n",
       " <matplotlib.lines.Line2D at 0x7c331003dba0>,\n",
       " <matplotlib.lines.Line2D at 0x7c331003e260>,\n",
       " <matplotlib.lines.Line2D at 0x7c331003e1a0>,\n",
       " <matplotlib.lines.Line2D at 0x7c331003e890>,\n",
       " <matplotlib.lines.Line2D at 0x7c331003eda0>,\n",
       " <matplotlib.lines.Line2D at 0x7c331003df00>,\n",
       " <matplotlib.lines.Line2D at 0x7c331003f4f0>,\n",
       " <matplotlib.lines.Line2D at 0x7c331003d7b0>,\n",
       " <matplotlib.lines.Line2D at 0x7c331003f970>,\n",
       " <matplotlib.lines.Line2D at 0x7c331003fcd0>,\n",
       " <matplotlib.lines.Line2D at 0x7c331003fd30>,\n",
       " <matplotlib.lines.Line2D at 0x7c331003fb20>,\n",
       " <matplotlib.lines.Line2D at 0x7c331003f130>,\n",
       " <matplotlib.lines.Line2D at 0x7c331003ec50>,\n",
       " <matplotlib.lines.Line2D at 0x7c331003df60>,\n",
       " <matplotlib.lines.Line2D at 0x7c331003e440>,\n",
       " <matplotlib.lines.Line2D at 0x7c331003fa90>,\n",
       " <matplotlib.lines.Line2D at 0x7c331003d7e0>,\n",
       " <matplotlib.lines.Line2D at 0x7c331003d900>,\n",
       " <matplotlib.lines.Line2D at 0x7c331003cc10>,\n",
       " <matplotlib.lines.Line2D at 0x7c331003c610>,\n",
       " <matplotlib.lines.Line2D at 0x7c331003c730>,\n",
       " <matplotlib.lines.Line2D at 0x7c331003cd90>,\n",
       " <matplotlib.lines.Line2D at 0x7c331003e050>,\n",
       " <matplotlib.lines.Line2D at 0x7c331003cdc0>,\n",
       " <matplotlib.lines.Line2D at 0x7c331003d480>,\n",
       " <matplotlib.lines.Line2D at 0x7c331003ddb0>,\n",
       " <matplotlib.lines.Line2D at 0x7c331003e3e0>,\n",
       " <matplotlib.lines.Line2D at 0x7c3310062800>,\n",
       " <matplotlib.lines.Line2D at 0x7c3310060130>,\n",
       " <matplotlib.lines.Line2D at 0x7c331003f910>,\n",
       " <matplotlib.lines.Line2D at 0x7c331003ff10>,\n",
       " <matplotlib.lines.Line2D at 0x7c331003fee0>,\n",
       " <matplotlib.lines.Line2D at 0x7c331003e800>,\n",
       " <matplotlib.lines.Line2D at 0x7c331003f010>,\n",
       " <matplotlib.lines.Line2D at 0x7c331003ea10>,\n",
       " <matplotlib.lines.Line2D at 0x7c331003e530>,\n",
       " <matplotlib.lines.Line2D at 0x7c331003dff0>,\n",
       " <matplotlib.lines.Line2D at 0x7c331003cb50>,\n",
       " <matplotlib.lines.Line2D at 0x7c331003cb20>,\n",
       " <matplotlib.lines.Line2D at 0x7c331003cac0>,\n",
       " <matplotlib.lines.Line2D at 0x7c331003c490>,\n",
       " <matplotlib.lines.Line2D at 0x7c331003eaa0>,\n",
       " <matplotlib.lines.Line2D at 0x7c331004b070>,\n",
       " <matplotlib.lines.Line2D at 0x7c331004af20>,\n",
       " <matplotlib.lines.Line2D at 0x7c331004add0>,\n",
       " <matplotlib.lines.Line2D at 0x7c331004ac80>,\n",
       " <matplotlib.lines.Line2D at 0x7c331004ab30>,\n",
       " <matplotlib.lines.Line2D at 0x7c3310048130>,\n",
       " <matplotlib.lines.Line2D at 0x7c3310048310>,\n",
       " <matplotlib.lines.Line2D at 0x7c3310048340>,\n",
       " <matplotlib.lines.Line2D at 0x7c33100483d0>,\n",
       " <matplotlib.lines.Line2D at 0x7c3310048400>,\n",
       " <matplotlib.lines.Line2D at 0x7c331004a980>,\n",
       " <matplotlib.lines.Line2D at 0x7c33100488b0>]"
      ]
     },
     "execution_count": 32,
     "metadata": {},
     "output_type": "execute_result"
    },
    {
     "data": {
      "image/png": "[encoded data removed]",
      "text/plain": [
       "<Figure size 640x480 with 1 Axes>"
      ]
     },
     "metadata": {},
     "output_type": "display_data"
    },
    {
     "ename": "",
     "evalue": "",
     "output_type": "error",
     "traceback": [
      "\u001b[1;31mThe Kernel crashed while executing code in the current cell or a previous cell. \n",
      "\u001b[1;31mPlease review the code in the cell(s) to identify a possible cause of the failure. \n",
      "\u001b[1;31mClick <a href='https://aka.ms/vscodeJupyterKernelCrash'>here</a> for more info. \n",
      "\u001b[1;31mView Jupyter <a href='command:jupyter.viewOutput'>log</a> for further details."
     ]
    }
   ],
   "source": [
    "plt.plot(ecog_data_bilateral_2018_07_12_S1[\"Time\"], ecog_data_bilateral_2018_07_12_S1[channel_data].values)"
   ]
  },
  {
   "cell_type": "code",
   "execution_count": null,
   "id": "a5ef02ce",
   "metadata": {},
   "outputs": [
    {
     "data": {
      "text/html": [
       "<div>\n",
       "<style scoped>\n",
       "    .dataframe tbody tr th:only-of-type {\n",
       "        vertical-align: middle;\n",
       "    }\n",
       "\n",
       "    .dataframe tbody tr th {\n",
       "        vertical-align: top;\n",
       "    }\n",
       "\n",
       "    .dataframe thead th {\n",
       "        text-align: right;\n",
       "    }\n",
       "</style>\n",
       "<table border=\"1\" class=\"dataframe\">\n",
       "  <thead>\n",
       "    <tr style=\"text-align: right;\">\n",
       "      <th></th>\n",
       "      <th>Time</th>\n",
       "      <th>Channel 1</th>\n",
       "      <th>Channel 2</th>\n",
       "      <th>Channel 3</th>\n",
       "      <th>Channel 4</th>\n",
       "      <th>Channel 5</th>\n",
       "      <th>Channel 6</th>\n",
       "      <th>Channel 7</th>\n",
       "      <th>Channel 8</th>\n",
       "      <th>Channel 9</th>\n",
       "      <th>...</th>\n",
       "      <th>Channel 56</th>\n",
       "      <th>Channel 57</th>\n",
       "      <th>Channel 58</th>\n",
       "      <th>Channel 59</th>\n",
       "      <th>Channel 60</th>\n",
       "      <th>Channel 61</th>\n",
       "      <th>Channel 62</th>\n",
       "      <th>Channel 63</th>\n",
       "      <th>Channel 64</th>\n",
       "      <th>Fs</th>\n",
       "    </tr>\n",
       "  </thead>\n",
       "  <tbody>\n",
       "    <tr>\n",
       "      <th>0</th>\n",
       "      <td>0.000</td>\n",
       "      <td>548.44</td>\n",
       "      <td>445.42</td>\n",
       "      <td>398.44</td>\n",
       "      <td>542.92</td>\n",
       "      <td>617.81</td>\n",
       "      <td>203.23</td>\n",
       "      <td>305.10</td>\n",
       "      <td>402.81</td>\n",
       "      <td>435.21</td>\n",
       "      <td>...</td>\n",
       "      <td>299.48</td>\n",
       "      <td>490.21</td>\n",
       "      <td>227.19</td>\n",
       "      <td>508.02</td>\n",
       "      <td>351.56</td>\n",
       "      <td>386.04</td>\n",
       "      <td>406.98</td>\n",
       "      <td>382.40</td>\n",
       "      <td>754.90</td>\n",
       "      <td>1000</td>\n",
       "    </tr>\n",
       "    <tr>\n",
       "      <th>1</th>\n",
       "      <td>0.001</td>\n",
       "      <td>469.38</td>\n",
       "      <td>417.60</td>\n",
       "      <td>299.79</td>\n",
       "      <td>514.38</td>\n",
       "      <td>521.77</td>\n",
       "      <td>65.21</td>\n",
       "      <td>268.33</td>\n",
       "      <td>342.29</td>\n",
       "      <td>270.10</td>\n",
       "      <td>...</td>\n",
       "      <td>267.92</td>\n",
       "      <td>418.85</td>\n",
       "      <td>121.98</td>\n",
       "      <td>396.88</td>\n",
       "      <td>279.48</td>\n",
       "      <td>385.10</td>\n",
       "      <td>245.42</td>\n",
       "      <td>405.31</td>\n",
       "      <td>654.38</td>\n",
       "      <td>1000</td>\n",
       "    </tr>\n",
       "    <tr>\n",
       "      <th>2</th>\n",
       "      <td>0.002</td>\n",
       "      <td>321.88</td>\n",
       "      <td>202.92</td>\n",
       "      <td>220.83</td>\n",
       "      <td>351.67</td>\n",
       "      <td>380.21</td>\n",
       "      <td>-47.29</td>\n",
       "      <td>200.31</td>\n",
       "      <td>210.00</td>\n",
       "      <td>196.46</td>\n",
       "      <td>...</td>\n",
       "      <td>121.04</td>\n",
       "      <td>438.75</td>\n",
       "      <td>90.94</td>\n",
       "      <td>329.17</td>\n",
       "      <td>215.42</td>\n",
       "      <td>372.29</td>\n",
       "      <td>97.40</td>\n",
       "      <td>346.46</td>\n",
       "      <td>533.23</td>\n",
       "      <td>1000</td>\n",
       "    </tr>\n",
       "    <tr>\n",
       "      <th>3</th>\n",
       "      <td>0.003</td>\n",
       "      <td>268.85</td>\n",
       "      <td>104.38</td>\n",
       "      <td>163.65</td>\n",
       "      <td>266.67</td>\n",
       "      <td>326.15</td>\n",
       "      <td>-66.15</td>\n",
       "      <td>162.40</td>\n",
       "      <td>137.50</td>\n",
       "      <td>157.40</td>\n",
       "      <td>...</td>\n",
       "      <td>125.94</td>\n",
       "      <td>435.42</td>\n",
       "      <td>128.96</td>\n",
       "      <td>296.67</td>\n",
       "      <td>193.75</td>\n",
       "      <td>367.19</td>\n",
       "      <td>110.21</td>\n",
       "      <td>287.71</td>\n",
       "      <td>489.38</td>\n",
       "      <td>1000</td>\n",
       "    </tr>\n",
       "    <tr>\n",
       "      <th>4</th>\n",
       "      <td>0.004</td>\n",
       "      <td>-23.23</td>\n",
       "      <td>-162.08</td>\n",
       "      <td>-154.17</td>\n",
       "      <td>47.29</td>\n",
       "      <td>32.60</td>\n",
       "      <td>-344.79</td>\n",
       "      <td>-54.38</td>\n",
       "      <td>-86.25</td>\n",
       "      <td>-155.83</td>\n",
       "      <td>...</td>\n",
       "      <td>-31.15</td>\n",
       "      <td>260.63</td>\n",
       "      <td>44.06</td>\n",
       "      <td>105.63</td>\n",
       "      <td>52.50</td>\n",
       "      <td>208.54</td>\n",
       "      <td>-99.90</td>\n",
       "      <td>166.98</td>\n",
       "      <td>253.33</td>\n",
       "      <td>1000</td>\n",
       "    </tr>\n",
       "    <tr>\n",
       "      <th>...</th>\n",
       "      <td>...</td>\n",
       "      <td>...</td>\n",
       "      <td>...</td>\n",
       "      <td>...</td>\n",
       "      <td>...</td>\n",
       "      <td>...</td>\n",
       "      <td>...</td>\n",
       "      <td>...</td>\n",
       "      <td>...</td>\n",
       "      <td>...</td>\n",
       "      <td>...</td>\n",
       "      <td>...</td>\n",
       "      <td>...</td>\n",
       "      <td>...</td>\n",
       "      <td>...</td>\n",
       "      <td>...</td>\n",
       "      <td>...</td>\n",
       "      <td>...</td>\n",
       "      <td>...</td>\n",
       "      <td>...</td>\n",
       "      <td>...</td>\n",
       "    </tr>\n",
       "    <tr>\n",
       "      <th>1024393</th>\n",
       "      <td>1024.393</td>\n",
       "      <td>-411.77</td>\n",
       "      <td>-192.08</td>\n",
       "      <td>-22.71</td>\n",
       "      <td>-397.81</td>\n",
       "      <td>-262.81</td>\n",
       "      <td>-111.46</td>\n",
       "      <td>-334.38</td>\n",
       "      <td>-240.21</td>\n",
       "      <td>-277.40</td>\n",
       "      <td>...</td>\n",
       "      <td>18.85</td>\n",
       "      <td>5.21</td>\n",
       "      <td>58.54</td>\n",
       "      <td>-65.83</td>\n",
       "      <td>218.23</td>\n",
       "      <td>-74.38</td>\n",
       "      <td>-136.56</td>\n",
       "      <td>40.83</td>\n",
       "      <td>82.81</td>\n",
       "      <td>1000</td>\n",
       "    </tr>\n",
       "    <tr>\n",
       "      <th>1024394</th>\n",
       "      <td>1024.394</td>\n",
       "      <td>-400.73</td>\n",
       "      <td>-141.46</td>\n",
       "      <td>-9.06</td>\n",
       "      <td>-437.40</td>\n",
       "      <td>-281.46</td>\n",
       "      <td>-72.50</td>\n",
       "      <td>-300.94</td>\n",
       "      <td>-231.04</td>\n",
       "      <td>-276.67</td>\n",
       "      <td>...</td>\n",
       "      <td>-21.67</td>\n",
       "      <td>-49.69</td>\n",
       "      <td>-48.54</td>\n",
       "      <td>-89.17</td>\n",
       "      <td>88.02</td>\n",
       "      <td>-71.88</td>\n",
       "      <td>-221.15</td>\n",
       "      <td>-4.90</td>\n",
       "      <td>-10.31</td>\n",
       "      <td>1000</td>\n",
       "    </tr>\n",
       "    <tr>\n",
       "      <th>1024395</th>\n",
       "      <td>1024.395</td>\n",
       "      <td>-298.85</td>\n",
       "      <td>-66.67</td>\n",
       "      <td>116.15</td>\n",
       "      <td>-315.10</td>\n",
       "      <td>-204.58</td>\n",
       "      <td>25.73</td>\n",
       "      <td>-120.00</td>\n",
       "      <td>-108.75</td>\n",
       "      <td>-208.44</td>\n",
       "      <td>...</td>\n",
       "      <td>-37.50</td>\n",
       "      <td>11.04</td>\n",
       "      <td>-112.92</td>\n",
       "      <td>-15.10</td>\n",
       "      <td>66.35</td>\n",
       "      <td>-73.33</td>\n",
       "      <td>-176.35</td>\n",
       "      <td>-57.81</td>\n",
       "      <td>-28.02</td>\n",
       "      <td>1000</td>\n",
       "    </tr>\n",
       "    <tr>\n",
       "      <th>1024396</th>\n",
       "      <td>1024.396</td>\n",
       "      <td>-389.06</td>\n",
       "      <td>-96.04</td>\n",
       "      <td>127.29</td>\n",
       "      <td>-345.00</td>\n",
       "      <td>-279.90</td>\n",
       "      <td>-26.98</td>\n",
       "      <td>-152.40</td>\n",
       "      <td>-163.96</td>\n",
       "      <td>-245.52</td>\n",
       "      <td>...</td>\n",
       "      <td>-54.06</td>\n",
       "      <td>-20.31</td>\n",
       "      <td>-200.10</td>\n",
       "      <td>28.23</td>\n",
       "      <td>-30.42</td>\n",
       "      <td>-74.48</td>\n",
       "      <td>-180.00</td>\n",
       "      <td>-88.54</td>\n",
       "      <td>-81.25</td>\n",
       "      <td>1000</td>\n",
       "    </tr>\n",
       "    <tr>\n",
       "      <th>1024397</th>\n",
       "      <td>1024.397</td>\n",
       "      <td>-288.85</td>\n",
       "      <td>32.40</td>\n",
       "      <td>161.15</td>\n",
       "      <td>-299.27</td>\n",
       "      <td>-179.58</td>\n",
       "      <td>66.56</td>\n",
       "      <td>-99.79</td>\n",
       "      <td>-32.50</td>\n",
       "      <td>-182.60</td>\n",
       "      <td>...</td>\n",
       "      <td>-113.13</td>\n",
       "      <td>-30.42</td>\n",
       "      <td>-237.81</td>\n",
       "      <td>-12.50</td>\n",
       "      <td>-72.29</td>\n",
       "      <td>-146.46</td>\n",
       "      <td>-138.65</td>\n",
       "      <td>-104.17</td>\n",
       "      <td>-129.58</td>\n",
       "      <td>1000</td>\n",
       "    </tr>\n",
       "  </tbody>\n",
       "</table>\n",
       "<p>1024398 rows × 66 columns</p>\n",
       "</div>"
      ],
      "text/plain": [
       "             Time  Channel 1  Channel 2  Channel 3  Channel 4  Channel 5  \\\n",
       "0           0.000     548.44     445.42     398.44     542.92     617.81   \n",
       "1           0.001     469.38     417.60     299.79     514.38     521.77   \n",
       "2           0.002     321.88     202.92     220.83     351.67     380.21   \n",
       "3           0.003     268.85     104.38     163.65     266.67     326.15   \n",
       "4           0.004     -23.23    -162.08    -154.17      47.29      32.60   \n",
       "...           ...        ...        ...        ...        ...        ...   \n",
       "1024393  1024.393    -411.77    -192.08     -22.71    -397.81    -262.81   \n",
       "1024394  1024.394    -400.73    -141.46      -9.06    -437.40    -281.46   \n",
       "1024395  1024.395    -298.85     -66.67     116.15    -315.10    -204.58   \n",
       "1024396  1024.396    -389.06     -96.04     127.29    -345.00    -279.90   \n",
       "1024397  1024.397    -288.85      32.40     161.15    -299.27    -179.58   \n",
       "\n",
       "         Channel 6  Channel 7  Channel 8  Channel 9  ...  Channel 56  \\\n",
       "0           203.23     305.10     402.81     435.21  ...      299.48   \n",
       "1            65.21     268.33     342.29     270.10  ...      267.92   \n",
       "2           -47.29     200.31     210.00     196.46  ...      121.04   \n",
       "3           -66.15     162.40     137.50     157.40  ...      125.94   \n",
       "4          -344.79     -54.38     -86.25    -155.83  ...      -31.15   \n",
       "...            ...        ...        ...        ...  ...         ...   \n",
       "1024393    -111.46    -334.38    -240.21    -277.40  ...       18.85   \n",
       "1024394     -72.50    -300.94    -231.04    -276.67  ...      -21.67   \n",
       "1024395      25.73    -120.00    -108.75    -208.44  ...      -37.50   \n",
       "1024396     -26.98    -152.40    -163.96    -245.52  ...      -54.06   \n",
       "1024397      66.56     -99.79     -32.50    -182.60  ...     -113.13   \n",
       "\n",
       "         Channel 57  Channel 58  Channel 59  Channel 60  Channel 61  \\\n",
       "0            490.21      227.19      508.02      351.56      386.04   \n",
       "1            418.85      121.98      396.88      279.48      385.10   \n",
       "2            438.75       90.94      329.17      215.42      372.29   \n",
       "3            435.42      128.96      296.67      193.75      367.19   \n",
       "4            260.63       44.06      105.63       52.50      208.54   \n",
       "...             ...         ...         ...         ...         ...   \n",
       "1024393        5.21       58.54      -65.83      218.23      -74.38   \n",
       "1024394      -49.69      -48.54      -89.17       88.02      -71.88   \n",
       "1024395       11.04     -112.92      -15.10       66.35      -73.33   \n",
       "1024396      -20.31     -200.10       28.23      -30.42      -74.48   \n",
       "1024397      -30.42     -237.81      -12.50      -72.29     -146.46   \n",
       "\n",
       "         Channel 62  Channel 63  Channel 64    Fs  \n",
       "0            406.98      382.40      754.90  1000  \n",
       "1            245.42      405.31      654.38  1000  \n",
       "2             97.40      346.46      533.23  1000  \n",
       "3            110.21      287.71      489.38  1000  \n",
       "4            -99.90      166.98      253.33  1000  \n",
       "...             ...         ...         ...   ...  \n",
       "1024393     -136.56       40.83       82.81  1000  \n",
       "1024394     -221.15       -4.90      -10.31  1000  \n",
       "1024395     -176.35      -57.81      -28.02  1000  \n",
       "1024396     -180.00      -88.54      -81.25  1000  \n",
       "1024397     -138.65     -104.17     -129.58  1000  \n",
       "\n",
       "[1024398 rows x 66 columns]"
      ]
     },
     "execution_count": 9,
     "metadata": {},
     "output_type": "execute_result"
    }
   ],
   "source": [
    "ecog_data_bilateral_2018_07_12_S1"
   ]
  },
  {
   "cell_type": "code",
   "execution_count": null,
   "id": "cde41391",
   "metadata": {},
   "outputs": [],
   "source": [
    "ecog_data_bilateral_2018_07_12_S1 = pd.read_json(data_file_l[1])"
   ]
  },
  {
   "cell_type": "code",
   "execution_count": 29,
   "id": "2ca09cdd",
   "metadata": {},
   "outputs": [
    {
     "ename": "KeyboardInterrupt",
     "evalue": "",
     "output_type": "error",
     "traceback": [
      "\u001b[0;31m---------------------------------------------------------------------------\u001b[0m",
      "\u001b[0;31mStopIteration\u001b[0m                             Traceback (most recent call last)",
      "File \u001b[0;32m~/anaconda3/envs/torch/lib/python3.10/site-packages/pandas/io/parsers/c_parser_wrapper.py:234\u001b[0m, in \u001b[0;36mCParserWrapper.read\u001b[0;34m(self, nrows)\u001b[0m\n\u001b[1;32m    233\u001b[0m \u001b[38;5;28;01mif\u001b[39;00m \u001b[38;5;28mself\u001b[39m\u001b[38;5;241m.\u001b[39mlow_memory:\n\u001b[0;32m--> 234\u001b[0m     chunks \u001b[38;5;241m=\u001b[39m \u001b[38;5;28;43mself\u001b[39;49m\u001b[38;5;241;43m.\u001b[39;49m\u001b[43m_reader\u001b[49m\u001b[38;5;241;43m.\u001b[39;49m\u001b[43mread_low_memory\u001b[49m\u001b[43m(\u001b[49m\u001b[43mnrows\u001b[49m\u001b[43m)\u001b[49m\n\u001b[1;32m    235\u001b[0m     \u001b[38;5;66;03m# destructive to chunks\u001b[39;00m\n",
      "File \u001b[0;32mparsers.pyx:863\u001b[0m, in \u001b[0;36mpandas._libs.parsers.TextReader.read_low_memory\u001b[0;34m()\u001b[0m\n",
      "\u001b[0;31mStopIteration\u001b[0m: ",
      "\nDuring handling of the above exception, another exception occurred:\n",
      "\u001b[0;31mKeyboardInterrupt\u001b[0m                         Traceback (most recent call last)",
      "Cell \u001b[0;32mIn[29], line 1\u001b[0m\n\u001b[0;32m----> 1\u001b[0m motion_data_bilateral_2018_07_12_S1 \u001b[38;5;241m=\u001b[39m \u001b[43mpd\u001b[49m\u001b[38;5;241;43m.\u001b[39;49m\u001b[43mread_csv\u001b[49m\u001b[43m(\u001b[49m\u001b[43mactive_data\u001b[49m\u001b[43m)\u001b[49m\n",
      "File \u001b[0;32m~/anaconda3/envs/torch/lib/python3.10/site-packages/pandas/io/parsers/readers.py:1026\u001b[0m, in \u001b[0;36mread_csv\u001b[0;34m(filepath_or_buffer, sep, delimiter, header, names, index_col, usecols, dtype, engine, converters, true_values, false_values, skipinitialspace, skiprows, skipfooter, nrows, na_values, keep_default_na, na_filter, verbose, skip_blank_lines, parse_dates, infer_datetime_format, keep_date_col, date_parser, date_format, dayfirst, cache_dates, iterator, chunksize, compression, thousands, decimal, lineterminator, quotechar, quoting, doublequote, escapechar, comment, encoding, encoding_errors, dialect, on_bad_lines, delim_whitespace, low_memory, memory_map, float_precision, storage_options, dtype_backend)\u001b[0m\n\u001b[1;32m   1013\u001b[0m kwds_defaults \u001b[38;5;241m=\u001b[39m _refine_defaults_read(\n\u001b[1;32m   1014\u001b[0m     dialect,\n\u001b[1;32m   1015\u001b[0m     delimiter,\n\u001b[0;32m   (...)\u001b[0m\n\u001b[1;32m   1022\u001b[0m     dtype_backend\u001b[38;5;241m=\u001b[39mdtype_backend,\n\u001b[1;32m   1023\u001b[0m )\n\u001b[1;32m   1024\u001b[0m kwds\u001b[38;5;241m.\u001b[39mupdate(kwds_defaults)\n\u001b[0;32m-> 1026\u001b[0m \u001b[38;5;28;01mreturn\u001b[39;00m \u001b[43m_read\u001b[49m\u001b[43m(\u001b[49m\u001b[43mfilepath_or_buffer\u001b[49m\u001b[43m,\u001b[49m\u001b[43m \u001b[49m\u001b[43mkwds\u001b[49m\u001b[43m)\u001b[49m\n",
      "File \u001b[0;32m~/anaconda3/envs/torch/lib/python3.10/site-packages/pandas/io/parsers/readers.py:626\u001b[0m, in \u001b[0;36m_read\u001b[0;34m(filepath_or_buffer, kwds)\u001b[0m\n\u001b[1;32m    623\u001b[0m     \u001b[38;5;28;01mreturn\u001b[39;00m parser\n\u001b[1;32m    625\u001b[0m \u001b[38;5;28;01mwith\u001b[39;00m parser:\n\u001b[0;32m--> 626\u001b[0m     \u001b[38;5;28;01mreturn\u001b[39;00m \u001b[43mparser\u001b[49m\u001b[38;5;241;43m.\u001b[39;49m\u001b[43mread\u001b[49m\u001b[43m(\u001b[49m\u001b[43mnrows\u001b[49m\u001b[43m)\u001b[49m\n",
      "File \u001b[0;32m~/anaconda3/envs/torch/lib/python3.10/site-packages/pandas/io/parsers/readers.py:1923\u001b[0m, in \u001b[0;36mTextFileReader.read\u001b[0;34m(self, nrows)\u001b[0m\n\u001b[1;32m   1916\u001b[0m nrows \u001b[38;5;241m=\u001b[39m validate_integer(\u001b[38;5;124m\"\u001b[39m\u001b[38;5;124mnrows\u001b[39m\u001b[38;5;124m\"\u001b[39m, nrows)\n\u001b[1;32m   1917\u001b[0m \u001b[38;5;28;01mtry\u001b[39;00m:\n\u001b[1;32m   1918\u001b[0m     \u001b[38;5;66;03m# error: \"ParserBase\" has no attribute \"read\"\u001b[39;00m\n\u001b[1;32m   1919\u001b[0m     (\n\u001b[1;32m   1920\u001b[0m         index,\n\u001b[1;32m   1921\u001b[0m         columns,\n\u001b[1;32m   1922\u001b[0m         col_dict,\n\u001b[0;32m-> 1923\u001b[0m     ) \u001b[38;5;241m=\u001b[39m \u001b[38;5;28;43mself\u001b[39;49m\u001b[38;5;241;43m.\u001b[39;49m\u001b[43m_engine\u001b[49m\u001b[38;5;241;43m.\u001b[39;49m\u001b[43mread\u001b[49m\u001b[43m(\u001b[49m\u001b[43m  \u001b[49m\u001b[38;5;66;43;03m# type: ignore[attr-defined]\u001b[39;49;00m\n\u001b[1;32m   1924\u001b[0m \u001b[43m        \u001b[49m\u001b[43mnrows\u001b[49m\n\u001b[1;32m   1925\u001b[0m \u001b[43m    \u001b[49m\u001b[43m)\u001b[49m\n\u001b[1;32m   1926\u001b[0m \u001b[38;5;28;01mexcept\u001b[39;00m \u001b[38;5;167;01mException\u001b[39;00m:\n\u001b[1;32m   1927\u001b[0m     \u001b[38;5;28mself\u001b[39m\u001b[38;5;241m.\u001b[39mclose()\n",
      "File \u001b[0;32m~/anaconda3/envs/torch/lib/python3.10/site-packages/pandas/io/parsers/c_parser_wrapper.py:256\u001b[0m, in \u001b[0;36mCParserWrapper.read\u001b[0;34m(self, nrows)\u001b[0m\n\u001b[1;32m    253\u001b[0m     \u001b[38;5;28;01mif\u001b[39;00m \u001b[38;5;28mself\u001b[39m\u001b[38;5;241m.\u001b[39musecols \u001b[38;5;129;01mis\u001b[39;00m \u001b[38;5;129;01mnot\u001b[39;00m \u001b[38;5;28;01mNone\u001b[39;00m:\n\u001b[1;32m    254\u001b[0m         columns \u001b[38;5;241m=\u001b[39m \u001b[38;5;28mself\u001b[39m\u001b[38;5;241m.\u001b[39m_filter_usecols(columns)\n\u001b[0;32m--> 256\u001b[0m     col_dict \u001b[38;5;241m=\u001b[39m {k: v \u001b[38;5;28;01mfor\u001b[39;00m k, v \u001b[38;5;129;01min\u001b[39;00m col_dict\u001b[38;5;241m.\u001b[39mitems() \u001b[38;5;28;01mif\u001b[39;00m k \u001b[38;5;129;01min\u001b[39;00m columns}\n\u001b[1;32m    258\u001b[0m     \u001b[38;5;28;01mreturn\u001b[39;00m index, columns, col_dict\n\u001b[1;32m    260\u001b[0m \u001b[38;5;28;01melse\u001b[39;00m:\n",
      "File \u001b[0;32m~/anaconda3/envs/torch/lib/python3.10/site-packages/pandas/io/parsers/c_parser_wrapper.py:256\u001b[0m, in \u001b[0;36m<dictcomp>\u001b[0;34m(.0)\u001b[0m\n\u001b[1;32m    253\u001b[0m     \u001b[38;5;28;01mif\u001b[39;00m \u001b[38;5;28mself\u001b[39m\u001b[38;5;241m.\u001b[39musecols \u001b[38;5;129;01mis\u001b[39;00m \u001b[38;5;129;01mnot\u001b[39;00m \u001b[38;5;28;01mNone\u001b[39;00m:\n\u001b[1;32m    254\u001b[0m         columns \u001b[38;5;241m=\u001b[39m \u001b[38;5;28mself\u001b[39m\u001b[38;5;241m.\u001b[39m_filter_usecols(columns)\n\u001b[0;32m--> 256\u001b[0m     col_dict \u001b[38;5;241m=\u001b[39m {k: v \u001b[38;5;28;01mfor\u001b[39;00m k, v \u001b[38;5;129;01min\u001b[39;00m col_dict\u001b[38;5;241m.\u001b[39mitems() \u001b[38;5;28;01mif\u001b[39;00m k \u001b[38;5;129;01min\u001b[39;00m columns}\n\u001b[1;32m    258\u001b[0m     \u001b[38;5;28;01mreturn\u001b[39;00m index, columns, col_dict\n\u001b[1;32m    260\u001b[0m \u001b[38;5;28;01melse\u001b[39;00m:\n",
      "\u001b[0;31mKeyboardInterrupt\u001b[0m: "
     ]
    }
   ],
   "source": [
    "motion_data_bilateral_2018_07_12_S1 = pd.read_csv(active_data)"
   ]
  },
  {
   "cell_type": "code",
   "execution_count": 21,
   "id": "806049ef",
   "metadata": {},
   "outputs": [
    {
     "data": {
      "text/html": [
       "<div>\n",
       "<style scoped>\n",
       "    .dataframe tbody tr th:only-of-type {\n",
       "        vertical-align: middle;\n",
       "    }\n",
       "\n",
       "    .dataframe tbody tr th {\n",
       "        vertical-align: top;\n",
       "    }\n",
       "\n",
       "    .dataframe thead th {\n",
       "        text-align: right;\n",
       "    }\n",
       "</style>\n",
       "<table border=\"1\" class=\"dataframe\">\n",
       "  <thead>\n",
       "    <tr style=\"text-align: right;\">\n",
       "      <th></th>\n",
       "      <th>Motion_time</th>\n",
       "      <th>Left_Wrist_X</th>\n",
       "      <th>Left_Wrist_Y</th>\n",
       "      <th>Left_Wrist_Z</th>\n",
       "      <th>Right_Wrist_X</th>\n",
       "      <th>Right_Wrist_Y</th>\n",
       "      <th>Right_Wrist_Z</th>\n",
       "      <th>Fsm</th>\n",
       "    </tr>\n",
       "  </thead>\n",
       "  <tbody>\n",
       "    <tr>\n",
       "      <th>0</th>\n",
       "      <td>0.000</td>\n",
       "      <td>-0.589976</td>\n",
       "      <td>-0.590399</td>\n",
       "      <td>-0.228992</td>\n",
       "      <td>-2.308375</td>\n",
       "      <td>0.156087</td>\n",
       "      <td>1.136016</td>\n",
       "      <td>50</td>\n",
       "    </tr>\n",
       "    <tr>\n",
       "      <th>1</th>\n",
       "      <td>0.024</td>\n",
       "      <td>-0.587234</td>\n",
       "      <td>-0.570032</td>\n",
       "      <td>-0.211194</td>\n",
       "      <td>-2.320215</td>\n",
       "      <td>0.178141</td>\n",
       "      <td>1.007657</td>\n",
       "      <td>50</td>\n",
       "    </tr>\n",
       "    <tr>\n",
       "      <th>2</th>\n",
       "      <td>0.044</td>\n",
       "      <td>-0.577829</td>\n",
       "      <td>-0.577735</td>\n",
       "      <td>-0.216256</td>\n",
       "      <td>-2.214928</td>\n",
       "      <td>0.090902</td>\n",
       "      <td>0.881989</td>\n",
       "      <td>50</td>\n",
       "    </tr>\n",
       "    <tr>\n",
       "      <th>3</th>\n",
       "      <td>0.062</td>\n",
       "      <td>-0.525398</td>\n",
       "      <td>-0.500043</td>\n",
       "      <td>-0.190533</td>\n",
       "      <td>-2.149553</td>\n",
       "      <td>0.041767</td>\n",
       "      <td>0.758740</td>\n",
       "      <td>50</td>\n",
       "    </tr>\n",
       "    <tr>\n",
       "      <th>4</th>\n",
       "      <td>0.082</td>\n",
       "      <td>-0.567822</td>\n",
       "      <td>-0.568262</td>\n",
       "      <td>-0.240272</td>\n",
       "      <td>-2.122593</td>\n",
       "      <td>0.021872</td>\n",
       "      <td>0.642614</td>\n",
       "      <td>50</td>\n",
       "    </tr>\n",
       "    <tr>\n",
       "      <th>...</th>\n",
       "      <td>...</td>\n",
       "      <td>...</td>\n",
       "      <td>...</td>\n",
       "      <td>...</td>\n",
       "      <td>...</td>\n",
       "      <td>...</td>\n",
       "      <td>...</td>\n",
       "      <td>...</td>\n",
       "    </tr>\n",
       "    <tr>\n",
       "      <th>51288</th>\n",
       "      <td>1026.151</td>\n",
       "      <td>0.983919</td>\n",
       "      <td>1.375122</td>\n",
       "      <td>-0.250602</td>\n",
       "      <td>1.189555</td>\n",
       "      <td>0.672937</td>\n",
       "      <td>0.693372</td>\n",
       "      <td>50</td>\n",
       "    </tr>\n",
       "    <tr>\n",
       "      <th>51289</th>\n",
       "      <td>1026.170</td>\n",
       "      <td>0.996104</td>\n",
       "      <td>1.382786</td>\n",
       "      <td>-0.243810</td>\n",
       "      <td>1.192434</td>\n",
       "      <td>0.676611</td>\n",
       "      <td>0.612822</td>\n",
       "      <td>50</td>\n",
       "    </tr>\n",
       "    <tr>\n",
       "      <th>51290</th>\n",
       "      <td>1026.191</td>\n",
       "      <td>0.987838</td>\n",
       "      <td>1.387219</td>\n",
       "      <td>-0.243038</td>\n",
       "      <td>1.205653</td>\n",
       "      <td>0.697864</td>\n",
       "      <td>0.532673</td>\n",
       "      <td>50</td>\n",
       "    </tr>\n",
       "    <tr>\n",
       "      <th>51291</th>\n",
       "      <td>1026.211</td>\n",
       "      <td>0.978803</td>\n",
       "      <td>1.392886</td>\n",
       "      <td>-0.242469</td>\n",
       "      <td>1.207818</td>\n",
       "      <td>0.697904</td>\n",
       "      <td>0.456947</td>\n",
       "      <td>50</td>\n",
       "    </tr>\n",
       "    <tr>\n",
       "      <th>51292</th>\n",
       "      <td>1026.241</td>\n",
       "      <td>1.059255</td>\n",
       "      <td>1.383485</td>\n",
       "      <td>-0.169499</td>\n",
       "      <td>1.204009</td>\n",
       "      <td>0.688064</td>\n",
       "      <td>0.389089</td>\n",
       "      <td>50</td>\n",
       "    </tr>\n",
       "  </tbody>\n",
       "</table>\n",
       "<p>51293 rows × 8 columns</p>\n",
       "</div>"
      ],
      "text/plain": [
       "       Motion_time  Left_Wrist_X  Left_Wrist_Y  Left_Wrist_Z  Right_Wrist_X  \\\n",
       "0            0.000     -0.589976     -0.590399     -0.228992      -2.308375   \n",
       "1            0.024     -0.587234     -0.570032     -0.211194      -2.320215   \n",
       "2            0.044     -0.577829     -0.577735     -0.216256      -2.214928   \n",
       "3            0.062     -0.525398     -0.500043     -0.190533      -2.149553   \n",
       "4            0.082     -0.567822     -0.568262     -0.240272      -2.122593   \n",
       "...            ...           ...           ...           ...            ...   \n",
       "51288     1026.151      0.983919      1.375122     -0.250602       1.189555   \n",
       "51289     1026.170      0.996104      1.382786     -0.243810       1.192434   \n",
       "51290     1026.191      0.987838      1.387219     -0.243038       1.205653   \n",
       "51291     1026.211      0.978803      1.392886     -0.242469       1.207818   \n",
       "51292     1026.241      1.059255      1.383485     -0.169499       1.204009   \n",
       "\n",
       "       Right_Wrist_Y  Right_Wrist_Z  Fsm  \n",
       "0           0.156087       1.136016   50  \n",
       "1           0.178141       1.007657   50  \n",
       "2           0.090902       0.881989   50  \n",
       "3           0.041767       0.758740   50  \n",
       "4           0.021872       0.642614   50  \n",
       "...              ...            ...  ...  \n",
       "51288       0.672937       0.693372   50  \n",
       "51289       0.676611       0.612822   50  \n",
       "51290       0.697864       0.532673   50  \n",
       "51291       0.697904       0.456947   50  \n",
       "51292       0.688064       0.389089   50  \n",
       "\n",
       "[51293 rows x 8 columns]"
      ]
     },
     "execution_count": 21,
     "metadata": {},
     "output_type": "execute_result"
    }
   ],
   "source": [
    "motion_data_bilateral_2018_07_12_S1"
   ]
  },
  {
   "cell_type": "code",
   "execution_count": null,
   "id": "22f0319e",
   "metadata": {},
   "outputs": [],
   "source": [
    "ecog_data_bilateral_2018_07_12_S1 = pd.read_csv()"
   ]
  }
 ],
 "metadata": {
  "kernelspec": {
   "display_name": "torch",
   "language": "python",
   "name": "python3"
  },
  "language_info": {
   "codemirror_mode": {
    "name": "ipython",
    "version": 3
   },
   "file_extension": ".py",
   "mimetype": "text/x-python",
   "name": "python",
   "nbconvert_exporter": "python",
   "pygments_lexer": "ipython3",
   "version": "3.10.16"
  }
 },
 "nbformat": 4,
 "nbformat_minor": 5
}
